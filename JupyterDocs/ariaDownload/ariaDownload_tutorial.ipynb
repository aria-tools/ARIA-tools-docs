{
 "cells": [
  {
   "cell_type": "markdown",
   "metadata": {},
   "source": [
    "# Downloading GUNW products using ariaDownload.py\n",
    "\n",
    "**Author**: Brett A. Buzzanga, David Bekaert - Jet Propulsion Laboratory\n",
    "\n",
    "This notebook demonstrates how to use the productAPI.py command line tool to download Sentinel 1 ARIA Geocoded UNWrapped interferogram (**GUNW**) products.  A detailed overview of the ARIA GUNW product with respect to processing, formatting, sampling, and data layers can be found on the [ARIA website](https://aria.jpl.nasa.gov/node/97).\n",
    "\n",
    "The **`ariaDownload.py`** program wraps around the NASA's ASF DAAC API and [Bulk Download Service](https://bulk-download.asf.alaska.edu/help). The ASF Bulk Download Service handles most of the heavy lifting of the data-download and will conveniently skip previously downloaded files, and re-download partially downloaded files.  \n",
    "In this notebook, we will demonstrate **`ariaDownload.py`** functionality along track 4, which intersects the U.S. East Coast in southeastern Virginia.\n",
    "\n",
    "\n",
    "<div class=\"alert alert-warning\">\n",
    "<b>Potential download failure:</b> \n",
    "GUNW products are hosted at the NASA ASF DAAC. Downloading them requires a NASA Earthdata URS user login and requires users to add \"GRFN Door (PROD)\" to their URS approved applications\n",
    "\n",
    "<b>Login Credentials:</b>\n",
    "Save your user-name and password to a `.netrc` file in your `$HOME` directory, or pass the combination explicitly using `ariaDownload.py --user <user> --pass <pass>`.\n",
    "\n",
    "\n",
    "To create a .netrc file, pass your earthdata credentials as so:\n",
    "```\n",
    "echo \"machine urs.earthdata.nasa.gov login <user> password <pass>\" > ~/.netrc chmod 600 ~/.netrc\n",
    "```\n",
    "</div>"
   ]
  },
  {
   "cell_type": "markdown",
   "metadata": {},
   "source": [
    "## Overview of the ariaDownload.py program"
   ]
  },
  {
   "cell_type": "markdown",
   "metadata": {},
   "source": [
    "Running **`ariaDownload.py`** with no options, or with **`-h`**, will show the parameters options as well as some examples. At minimum, users need to specify a spatial constraint either as a track number or bounding box (can be a shapefile).\n",
    "\n",
    "Let us explore what some of the other options are:"
   ]
  },
  {
   "cell_type": "code",
   "execution_count": 1,
   "metadata": {},
   "outputs": [
    {
     "name": "stdout",
     "output_type": "stream",
     "text": [
      "usage: ariaDownload.py [-h] [-o OUTPUT] [-t TRACK] [-b BBOX] [-w WD]\r\n",
      "                       [-s START] [-e END] [-u USER] [-p PASSW] [-l DAYSLT]\r\n",
      "                       [-m DAYSGT] [-i IFG] [-d FLIGHTDIR] [-v]\r\n",
      "\r\n",
      "Command line interface to download GUNW products from the ASF DAAC. GUNW products are hosted at the NASA ASF DAAC.\r\n",
      "Downloading them requires a NASA Earthdata URS user login and requires users to add \"GRFN Door (PROD)\" and \"ASF Datapool Products\" to their URS approved applications.\r\n",
      "\r\n",
      "optional arguments:\r\n",
      "  -h, --help            show this help message and exit\r\n",
      "  -o OUTPUT, --output OUTPUT\r\n",
      "                        Output type, default is \"Download\". \"Download\",\r\n",
      "                        \"Count\", \"Url\" and \"Kmz\" are currently supported. Use\r\n",
      "                        \"Url\" for ingestion to aria*.py\r\n",
      "  -t TRACK, --track TRACK\r\n",
      "                        track to download; single number (including leading\r\n",
      "                        zeros) or comma separated\r\n",
      "  -b BBOX, --bbox BBOX  Lat/Lon Bounding SNWE, or GDAL-readable file\r\n",
      "                        containing POLYGON geometry.\r\n",
      "  -w WD, --workdir WD   Specify directory to deposit all outputs. Default is\r\n",
      "                        \"products\" in local directory where script is\r\n",
      "                        launched.\r\n",
      "  -s START, --start START\r\n",
      "                        Start date as YYYYMMDD; If none provided, starts at\r\n",
      "                        beginning of Sentinel record (2014).\r\n",
      "  -e END, --end END     End date as YYYYMMDD. If none provided, ends today.\r\n",
      "  -u USER, --user USER  NASA Earthdata URS user login. Users must add \"GRFN\r\n",
      "                        Door (PROD)\" and \"ASF Datapool Products\" to their URS\r\n",
      "                        approved applications.\r\n",
      "  -p PASSW, --pass PASSW\r\n",
      "                        NASA Earthdata URS user password. Users must add \"GRFN\r\n",
      "                        Door (PROD)\" and \"ASF Datapool Products\" to their URS\r\n",
      "                        approved applications.\r\n",
      "  -l DAYSLT, --daysless DAYSLT\r\n",
      "                        Take pairs with a temporal baseline -- days less than\r\n",
      "                        this value.\r\n",
      "  -m DAYSGT, --daysmore DAYSGT\r\n",
      "                        Take pairs with a temporal baseline -- days greater\r\n",
      "                        than this value. Example, annual pairs:\r\n",
      "                        ariaDownload.py -t 004 --daysmore 364.\r\n",
      "  -i IFG, --ifg IFG     Retrieve one interferogram by its start/end date,\r\n",
      "                        specified as YYYYMMDD_YYYYMMDD (order independent)\r\n",
      "  -d FLIGHTDIR, --direction FLIGHTDIR\r\n",
      "                        Flight direction, options: ascending, a, descending, d\r\n",
      "  -v, --verbose         Print products to be downloaded to stdout\r\n",
      "\r\n",
      "Examples of use:\r\n",
      "\t ariaDownload.py --track 004 --output count\r\n",
      "\t ariaDownload.py --bbox \"36.75 37.225 -76.655 -75.928\"\r\n",
      "\t ariaDownload.py -t 004,077 --start 20190101 -o count\r\n"
     ]
    }
   ],
   "source": [
    "!ariaDownload.py"
   ]
  },
  {
   "cell_type": "markdown",
   "metadata": {},
   "source": [
    "## 1. Example of ariaDownload output options"
   ]
  },
  {
   "cell_type": "markdown",
   "metadata": {},
   "source": [
    "The user has the option to **download**, **count**, and generate a **kmz** corresponding to return of their search criteria. Below we provide example for each of these over Track 4."
   ]
  },
  {
   "cell_type": "markdown",
   "metadata": {},
   "source": [
    "### Count the number of products"
   ]
  },
  {
   "cell_type": "markdown",
   "metadata": {},
   "source": [
    "To get a count of the number of products, without downloading data, provide the **`--output`** option with the **`count`** argument. To get information on the exact product filenames also include the verbose option **`-v`**."
   ]
  },
  {
   "cell_type": "code",
   "execution_count": 6,
   "metadata": {},
   "outputs": [
    {
     "name": "stdout",
     "output_type": "stream",
     "text": [
      "https://api.daac.asf.alaska.edu/services/search/param?asfplatform=Sentinel-1%20Interferogram%20(BETA)&processingLevel=GUNW_STD&output=JSON&relativeOrbit=4\n",
      "\n",
      "Found -- 1793 -- products\n"
     ]
    }
   ],
   "source": [
    "!ariaDownload.py --track 4 --output count"
   ]
  },
  {
   "cell_type": "markdown",
   "metadata": {},
   "source": [
    "### Generate list of virtual products from ASF S3 bucket (BETA)"
   ]
  },
  {
   "cell_type": "markdown",
   "metadata": {},
   "source": [
    "To generate a textfile containing a list of product URLs from the ASF S3 bucket, without downloading data, provide the **`--output`** option with the **`url`** argument. To get information on the exact product filenames also include the verbose option **`-v`**. Extracting layers virtually by leveraging this list of URLs is currently only supported by systems with the following packages: Linux kernel >=4.3 and libnetcdf >=4.5 "
   ]
  },
  {
   "cell_type": "code",
   "execution_count": 7,
   "metadata": {},
   "outputs": [
    {
     "name": "stdout",
     "output_type": "stream",
     "text": [
      "https://api.daac.asf.alaska.edu/services/search/param?asfplatform=Sentinel-1%20Interferogram%20(BETA)&processingLevel=GUNW_STD&output=JSON&relativeOrbit=4\n",
      "Wrote -- 1793 -- product urls to: /Users/dbekaert/Software/ARIA_tools/unavco/JupyterDocs/ariaDownload/products/download_products_4track_1.txt\n"
     ]
    }
   ],
   "source": [
    "!ariaDownload.py --track 4 --output url"
   ]
  },
  {
   "cell_type": "markdown",
   "metadata": {},
   "source": [
    "We can now have a look at the generated textfile, which contains the URLs of all standard products over the specified track. As there are a lot of products we will only have a look at the first 10."
   ]
  },
  {
   "cell_type": "code",
   "execution_count": 8,
   "metadata": {},
   "outputs": [
    {
     "name": "stdout",
     "output_type": "stream",
     "text": [
      "https://grfn.asf.alaska.edu/door/download/S1-GUNW-A-R-004-tops-20200307_20200212-230838-45104N_43235N-PP-935c-v2_0_2.nc\r\n",
      "https://grfn.asf.alaska.edu/door/download/S1-GUNW-A-R-004-tops-20200307_20200224-230838-45104N_43235N-PP-b27e-v2_0_2.nc\r\n",
      "https://grfn.asf.alaska.edu/door/download/S1-GUNW-A-R-004-tops-20200307_20200212-230814-43615N_41745N-PP-3e7c-v2_0_2.nc\r\n",
      "https://grfn.asf.alaska.edu/door/download/S1-GUNW-A-R-004-tops-20200307_20200224-230814-43615N_41745N-PP-09e3-v2_0_2.nc\r\n",
      "https://grfn.asf.alaska.edu/door/download/S1-GUNW-A-R-004-tops-20200307_20200212-230748-42125N_40255N-PP-9220-v2_0_2.nc\r\n",
      "https://grfn.asf.alaska.edu/door/download/S1-GUNW-A-R-004-tops-20200307_20200224-230748-42125N_40255N-PP-22a3-v2_0_2.nc\r\n",
      "https://grfn.asf.alaska.edu/door/download/S1-GUNW-A-R-004-tops-20200307_20200212-230723-40636N_38764N-PP-8a4f-v2_0_2.nc\r\n",
      "https://grfn.asf.alaska.edu/door/download/S1-GUNW-A-R-004-tops-20200307_20200224-230723-40636N_38764N-PP-ec1e-v2_0_2.nc\r\n",
      "https://grfn.asf.alaska.edu/door/download/S1-GUNW-A-R-004-tops-20200307_20200212-230659-39145N_37271N-PP-4fe8-v2_0_2.nc\r\n",
      "https://grfn.asf.alaska.edu/door/download/S1-GUNW-A-R-004-tops-20200307_20200224-230659-39145N_37271N-PP-f4b6-v2_0_2.nc\r\n"
     ]
    }
   ],
   "source": [
    "!head -n 10 products/download_products_4track_0.txt"
   ]
  },
  {
   "cell_type": "markdown",
   "metadata": {},
   "source": [
    "### Generate KMZ of products"
   ]
  },
  {
   "cell_type": "markdown",
   "metadata": {},
   "source": [
    "To generate a Google Earth kmz, without downloading data, provide the **`--output`** option with the **`kmz`** argument. In case you also want to get information on the exact product filenames you can enbale the verbose option by adding **`-v`**. The result is shown in **Fig. 1**."
   ]
  },
  {
   "cell_type": "code",
   "execution_count": 9,
   "metadata": {},
   "outputs": [
    {
     "name": "stdout",
     "output_type": "stream",
     "text": [
      "https://api.daac.asf.alaska.edu/services/search/param?asfplatform=Sentinel-1%20Interferogram%20(BETA)&processingLevel=GUNW_STD&output=JSON&relativeOrbit=4\n",
      "Wrote .KMZ to:\n",
      "\t /Users/dbekaert/Software/ARIA_tools/unavco/JupyterDocs/ariaDownload/products/download_products_4track_1.kmz\n"
     ]
    }
   ],
   "source": [
    "!ariaDownload.py --track 4 --output kmz"
   ]
  },
  {
   "cell_type": "markdown",
   "metadata": {},
   "source": [
    "<img src=\"./support_docs/track_004.png\" alt=\"track\" width=\"700\">\n",
    "<center><b>Fig. 1</b> Image of products available along Track 4. </center>"
   ]
  },
  {
   "cell_type": "markdown",
   "metadata": {},
   "source": [
    "### Download products"
   ]
  },
  {
   "cell_type": "markdown",
   "metadata": {},
   "source": [
    "To download the products, simply omit the **`--output`** option or specify it with the **`download`** argument. Examples for downloading all data on track 4 include:\n",
    "\n",
    "`ariaDownload.py -t 004`\n",
    "\n",
    "`ariaDownload.py -t 004 -o download`\n",
    "\n",
    "If user/pass are not explicitly passed, the wrapper will look for a `.netrc` in the `$HOME` directory. Alternatively, you can pass them directly as `ariaDownload.py --user <USER> --pass <PASS>`. Otherwise, you will be prompted to enter them.\n",
    "\n",
    "By default, the products will be downloaded into the *./products* folder. You can specify a different location using the **`-w`** option, such as:\n",
    "\n",
    "`ariaDownload.py -t 004 -w /insarHome`\n",
    "\n",
    "<div class=\"alert alert-warning\">\n",
    "<b>Potential download failure:</b>\n",
    "GUNW products are hosted at the NASA ASF DAAC. Downloading them requires a NASA Earthdata URS user login and requires users to add \"GRFN Door (PROD)\" to their URS approved applications\n",
    "</div>"
   ]
  },
  {
   "cell_type": "markdown",
   "metadata": {},
   "source": [
    "## 2. Spatial-temporal subsetting"
   ]
  },
  {
   "cell_type": "markdown",
   "metadata": {},
   "source": [
    "The **`ariaDownload.py`** program has a number of options availble for subsetting the search of products in the spatial and temporal domain, including **bounding box**, **start/end date**, **aquisition geometry**, **temporal baseline**, or **interferogram** options. Below, using the count option for brevity, we demonstrate each of them."
   ]
  },
  {
   "cell_type": "markdown",
   "metadata": {},
   "source": [
    "### Subsetting by Bounding Box"
   ]
  },
  {
   "cell_type": "markdown",
   "metadata": {},
   "source": [
    "Bounding box can either be specified as **SNWE** coordinates (a string with quotation) or by providing a **shapefile** (GeoJSON or ESRI shapefiles) to the **`--bbox`** option. \n",
    "\n",
    "An example based on subsetting using **SNWE** coordinates and the corresponding kmz is shown in **Fig. 2**:"
   ]
  },
  {
   "cell_type": "code",
   "execution_count": 10,
   "metadata": {},
   "outputs": [
    {
     "name": "stdout",
     "output_type": "stream",
     "text": [
      "https://api.daac.asf.alaska.edu/services/search/param?asfplatform=Sentinel-1%20Interferogram%20(BETA)&processingLevel=GUNW_STD&output=JSON&relativeOrbit=4&bbox=-76.655,36.75,-75.928,37.225\n",
      "\n",
      "Found -- 254 -- products\n"
     ]
    }
   ],
   "source": [
    "!ariaDownload.py --track 4 --bbox \"36.75 37.225 -76.655 -75.928\" -o count"
   ]
  },
  {
   "cell_type": "markdown",
   "metadata": {},
   "source": [
    "<img src=\"./support_docs/crop_hr.png\" alt=\"crop\" width=\"700\">\n",
    "\n",
    "<center><b>Fig. 2</b> Image of products available along within bounding box 36.75S, 37.225N, -76.655W, -75.928E</center>"
   ]
  },
  {
   "cell_type": "markdown",
   "metadata": {},
   "source": [
    "An example based on subsetting using a shape file:"
   ]
  },
  {
   "cell_type": "code",
   "execution_count": 11,
   "metadata": {},
   "outputs": [
    {
     "name": "stdout",
     "output_type": "stream",
     "text": [
      "https://api.daac.asf.alaska.edu/services/search/param?asfplatform=Sentinel-1%20Interferogram%20(BETA)&processingLevel=GUNW_STD&output=JSON&relativeOrbit=4&bbox=-76.6790935044502,36.9347870763244,-76.0116546923148,37.4784939161566\n",
      "\n",
      "Found -- 507 -- products\n"
     ]
    }
   ],
   "source": [
    "!ariaDownload.py --track 4 --bbox './support_docs/HR_North.shp' -o count"
   ]
  },
  {
   "cell_type": "markdown",
   "metadata": {},
   "source": [
    "<img src=\"./support_docs/crop_shp.png\" alt=\"crop\" width=\"700\">\n",
    "\n",
    "<center><b>Fig. 3</b> Image of products available along within shapefile (blue shading). </center>"
   ]
  },
  {
   "cell_type": "markdown",
   "metadata": {},
   "source": [
    "### Subsetting by start/end date"
   ]
  },
  {
   "cell_type": "markdown",
   "metadata": {},
   "source": [
    "Subsetting in time can be done by specifying a range within which products need to fall. This is controlled using the **`--start YYYYMMDD` ** and **`--end YYYYMMDD`** options. By default the complete observational record is considered."
   ]
  },
  {
   "cell_type": "code",
   "execution_count": 12,
   "metadata": {},
   "outputs": [
    {
     "name": "stdout",
     "output_type": "stream",
     "text": [
      "https://api.daac.asf.alaska.edu/services/search/param?asfplatform=Sentinel-1%20Interferogram%20(BETA)&processingLevel=GUNW_STD&output=JSON&relativeOrbit=4&bbox=-76.655,36.75,-75.928,37.225\n",
      "\n",
      "Found -- 58 -- products\n"
     ]
    }
   ],
   "source": [
    "!ariaDownload.py --track 4 --bbox \"36.75 37.225 -76.655 -75.928\" -o count --start 20190101 "
   ]
  },
  {
   "cell_type": "code",
   "execution_count": 13,
   "metadata": {},
   "outputs": [
    {
     "name": "stdout",
     "output_type": "stream",
     "text": [
      "https://api.daac.asf.alaska.edu/services/search/param?asfplatform=Sentinel-1%20Interferogram%20(BETA)&processingLevel=GUNW_STD&output=JSON&relativeOrbit=4&bbox=-76.655,36.75,-75.928,37.225\n",
      "Found: S1-GUNW-A-R-004-tops-20190325_20190301-230628-37654N_35777N-PP-13e7-v2_0_2\n",
      "Found: S1-GUNW-A-R-004-tops-20190325_20190313-230628-37654N_35777N-PP-7e46-v2_0_2\n",
      "Found: S1-GUNW-A-R-004-tops-20190313_20190217-230627-37655N_35778N-PP-7b05-v2_0_2\n",
      "Found: S1-GUNW-A-R-004-tops-20190313_20190301-230627-37655N_35778N-PP-e293-v2_0_2\n",
      "Found: S1-GUNW-A-R-004-tops-20190301_20190124-230628-37655N_35778N-PP-d26d-v2_0_2\n",
      "Found: S1-GUNW-A-R-004-tops-20190217_20190112-230628-37654N_35778N-PP-0810-v2_0_2\n",
      "Found: S1-GUNW-A-R-004-tops-20190217_20190124-230628-37654N_35778N-PP-7fcc-v2_0_2\n",
      "Found: S1-GUNW-A-R-004-tops-20190124_20190112-230628-37654N_35778N-PP-2cb6-v2_0_2\n",
      "\n",
      "Found -- 8 -- products\n"
     ]
    }
   ],
   "source": [
    "!ariaDownload.py --track 4 --bbox \"36.75 37.225 -76.655 -75.928\" -o count -s 20190101  --end 20190401 --verbose"
   ]
  },
  {
   "cell_type": "markdown",
   "metadata": {},
   "source": [
    "Note the use of the **`--verbose`** option to show the products found."
   ]
  },
  {
   "cell_type": "markdown",
   "metadata": {},
   "source": [
    "### Subsetting based on product temporal baseline"
   ]
  },
  {
   "cell_type": "markdown",
   "metadata": {},
   "source": [
    "The **`--daysless`** and **`--daysmore`** options allow us to subset based on the temporal baseline, i.e. the time length (in days) between the reference and secondary SAR acquisitions of the interferogram. Note that `--daysless 12` and `--daysmore 12` specifies only pairs with temporal baselines smaller and larger than 12 (so not exactly separated by 12) are downloaded, respectively.\n",
    "\n",
    "To select only interferograms products with temporal baselines shorter than 13 days:"
   ]
  },
  {
   "cell_type": "code",
   "execution_count": 14,
   "metadata": {},
   "outputs": [
    {
     "name": "stdout",
     "output_type": "stream",
     "text": [
      "https://api.daac.asf.alaska.edu/services/search/param?asfplatform=Sentinel-1%20Interferogram%20(BETA)&processingLevel=GUNW_STD&output=JSON&relativeOrbit=4&bbox=-76.655,36.75,-75.928,37.225\n",
      "Found: S1-GUNW-A-R-004-tops-20200307_20200224-230634-37654N_35778N-PP-8115-v2_0_2\n",
      "Found: S1-GUNW-A-R-004-tops-20200224_20200212-230634-37654N_35777N-PP-e269-v2_0_2\n",
      "Found: S1-GUNW-A-R-004-tops-20200212_20200131-230634-37655N_35778N-PP-9023-v2_0_2\n",
      "Found: S1-GUNW-A-R-004-tops-20200107_20191226-230635-37654N_35778N-PP-6ce4-v2_0_2\n",
      "Found: S1-GUNW-A-R-004-tops-20191226_20191214-230636-37654N_35778N-PP-e6c0-v2_0_2\n",
      "Found: S1-GUNW-A-R-004-tops-20191214_20191202-230636-37654N_35778N-PP-05b0-v2_0_2\n",
      "Found: S1-GUNW-A-R-004-tops-20191202_20191120-230636-37654N_35778N-PP-9202-v2_0_2\n",
      "Found: S1-GUNW-A-R-004-tops-20191120_20191108-230637-37654N_35778N-PP-e621-v2_0_2\n",
      "Found: S1-GUNW-A-R-004-tops-20191108_20191027-230637-37654N_35778N-PP-40e2-v2_0_2\n",
      "Found: S1-GUNW-A-R-004-tops-20191027_20191015-230637-37655N_35778N-PP-cf61-v2_0_2\n",
      "Found: S1-GUNW-A-R-004-tops-20191015_20191003-230637-37655N_35778N-PP-a1eb-v2_0_2\n",
      "Found: S1-GUNW-A-R-004-tops-20190921_20190909-230637-37654N_35778N-PP-054b-v2_0_2\n",
      "Found: S1-GUNW-A-R-004-tops-20190909_20190828-230636-37654N_35778N-PP-6bb0-v2_0_2\n",
      "Found: S1-GUNW-A-R-004-tops-20190828_20190816-230636-37655N_35778N-PP-e932-v2_0_2\n",
      "Found: S1-GUNW-A-R-004-tops-20190816_20190804-230635-37654N_35777N-PP-6a83-v2_0_2\n",
      "Found: S1-GUNW-A-R-004-tops-20190804_20190723-230634-37653N_35777N-PP-3be0-v2_0_2\n",
      "Found: S1-GUNW-A-R-004-tops-20190723_20190711-230634-37654N_35778N-PP-fd10-v2_0_2\n",
      "Found: S1-GUNW-A-R-004-tops-20190629_20190617-230632-37654N_35778N-PP-31d0-v2_0_2\n",
      "Found: S1-GUNW-A-R-004-tops-20190617_20190605-230631-37654N_35778N-PP-aad0-v2_0_2\n",
      "Found: S1-GUNW-A-R-004-tops-20190512_20190430-230629-37655N_35779N-PP-3cc1-v2_0_2\n",
      "Found: S1-GUNW-A-R-004-tops-20190418_20190406-230628-37654N_35777N-PP-b59c-v2_0_2\n",
      "Found: S1-GUNW-A-R-004-tops-20190406_20190325-230628-37654N_35777N-PP-26cf-v2_0_2\n",
      "Found: S1-GUNW-A-R-004-tops-20190325_20190313-230628-37654N_35777N-PP-7e46-v2_0_2\n",
      "Found: S1-GUNW-A-R-004-tops-20190313_20190301-230627-37655N_35778N-PP-e293-v2_0_2\n",
      "Found: S1-GUNW-A-R-004-tops-20190124_20190112-230628-37654N_35778N-PP-2cb6-v2_0_2\n",
      "Found: S1-GUNW-A-R-004-tops-20190112_20181231-230628-37655N_35778N-PP-b6d0-v2_0_2\n",
      "Found: S1-GUNW-A-R-004-tops-20181231_20181219-230629-37655N_35778N-PP-5307-v2_0_2\n",
      "Found: S1-GUNW-A-R-004-tops-20181125_20181113-230630-37655N_35778N-PP-f6d6-v2_0_2\n",
      "Found: S1-GUNW-A-R-004-tops-20180902_20180821-230630-37655N_35778N-PP-6efa-v2_0_2\n",
      "Found: S1-GUNW-A-R-004-tops-20180821_20180809-230629-37655N_35778N-PP-1eb4-v2_0_2\n",
      "Found: S1-GUNW-A-R-004-tops-20180809_20180728-230628-37655N_35779N-PP-1037-v2_0_2\n",
      "Found: S1-GUNW-A-R-004-tops-20180622_20180610-230626-37655N_35778N-PP-62ec-v2_0_2\n",
      "Found: S1-GUNW-A-R-004-tops-20180505_20180423-230623-37654N_35778N-PP-f25f-v2_0_2\n",
      "Found: S1-GUNW-A-R-004-tops-20180423_20180411-230622-37655N_35778N-PP-c910-v2_0_2\n",
      "Found: S1-GUNW-A-R-004-tops-20180411_20180330-230622-37654N_35778N-PP-7e7c-v2_0_2\n",
      "Found: S1-GUNW-A-R-004-tops-20180330_20180318-230621-37654N_35778N-PP-e452-v2_0_2\n",
      "Found: S1-GUNW-A-R-004-tops-20180318_20180306-230621-37654N_35778N-PP-3cb7-v2_0_2\n",
      "Found: S1-GUNW-A-R-004-tops-20180105_20171224-230622-37655N_35779N-PP-2401-v2_0_2\n",
      "Found: S1-GUNW-A-R-004-tops-20171224_20171212-230622-37654N_35777N-PP-1f7b-v2_0_2\n",
      "Found: S1-GUNW-A-R-004-tops-20171212_20171130-230623-37654N_35779N-PP-c6f9-v2_0_2\n",
      "Found: S1-GUNW-A-R-004-tops-20171118_20171106-230624-37654N_35778N-PP-28ab-v2_0_2\n",
      "Found: S1-GUNW-A-R-004-tops-20170826_20170814-230623-37655N_35779N-PP-e347-v2_0_2\n",
      "Found: S1-GUNW-A-R-004-tops-20170814_20170802-230622-37655N_35778N-PP-d279-v2_0_2\n",
      "Found: S1-GUNW-A-R-004-tops-20170709_20170627-230620-37655N_35779N-PP-e51c-v2_0_2\n",
      "Found: S1-GUNW-A-R-004-tops-20170615_20170603-230619-37655N_35778N-PP-1f8c-v2_0_2\n",
      "Found: S1-GUNW-A-R-004-tops-20170603_20170522-230618-37655N_35778N-PP-b0f7-v2_0_2\n",
      "Found: S1-GUNW-A-R-004-tops-20170522_20170510-230617-37654N_35777N-PP-3c80-v2_0_2\n",
      "Found: S1-GUNW-A-R-004-tops-20170416_20170404-230616-37654N_35778N-PP-3b66-v2_0_2\n",
      "Found: S1-GUNW-A-R-004-tops-20170404_20170323-230615-37655N_35779N-PP-2ad6-v2_0_2\n",
      "Found: S1-GUNW-A-R-004-tops-20170311_20170227-230615-37654N_35778N-PP-b097-v2_0_2\n",
      "Found: S1-GUNW-A-R-004-tops-20170227_20170215-230614-37655N_35778N-PP-f19a-v2_0_2\n",
      "Found: S1-GUNW-A-R-004-tops-20170215_20170203-230614-37655N_35779N-PP-8f88-v2_0_2\n",
      "Found: S1-GUNW-A-R-004-tops-20170110_20161229-230615-37655N_35618N-PP-3ef6-v2_0_1\n",
      "Found: S1-GUNW-A-R-004-tops-20161229_20161217-230616-37655N_35619N-PP-edd2-v2_0_1\n",
      "Found: S1-GUNW-A-R-004-tops-20161217_20161205-230617-37655N_35618N-PP-640e-v2_0_1\n",
      "Found: S1-GUNW-A-R-004-tops-20161205_20161123-230617-37655N_35618N-PP-2af9-v2_0_1\n",
      "Found: S1-GUNW-A-R-004-tops-20161123_20161111-230618-37656N_35618N-PP-1f6d-v2_0_1\n",
      "Found: S1-GUNW-A-R-004-tops-20161111_20161030-230618-37655N_35618N-PP-7080-v2_0_1\n",
      "Found: S1-GUNW-A-R-004-tops-20161030_20161018-230618-37654N_35617N-PP-e9b2-v2_0_2\n",
      "Found: S1-GUNW-A-R-004-tops-20161018_20161006-230618-37656N_35619N-PP-b439-v2_0_2\n",
      "\n",
      "Found -- 60 -- products\n"
     ]
    }
   ],
   "source": [
    "!ariaDownload.py --track 4 --bbox \"36.75 37.225 -76.655 -75.928\" -o count --daysless 13 -v"
   ]
  },
  {
   "cell_type": "markdown",
   "metadata": {},
   "source": [
    "Select only pairs with temporal baselines, greater than a year:"
   ]
  },
  {
   "cell_type": "code",
   "execution_count": 15,
   "metadata": {},
   "outputs": [
    {
     "name": "stdout",
     "output_type": "stream",
     "text": [
      "https://api.daac.asf.alaska.edu/services/search/param?asfplatform=Sentinel-1%20Interferogram%20(BETA)&processingLevel=GUNW_STD&output=JSON&relativeOrbit=4&bbox=-76.655,36.75,-75.928,37.225\n",
      "\n",
      "Found -- 113 -- products\n"
     ]
    }
   ],
   "source": [
    "!ariaDownload.py --track 4 --bbox \"36.75 37.225 -76.655 -75.928\" -o count --daysmore 364"
   ]
  },
  {
   "cell_type": "markdown",
   "metadata": {},
   "source": [
    "Select only pairs with moderate temporal baselines between two and six months:"
   ]
  },
  {
   "cell_type": "code",
   "execution_count": 16,
   "metadata": {},
   "outputs": [
    {
     "name": "stdout",
     "output_type": "stream",
     "text": [
      "https://api.daac.asf.alaska.edu/services/search/param?asfplatform=Sentinel-1%20Interferogram%20(BETA)&processingLevel=GUNW_STD&output=JSON&relativeOrbit=4&bbox=-76.655,36.75,-75.928,37.225\n",
      "Found: S1-GUNW-A-R-004-tops-20161018_20160702-230618-37656N_35619N-PP-199b-v2_0_2\n",
      "Found: S1-GUNW-A-R-004-tops-20161006_20160409-230618-37655N_35618N-PP-8288-v2_0_2\n",
      "Found: S1-GUNW-A-R-004-tops-20161006_20160702-230618-37655N_35618N-PP-6382-v2_0_2\n",
      "Found: S1-GUNW-A-R-004-tops-20160702_20160409-230614-37655N_35618N-PP-f253-v2_0_2\n",
      "Found: S1-GUNW-A-R-004-tops-20150825_20150310-230613-37822N_35782N-PP-40a2-v2_0_1\n",
      "\n",
      "Found -- 5 -- products\n"
     ]
    }
   ],
   "source": [
    "!ariaDownload.py --track 4  --bbox \"36.75 37.225 -76.655 -75.928\"  -o count -m 59 -l 181 -v "
   ]
  },
  {
   "cell_type": "markdown",
   "metadata": {},
   "source": [
    "### Subsetting based on interferogram pair"
   ]
  },
  {
   "cell_type": "markdown",
   "metadata": {},
   "source": [
    "To find a specific interferogram combination one can use the **`--ifg YYYYMMDD_YYYYMMDD`** option."
   ]
  },
  {
   "cell_type": "code",
   "execution_count": 17,
   "metadata": {},
   "outputs": [
    {
     "name": "stdout",
     "output_type": "stream",
     "text": [
      "https://api.daac.asf.alaska.edu/services/search/param?asfplatform=Sentinel-1%20Interferogram%20(BETA)&processingLevel=GUNW_STD&output=JSON&bbox=-76.655,36.75,-75.928,37.225\n",
      "Found: S1-GUNW-A-R-004-tops-20161018_20160702-230618-37656N_35619N-PP-199b-v2_0_2\n",
      "\n",
      "Found -- 1 -- products\n"
     ]
    }
   ],
   "source": [
    "!ariaDownload.py -b \"36.75 37.225 -76.655 -75.928\"  -o count --ifg \"20161018_20160702\" -v "
   ]
  },
  {
   "cell_type": "markdown",
   "metadata": {},
   "source": [
    "### Testing your URS credentials set-up"
   ]
  },
  {
   "cell_type": "markdown",
   "metadata": {},
   "source": [
    "We will now verify if all is set for you to downlaod products, per instructions at the top of the notebook."
   ]
  },
  {
   "cell_type": "code",
   "execution_count": 19,
   "metadata": {},
   "outputs": [
    {
     "name": "stdout",
     "output_type": "stream",
     "text": [
      "https://api.daac.asf.alaska.edu/services/search/param?asfplatform=Sentinel-1%20Interferogram%20(BETA)&processingLevel=GUNW_STD&output=JSON&bbox=-76.655,36.75,-75.928,37.225\n",
      "Found: S1-GUNW-A-R-004-tops-20161018_20160702-230618-37656N_35619N-PP-199b-v2_0_2\n",
      " > attempting to download https://urs.earthdata.nasa.gov/profile\n",
      " > Re-using previous cookie jar.\n",
      " > 'Temporary' Redirect download @ Remote archive:\n",
      " > https://dlz0dhr6g6ukw.cloudfront.net/S1-GUNW-A-R-004-tops-20161018_20160702-230618-37656N_35619N-PP-199b-v2_0_2.nc?userid=dbekaert&Expires=1596488507&Signature=TPZsO~XVm0xjAi5yIZkULQTrfWyp6WKRAdgZc9obAuGeHyKE55Z278dMDdebzoql0Hfc685adSXM5WMfXknVYlPFV7TaFZ82RMIx50siJGqDALy7Woe15UPZUpNzeEylXMITxquu~9r6TA-jHrMqTiw~8QZ56kgAOrpIeGdF-TQ_&Key-Pair-Id=APKAINVNJF4BDB5SS5QQ\n",
      "(1/1) Downloading https://grfn.asf.alaska.edu/door/download/S1-GUNW-A-R-004-tops-20161018_20160702-230618-37656N_35619N-PP-199b-v2_0_2.nc\n",
      " > Downloaded 70170564 of 70170564 bytes (100.00%)\n",
      "Downloaded 70170564b in 6.55secs, Average Rate: 10.22MB/sec\n",
      "\n",
      "\n",
      "Download Summary \n",
      "--------------------------------------------------------------------------------\n",
      "  Successes: 1 files, 70170564 bytes \n",
      "           - https://grfn.asf.alaska.edu/door/download/S1-GUNW-A-R-004-tops-20161018_20160702-230618-37656N_35619N-PP-199b-v2_0_2.nc  66.92MB\n",
      "  Average Rate: 10.22MB/sec\n",
      "--------------------------------------------------------------------------------\n"
     ]
    }
   ],
   "source": [
    "!ariaDownload.py -b \"36.75 37.225 -76.655 -75.928\"   --ifg \"20161018_20160702\" -v "
   ]
  }
 ],
 "metadata": {
  "kernelspec": {
   "display_name": "Python 3",
   "language": "python",
   "name": "python3"
  },
  "language_info": {
   "codemirror_mode": {
    "name": "ipython",
    "version": 3
   },
   "file_extension": ".py",
   "mimetype": "text/x-python",
   "name": "python",
   "nbconvert_exporter": "python",
   "pygments_lexer": "ipython3",
   "version": "3.8.5"
  },
  "latex_envs": {
   "LaTeX_envs_menu_present": true,
   "autoclose": false,
   "autocomplete": false,
   "bibliofile": "biblio.bib",
   "cite_by": "apalike",
   "current_citInitial": 1,
   "eqLabelWithNumbers": true,
   "eqNumInitial": 1,
   "hotkeys": {
    "equation": "Ctrl-E",
    "itemize": "Ctrl-I"
   },
   "labels_anchors": false,
   "latex_user_defs": false,
   "report_style_numbering": false,
   "user_envs_cfg": false
  },
  "toc": {
   "base_numbering": 1,
   "nav_menu": {},
   "number_sections": true,
   "sideBar": true,
   "skip_h1_title": false,
   "title_cell": "Table of Contents",
   "title_sidebar": "Contents",
   "toc_cell": false,
   "toc_position": {},
   "toc_section_display": true,
   "toc_window_display": false
  }
 },
 "nbformat": 4,
 "nbformat_minor": 2
}
