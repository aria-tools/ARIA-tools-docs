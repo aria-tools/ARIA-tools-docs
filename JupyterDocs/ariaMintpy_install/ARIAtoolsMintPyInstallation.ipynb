{
 "cells": [
  {
   "cell_type": "markdown",
   "metadata": {},
   "source": [
    "# Example for settine up time-series processing\n",
    "\n",
    "**Author**: Emre Havazli - Jet Propulsion Laboratory\n",
    "\n",
    "This notebook provides explanation for the how the installation shell script (ariaMintpy_install.sh) works and which operations are carried out in given steps.\n",
    "\n",
    "The commands in this notebook aren't the same as the installation shell script but the flow of operations are given in the same manner.\n",
    "\n",
    "Make sure you have Anaconda or [Miniconda](https://docs.conda.io/en/latest/miniconda.html) python installed. The shell script is created for bash shell environment, the final message with environment variables can be pasted directly into *~/.bash_profile* but needs to be translated into C shell scripting if the user is working in C shell before being placed in *~/.cshrc* file."
   ]
  },
  {
   "cell_type": "markdown",
   "metadata": {},
   "source": [
    "# 1. Create conda environment for ARIA-tools and MintPy"
   ]
  },
  {
   "cell_type": "markdown",
   "metadata": {},
   "source": [
    "After making sure you have the conda installed and is the default python on your system go ahead and create a conda environment using the ariaMintpy_env.yml file. The .yml file will install all the required python packages and will create an environemnt called *ariaMintpy* from which ARIA-tools and MinPy can be executed."
   ]
  },
  {
   "cell_type": "code",
   "execution_count": null,
   "metadata": {},
   "outputs": [],
   "source": [
    "!conda env create -f ariaMintpy_env.yml"
   ]
  },
  {
   "cell_type": "markdown",
   "metadata": {},
   "source": [
    "# 2. Clone ARIA-tools from Github and checkout latest release"
   ]
  },
  {
   "cell_type": "code",
   "execution_count": null,
   "metadata": {},
   "outputs": [],
   "source": [
    "# !git clone https://github.com/aria-tools/ARIA-tools.git\n",
    "# !git describe --tags\n",
    "# !git checkout v1.1.1"
   ]
  },
  {
   "cell_type": "code",
   "execution_count": null,
   "metadata": {},
   "outputs": [],
   "source": [
    "import os\n",
    "from subprocess import Popen, PIPE"
   ]
  },
  {
   "cell_type": "code",
   "execution_count": null,
   "metadata": {},
   "outputs": [],
   "source": [
    "clone = Popen(['git', 'clone', 'https://github.com/aria-tools/ARIA-tools.git'], stdin=PIPE, stdout=PIPE, stderr=PIPE, text=True, encoding='UTF8',universal_newlines=True)\n",
    "cloneOut,cloneErr = clone.communicate()\n",
    "print(cloneOut,cloneErr)\n",
    "\n",
    "crDir = os.getcwd()\n",
    "ariaPath = os.path.join(crDir,'ARIA-tools')\n",
    "print('ARIA-tools has been cloned in to:',ariaPath)"
   ]
  },
  {
   "cell_type": "code",
   "execution_count": null,
   "metadata": {},
   "outputs": [],
   "source": [
    "desc = Popen(['git', 'describe', '--tags'], cwd=ariaPath, stdin=PIPE, stdout=PIPE, stderr=PIPE, text=True, encoding='UTF8',universal_newlines=True)\n",
    "descOut,descErr = desc.communicate()\n",
    "latestRelease = descOut.split()[0]\n",
    "print('Latest Release:', latestRelease)"
   ]
  },
  {
   "cell_type": "code",
   "execution_count": null,
   "metadata": {},
   "outputs": [],
   "source": [
    "chck = Popen(['git', 'checkout', latestRelease], cwd=ariaPath, stdin=PIPE, stdout=PIPE, stderr=PIPE, text=True, encoding='UTF8',universal_newlines=True)\n",
    "chckOut, chckErr = chck.communicate()\n",
    "print(chckOut,chckErr)"
   ]
  },
  {
   "cell_type": "markdown",
   "metadata": {},
   "source": [
    "# 3. Build and install ARIA-tools per instructions on ARIA-tools Github page"
   ]
  },
  {
   "cell_type": "code",
   "execution_count": null,
   "metadata": {},
   "outputs": [],
   "source": [
    "build = Popen(['python', 'setup.py', 'build'], cwd=ariaPath, stdin=PIPE, stdout=PIPE, stderr=PIPE, text=True, encoding='UTF8',universal_newlines=True)\n",
    "buildOut,buildErr = build.communicate()\n",
    "print(buildOut,buildErr)"
   ]
  },
  {
   "cell_type": "code",
   "execution_count": null,
   "metadata": {},
   "outputs": [],
   "source": [
    "install = Popen(['python', 'setup.py', 'install'], cwd=ariaPath, stdin=PIPE, stdout=PIPE, stderr=PIPE, text=True, encoding='UTF8',universal_newlines=True)\n",
    "installOut,installErr = install.communicate()\n",
    "print(installOut,installErr)"
   ]
  },
  {
   "cell_type": "markdown",
   "metadata": {},
   "source": [
    "# 4. Clone MintPy from Github and checkout latest release"
   ]
  },
  {
   "cell_type": "code",
   "execution_count": 4,
   "metadata": {},
   "outputs": [],
   "source": [
    "# !git clone https://github.com/insarlab/MintPy.git\n",
    "# !git describe --tags\n",
    "# !git checkout v1.2.3"
   ]
  },
  {
   "cell_type": "code",
   "execution_count": 1,
   "metadata": {},
   "outputs": [],
   "source": [
    "import os\n",
    "from subprocess import Popen, PIPE"
   ]
  },
  {
   "cell_type": "markdown",
   "metadata": {},
   "source": [
    "Clone MintPy repository from Github"
   ]
  },
  {
   "cell_type": "code",
   "execution_count": 2,
   "metadata": {},
   "outputs": [
    {
     "name": "stdout",
     "output_type": "stream",
     "text": [
      " fatal: destination path 'MintPy' already exists and is not an empty directory.\n",
      "\n",
      "MintPy has been cloned in to: /Users/havazli/ARIA-tools-docs/JupyterDocs/ariaMintpy_install/MintPy\n"
     ]
    }
   ],
   "source": [
    "clone = Popen(['git', 'clone', 'https://github.com/insarlab/MintPy.git'], stdin=PIPE, stdout=PIPE, stderr=PIPE, text=True, encoding='UTF8',universal_newlines=True)\n",
    "cloneOut,cloneErr = clone.communicate()\n",
    "print(cloneOut,cloneErr)\n",
    "\n",
    "crDir = os.getcwd()\n",
    "mintpyPath = os.path.join(crDir,'MintPy')\n",
    "print('MintPy has been cloned in to:',mintpyPath)"
   ]
  },
  {
   "cell_type": "markdown",
   "metadata": {},
   "source": [
    "Get the tag of the latest release"
   ]
  },
  {
   "cell_type": "code",
   "execution_count": 3,
   "metadata": {},
   "outputs": [
    {
     "name": "stdout",
     "output_type": "stream",
     "text": [
      "Latest Release: v1.2.3\n",
      "\n"
     ]
    }
   ],
   "source": [
    "desc = Popen(['git', 'describe', '--tags'], cwd=mintpyPath, stdin=PIPE, stdout=PIPE, stderr=PIPE, text=True, encoding='UTF8',universal_newlines=True)\n",
    "descOut,descErr = desc.communicate()\n",
    "latestRelease = descOut.split('-')[0]\n",
    "print('Latest Release:', latestRelease)"
   ]
  },
  {
   "cell_type": "markdown",
   "metadata": {},
   "source": [
    "Check out the latest release version of MintPy"
   ]
  },
  {
   "cell_type": "code",
   "execution_count": null,
   "metadata": {},
   "outputs": [],
   "source": [
    "chck = Popen(['git', 'checkout', latestRelease], cwd=mintpyPath, stdin=PIPE, stdout=PIPE, stderr=PIPE, text=True, encoding='UTF8',universal_newlines=True)\n",
    "chckOut, chckErr = chck.communicate()\n",
    "print(chckOut,chckErr)"
   ]
  },
  {
   "cell_type": "markdown",
   "metadata": {},
   "source": [
    "# 5. Add the environemnt variable in to your ~/.bash_profile"
   ]
  },
  {
   "cell_type": "code",
   "execution_count": null,
   "metadata": {},
   "outputs": [],
   "source": [
    "print(\"if [ -z ${PYTHONPATH+x} ]; then export PYTHONPATH=\"\"; fi\")\n",
    "print(\"export MINTPY_HOME=\",mintpyPath)\n",
    "print(\"export PYTHONPATH=\"\"$\"\"{PYTHONPATH}:$\"\"{MINTPY_HOME}\")\n",
    "print(\"export PATH=\"\"$\"\"{PATH}:$\"\"{MINTPY_HOME}/mintpy\")\n",
    "\n",
    "print(\"export ARIATOOLS_HOME=\",ariaPath)\n",
    "print(\"export PYTHONPATH=\"\"$\"\"{PYTHONPATH}:$\"\"{ARIATOOLS_HOME}/tools\")\n",
    "print(\"export PATH=\"\"$\"\"{PATH}:$\"\"{ARIATOOLS_HOME}/tools/bin\")"
   ]
  }
 ],
 "metadata": {
  "kernelspec": {
   "display_name": "Python 3",
   "language": "python",
   "name": "python3"
  },
  "language_info": {
   "codemirror_mode": {
    "name": "ipython",
    "version": 3
   },
   "file_extension": ".py",
   "mimetype": "text/x-python",
   "name": "python",
   "nbconvert_exporter": "python",
   "pygments_lexer": "ipython3",
   "version": "3.7.8"
  }
 },
 "nbformat": 4,
 "nbformat_minor": 4
}
