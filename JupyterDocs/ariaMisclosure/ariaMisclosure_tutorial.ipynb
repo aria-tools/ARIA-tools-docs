{
 "cells": [
  {
   "cell_type": "markdown",
   "metadata": {},
   "source": [
    "# Manipulating Layers of ARIA standard GUNW products\n",
    "\n",
    "**Author**: Robert Zinke - Jet Propulsion Laboratory\n",
    "\n",
    "This notebook demonstrates phase triplet misclosure calculation using the **`ariaMisclosure.py`** function. In this tutorial, we will introduce the concept of phase misclosure as a means of assessing the quality of an interferogram data set. We will then show how the `ariaMisclosure.py` tool can be used to explore the spatial and temporal patterns of misclosure in a data set."
   ]
  },
  {
   "cell_type": "markdown",
   "metadata": {},
   "source": [
    "## Table of Contents"
   ]
  },
  {
   "cell_type": "markdown",
   "metadata": {},
   "source": [
    "[**What is phase misclosure**](#what_is_phase_misclosure)\n",
    "\n",
    "[**Misclosure computation**](#misclosure_computation)\n",
    "- [Loading data](#loading_data)\n",
    "- [Phase triplet formulation](#phase_triplet_formulation)\n",
    "- [Reference point](#reference_point)\n",
    "\n",
    "[**Misclosure analysis**](#misclosure_analysis)\n",
    "- [Net misclosure and absolute misclosure](#net_misclosure_and_absolute_misclosure)\n",
    "- [Misclosure visualization](#misclosure_visualization)"
   ]
  },
  {
   "cell_type": "markdown",
   "metadata": {},
   "source": [
    "## Prep A. Initial setup of the notebook"
   ]
  },
  {
   "cell_type": "markdown",
   "metadata": {},
   "source": [
    "If you have not already done so, it is recommended that you first check out the [**ariaTSsetup_tutorial**](https://github.com/aria-tools/ARIA-tools-docs/blob/master/JupyterDocs/ariaTSsetup/ariaTSsetup_tutorial.ipynb). The `ariaMisclosure.py` routines are designed to work with outputs produced by `ariaTSsetup.py`. Note that completion of ariaTSsetup_tutorial is not required, as this tutorial will use a different, smaller data set.\n",
    "\n",
    "We first set up the file structure and initial notebook parameters. This step should be run each time this tutorial is (re)opened."
   ]
  },
  {
   "cell_type": "code",
   "execution_count": 1,
   "metadata": {},
   "outputs": [
    {
     "name": "stdout",
     "output_type": "stream",
     "text": [
      "Work directory:  /Users/bb/Software_InSAR/ARIA-tools-docs_git/JupyterDocs/ariaMisclosure\n",
      "Tutorial directory:  /Users/bb/Software_InSAR/ARIA-tools-docs_git/JupyterDocs/ariaMisclosure\n"
     ]
    }
   ],
   "source": [
    "## Import standard modules\n",
    "import os\n",
    "from osgeo import gdal\n",
    "import numpy as np\n",
    "import matplotlib.pyplot as plt\n",
    "\n",
    "## Import ARIA-tools modules\n",
    "from ARIAtools.computeMisclosure import stack\n",
    "\n",
    "## Define the home and data directories at the processing location\n",
    "work_dir = os.path.abspath(os.getcwd())\n",
    "tutorial_home_dir = os.path.abspath(os.getcwd())\n",
    "print(\"Work directory: \", work_dir)\n",
    "print(\"Tutorial directory: \", tutorial_home_dir)\n",
    "\n",
    "# Enable GDAL/OGR exceptions\n",
    "gdal.UseExceptions()\n",
    "\n",
    "# Verify if ARIA-tools is installed correctly\n",
    "try:\n",
    "    import ARIAtools.shapefile_util as shputil\n",
    "except:\n",
    "    raise Exception('ARIA-tools is missing from your PYTHONPATH')\n",
    "        \n",
    "os.chdir(work_dir)"
   ]
  },
  {
   "cell_type": "markdown",
   "metadata": {},
   "source": [
    "## Prep B. Download and process the data"
   ]
  },
  {
   "cell_type": "markdown",
   "metadata": {},
   "source": [
    "Next, we download the products using the `ariaDownload.py` function. This will take a few minutes if the products are not already downloaded."
   ]
  },
  {
   "cell_type": "markdown",
   "metadata": {},
   "source": [
    "For this tutorial, we will use data from descending track 42 over central California.\n",
    "\n",
    "<img src=\"./support_docs/Parkfield_overview.png\" alt=\"track\" width=\"600\">\n",
    "\n",
    "<blockquote>Google Earth image of the creeping section of the San Andreas Fault near Parkfield. Gray boxes are Track 42 acquisitions. White boxes denote are the bounding box of our study area. Faults from USGS Quaternary fault catalog are plotted in background. For interpretation of fault trace colors, refer to see <a> href=\"https://earthquake.usgs.gov/hazards/qfaults/\">USGS fault catalogue website </a>. </blockquote>"
   ]
  },
  {
   "cell_type": "code",
   "execution_count": null,
   "metadata": {},
   "outputs": [
    {
     "name": "stdout",
     "output_type": "stream",
     "text": [
      "https://api.daac.asf.alaska.edu/services/search/param?asfplatform=Sentinel-1%20Interferogram%20(BETA)&processingLevel=GUNW_STD&output=JSON&relativeOrbit=42&bbox=-122,35.5,-120,37.5\n",
      " > attempting to download https://urs.earthdata.nasa.gov/profile\n",
      " > Re-using previous cookie jar.\n",
      " > 'Temporary' Redirect download @ Remote archive:\n",
      " > https://dlz0dhr6g6ukw.cloudfront.net/S1-GUNW-D-R-042-tops-20171227_20171121-140842-35635N_33657N-PP-5a38-v2_0_2.nc?userid=bbuzz&Expires=1594780636&Signature=ScrjLAZa8bHIxn3FAcpjtxaRD44GXioX1v9n25Iyn5jSNJa4egzYPLNcQrI6-M1scSkAkhTK2IJyt28kkmhxQTNouOJVISg69KdXIDz8aeLHPiRz7ISPiVNxaYVVnzB2pEVK-hyL~NmnpETCX-SIEhQq~Oux48bDnQY3OUiM4KU_&Key-Pair-Id=APKAINVNJF4BDB5SS5QQ\n",
      "(1/99) Downloading https://grfn.asf.alaska.edu/door/download/S1-GUNW-D-R-042-tops-20171227_20171121-140842-35635N_33657N-PP-5a38-v2_0_2.nc\n",
      " > Downloaded 64369537 of 64369537 bytes (100.00%)\n",
      "Downloaded 64369537b in 8.99secs, Average Rate: 6.83MB/sec\n",
      " > 'Temporary' Redirect download @ Remote archive:\n",
      " > https://dlz0dhr6g6ukw.cloudfront.net/S1-GUNW-D-R-042-tops-20171227_20171203-140842-35635N_33657N-PP-7b97-v2_0_0.nc?userid=bbuzz&Expires=1594780643&Signature=NBMiBo0oj6fwsJ-SHWAnsS8SAqkQ8dSdkDaeZWLoYa8cVDERH-Ld5FDm20ZBoyAz50IYOzioOZ8oMC1exEO7JbSW~LRW6OqFmgZ5btxgnsHHCfdVEqnIhcgI2yL3KbpObtTyP64E5YYuq3q5V-YFrr9~Z9UsA~r9aiRlYtmHhZo_&Key-Pair-Id=APKAINVNJF4BDB5SS5QQ\n",
      "(2/99) Downloading https://grfn.asf.alaska.edu/door/download/S1-GUNW-D-R-042-tops-20171227_20171203-140842-35635N_33657N-PP-7b97-v2_0_0.nc\n",
      " > Downloaded 64385299 of 64385299 bytes (100.00%)\n",
      "Downloaded 64385299b in 5.56secs, Average Rate: 11.05MB/sec\n",
      " > 'Temporary' Redirect download @ Remote archive:\n",
      " > https://dlz0dhr6g6ukw.cloudfront.net/S1-GUNW-D-R-042-tops-20171227_20171215-140842-35635N_33657N-PP-f075-v2_0_0.nc?userid=bbuzz&Expires=1594780649&Signature=z5f9XF7NMAj5OexuyEEDFDr4Ssy221~PN6aoBQrfnvcSTVZFz3gvijBFQHDnp6ABxZTOiQ5xjbzihoI-jCLBnwsNh2KzeWbK4gwxbhlXmu3sxECuMOhxDInHYPjQn7VF1OtlMrtjPouCqY-TyyR-CTm18s4~prpz-T9GdFTZuAE_&Key-Pair-Id=APKAINVNJF4BDB5SS5QQ\n",
      "(3/99) Downloading https://grfn.asf.alaska.edu/door/download/S1-GUNW-D-R-042-tops-20171227_20171215-140842-35635N_33657N-PP-f075-v2_0_0.nc\n",
      " > Downloaded 64936015 of 64936015 bytes (100.00%)\n",
      "Downloaded 64936015b in 23.40secs, Average Rate: 2.65MB/sec\n",
      " > 'Temporary' Redirect download @ Remote archive:\n",
      " > https://dlz0dhr6g6ukw.cloudfront.net/S1-GUNW-D-R-042-tops-20171227_20171121-140818-37128N_35152N-PP-79be-v2_0_2.nc?userid=bbuzz&Expires=1594780672&Signature=bL~wZ48ufTBMXV1c0MrSPXRnlRysabsu6u7Lr-LN0QoyIGk-ezieNhkJqO9miUhLQDuFSR0RT8PTUUAam3inL3lfJtmj4bqkbsO2MXGfRIbrpJ4XEANCOMg2dGcBFu06I~2hr~SqvmjCS3Bc8-jl2MH3xTOzJHJaXHkG9ybn2~k_&Key-Pair-Id=APKAINVNJF4BDB5SS5QQ\n",
      "(4/99) Downloading https://grfn.asf.alaska.edu/door/download/S1-GUNW-D-R-042-tops-20171227_20171121-140818-37128N_35152N-PP-79be-v2_0_2.nc\n",
      " > Downloaded 65279337 of 65279337 bytes (100.00%)\n",
      "Downloaded 65279337b in 8.31secs, Average Rate: 7.49MB/sec\n",
      " > 'Temporary' Redirect download @ Remote archive:\n",
      " > https://dlz0dhr6g6ukw.cloudfront.net/S1-GUNW-D-R-042-tops-20171227_20171203-140818-37128N_35152N-PP-3dab-v2_0_0.nc?userid=bbuzz&Expires=1594780680&Signature=okqABLFd8lIiofpUNS0TNRhhdhYCEWBFgqHxAkaJ6-FYev9g~8krFMKLhLkmjlECTD6xxgz9w5Q0JqRSygLrFifv-zxWr1BRHqfMAzq-viw7hW1jt9PUJWRahkzeT04qNS2k3I9vp7OkaZFkCxTwl0Two0BTFM7Sj5v~v8Bg2-I_&Key-Pair-Id=APKAINVNJF4BDB5SS5QQ\n",
      "(5/99) Downloading https://grfn.asf.alaska.edu/door/download/S1-GUNW-D-R-042-tops-20171227_20171203-140818-37128N_35152N-PP-3dab-v2_0_0.nc\n",
      " > Downloaded 64823537 of 64823537 bytes (100.00%)\n",
      "Downloaded 64823537b in 5.11secs, Average Rate: 12.10MB/sec\n",
      " > 'Temporary' Redirect download @ Remote archive:\n",
      " > https://dlz0dhr6g6ukw.cloudfront.net/S1-GUNW-D-R-042-tops-20171227_20171215-140818-37128N_35152N-PP-506c-v2_0_0.nc?userid=bbuzz&Expires=1594780685&Signature=BxhNBKIQfxbLx3eq~J1B~9H6m73MWbp7ukH0SaDbQh-ClhuenO1h-XF5IrnYou39olcLlGjgy8WSKsGtCfuKcswcqzzv59PieeQCtyDoSANmz7WZrbWdV0fIUuVgpYZpy11p-yFH3vjLWq5NnxE7JNs50KdS5bxRxsvYvbTPsQg_&Key-Pair-Id=APKAINVNJF4BDB5SS5QQ\n",
      "(6/99) Downloading https://grfn.asf.alaska.edu/door/download/S1-GUNW-D-R-042-tops-20171227_20171215-140818-37128N_35152N-PP-506c-v2_0_0.nc\n",
      " > Downloaded 63976362 of 63976362 bytes (100.00%)\n",
      "Downloaded 63976362b in 4.42secs, Average Rate: 13.80MB/sec\n",
      " > 'Temporary' Redirect download @ Remote archive:\n",
      " > https://dlz0dhr6g6ukw.cloudfront.net/S1-GUNW-D-R-042-tops-20171227_20171121-140753-38619N_36646N-PP-a390-v2_0_2.nc?userid=bbuzz&Expires=1594780690&Signature=tOBAt5Mdjgb2uuqoyfQhofSU4vhySxLP1uQdy1a3bBsI0rshB9WniHzGQ7dxWFmcMUPZp08sf2~nPzbbHE9YdXz9176gurnhPlrzLhzSEFrLhz4ysLykic92YFi4mk5XMcmKfXM9yHJENkdT~t-GHGU~BxU14JBcphdtzeCIM4k_&Key-Pair-Id=APKAINVNJF4BDB5SS5QQ\n",
      "(7/99) Downloading https://grfn.asf.alaska.edu/door/download/S1-GUNW-D-R-042-tops-20171227_20171121-140753-38619N_36646N-PP-a390-v2_0_2.nc\n",
      " > Downloaded 65155906 of 65155906 bytes (100.00%)\n",
      "Downloaded 65155906b in 4.91secs, Average Rate: 12.66MB/sec\n",
      " > 'Temporary' Redirect download @ Remote archive:\n",
      " > https://dlz0dhr6g6ukw.cloudfront.net/S1-GUNW-D-R-042-tops-20171227_20171203-140753-38619N_36646N-PP-e89e-v2_0_0.nc?userid=bbuzz&Expires=1594780695&Signature=UuLbGz0Sjz3o~sZwQYmBkjX6HkMuHWsJD2QagGqG6IX~9-GmDu3vBRq2RqOG9Lns-THKweG3K7thmket~swtwzKLGHe0N9eXgnRis9q~Y-fS0InQTp~ChtmdqKo-24GeS7ZAr10ySgslfxCfjmu4p2eit8UYIGrlrWMhThFp-C8_&Key-Pair-Id=APKAINVNJF4BDB5SS5QQ\n",
      "(8/99) Downloading https://grfn.asf.alaska.edu/door/download/S1-GUNW-D-R-042-tops-20171227_20171203-140753-38619N_36646N-PP-e89e-v2_0_0.nc\n",
      " > Downloaded 65084215 of 65084215 bytes (100.00%) 65084215 bytes (84.34%)\n",
      "Downloaded 65084215b in 5.54secs, Average Rate: 11.20MB/sec\n",
      " > 'Temporary' Redirect download @ Remote archive:\n",
      " > https://dlz0dhr6g6ukw.cloudfront.net/S1-GUNW-D-R-042-tops-20171227_20171215-140753-38619N_36646N-PP-4c8b-v2_0_0.nc?userid=bbuzz&Expires=1594780700&Signature=m~~lC4iapHpIvf0c4ahJlTvD0~bimzz5ewD8eIs6eenE52T8Ly~UdjvYWnmCTqSK9q-2kguPsdpkpMsP1VrIyjxNb8qHb-ZUHFwxYX7T~BI2DBopjeFiQUjgZQNKYVyCvRzdpAL3~vMKVpxJOAMyKR~LWB~jARoIgv2qZjjhYhU_&Key-Pair-Id=APKAINVNJF4BDB5SS5QQ\n",
      "(9/99) Downloading https://grfn.asf.alaska.edu/door/download/S1-GUNW-D-R-042-tops-20171227_20171215-140753-38619N_36646N-PP-4c8b-v2_0_0.nc\n",
      " > Downloaded 61152455 of 61152455 bytes (100.00%)\n",
      "Downloaded 61152455b in 5.73secs, Average Rate: 10.17MB/sec\n",
      " > 'Temporary' Redirect download @ Remote archive:\n",
      " > https://dlz0dhr6g6ukw.cloudfront.net/S1-GUNW-D-R-042-tops-20171215_20171109-140843-35635N_33658N-PP-0ec0-v2_0_2.nc?userid=bbuzz&Expires=1594780706&Signature=cztI0CzqP~dL09Omox-9YAnVyT1UxEDS3gc4Kg3XB7cjCjOMpjL8M-xQCT3v2bSbs~ZLUYg8P2mxCa2LvMkaRpRGgqxkG52pUwvNU5NHaSDUCpUw2jtNOuWlMyR8AhEd4FEjvG2i91MkWtXC-hZ4~tmYPMhS5NqoR3Kq8lnSzzM_&Key-Pair-Id=APKAINVNJF4BDB5SS5QQ\n",
      "(10/99) Downloading https://grfn.asf.alaska.edu/door/download/S1-GUNW-D-R-042-tops-20171215_20171109-140843-35635N_33658N-PP-0ec0-v2_0_2.nc\n",
      " > Downloaded 67143606 of 67143606 bytes (100.00%)\n",
      "Downloaded 67143606b in 17.36secs, Average Rate: 3.69MB/sec\n",
      " > 'Temporary' Redirect download @ Remote archive:\n",
      " > https://dlz0dhr6g6ukw.cloudfront.net/S1-GUNW-D-R-042-tops-20171215_20171203-140843-35635N_33658N-PP-4305-v2_0_0.nc?userid=bbuzz&Expires=1594780723&Signature=Iw8ilP94doMF65JZpAllqJcMCgczzlpHyHQ5UuC61iU-lMctoXxYjTnD9Ig4mXL5uzAbirpRnXXWPXKd~rD0fRNw9SVsqEHk9sk5h6i9mBDx7verPBJGGivkH8QGi783EPKtMTwY8E7MJX-HnLwSwLSv9kjqzC50f26tSYSPLWY_&Key-Pair-Id=APKAINVNJF4BDB5SS5QQ\n",
      "(11/99) Downloading https://grfn.asf.alaska.edu/door/download/S1-GUNW-D-R-042-tops-20171215_20171203-140843-35635N_33658N-PP-4305-v2_0_0.nc\n",
      " > Downloaded 67539377 of 67539377 bytes (100.00%)\n",
      "Downloaded 67539377b in 6.57secs, Average Rate: 9.81MB/sec\n",
      " > 'Temporary' Redirect download @ Remote archive:\n",
      " > https://dlz0dhr6g6ukw.cloudfront.net/S1-GUNW-D-R-042-tops-20171215_20171121-140843-35635N_33658N-PP-332d-v2_0_0.nc?userid=bbuzz&Expires=1594780730&Signature=Rl2H0tMhTLJxe-H~cYc2nOWzuhmoVYxALfCkjwNbgvW9M9ODflU~sZDz05LaguXoXPdcuG-Xgt8CfXn6PeXtGPOaAumNaxYq7adu2aZ4tB2ljmxZEvSLwXU1nbLbltCHuf8J6Fo9JYOsQeWDILKl0IO6iTK3Hk-aWoo8xuLW8Qs_&Key-Pair-Id=APKAINVNJF4BDB5SS5QQ\n",
      "(12/99) Downloading https://grfn.asf.alaska.edu/door/download/S1-GUNW-D-R-042-tops-20171215_20171121-140843-35635N_33658N-PP-332d-v2_0_0.nc\n"
     ]
    },
    {
     "name": "stdout",
     "output_type": "stream",
     "text": [
      " > Downloaded 64567638 of 64567638 bytes (100.00%)\n",
      "Downloaded 64567638b in 8.45secs, Average Rate: 7.29MB/sec\n",
      " > 'Temporary' Redirect download @ Remote archive:\n",
      " > https://dlz0dhr6g6ukw.cloudfront.net/S1-GUNW-D-R-042-tops-20171215_20171109-140818-37128N_35152N-PP-78e7-v2_0_2.nc?userid=bbuzz&Expires=1594780738&Signature=gTjhl3prl9c6OoKckZL09MhAuzpA0Fm59gNx-0kHbLxj1TWCG9hdyfy-r9Xn-3f79~hT1kLq5znIUuoebtHVQX448-adqoHkPgbj9LfoulqTc8oySPJ2vPxFTFXBqfbL6xZAL6CSwqJ~JJOsfYCk4Wh46OOdB3xyCBUroS-UM1I_&Key-Pair-Id=APKAINVNJF4BDB5SS5QQ\n",
      "(13/99) Downloading https://grfn.asf.alaska.edu/door/download/S1-GUNW-D-R-042-tops-20171215_20171109-140818-37128N_35152N-PP-78e7-v2_0_2.nc\n",
      " > Downloaded 23658496 of 66117908 bytes (35.78%)\r"
     ]
    }
   ],
   "source": [
    "!ariaDownload.py -t 42 -b '35.5 37.5 -122 -120' -w products -s 20170701 -e 20180101"
   ]
  },
  {
   "cell_type": "markdown",
   "metadata": {},
   "source": [
    "We next extract the products for timeseries computation using `ariaTSsetup.py`. Extracted products for timeseries setup will go to the TSsetup subfolder."
   ]
  },
  {
   "cell_type": "code",
   "execution_count": null,
   "metadata": {},
   "outputs": [],
   "source": [
    "!ariaTSsetup.py -w TSsetup -f 'products/*.nc' -d download -m download -b '35.5 37.5 -122 -120' -nt 4"
   ]
  },
  {
   "cell_type": "markdown",
   "metadata": {},
   "source": [
    "## What is phase misclosure\n",
    "<a id= 'what_is_phase_misclosure'></a>\n",
    "\n",
    "**Phase misclosure** is the disagreement between measurements of differential phase between common epochs *i*, *j*, and *k*. For the triplet of interferograms describing phase change $\\Delta\\phi_{ij}$, $\\Delta\\phi_{jk}$, $\\Delta\\phi_{ik}$, phase misclosure $\\omega$ is simply the difference between the expected phase change from the sum $(\\Delta\\phi_{ij}$ + $\\Delta\\phi_{jk})$ and the phase difference measured by $\\Delta\\phi_{ik}$:\n",
    "\n",
    "<div align = center> $\\omega = \\Delta\\phi_{ij} + \\Delta\\phi_{jk} - \\Delta\\phi_{ik}$ <div /align = center>"
   ]
  },
  {
   "cell_type": "markdown",
   "metadata": {},
   "source": [
    "This can be illustrated graphically with the following diagram.\n",
    "\n",
    "<img src=\"./support_docs/PhaseClosure_diagram.png\" alt=\"track\" width=\"600\">\n",
    "\n",
    "<blockquote>Phase triplet misclosure is the disagreement between measurements with different time paths.</blockquote>"
   ]
  },
  {
   "cell_type": "markdown",
   "metadata": {},
   "source": [
    "## Misclosure computation\n",
    "<a id = 'misclosure_computation'></a>\n",
    "\n",
    "Inputs for the `ariaMisclosure.py` function can be shown using the `-h` option. Examples are also shown."
   ]
  },
  {
   "cell_type": "code",
   "execution_count": null,
   "metadata": {},
   "outputs": [],
   "source": [
    "## ariaMisclosure help menu\n",
    "!ariaMisclosure.py -h"
   ]
  },
  {
   "cell_type": "markdown",
   "metadata": {},
   "source": [
    "### Loading data\n",
    "<a id = 'loading_data'></a>\n",
    "\n",
    "The `ariaMisclosure.py` function requires the \"stack\" file generated by `ariaTSsetup.py`. The \"stack/unwrapStack.vrt\" file contains links (.VRT) to all the stitched, unwrapped interferograms.\n",
    "\n",
    "Through the command line interface, call the function using:\n",
    "\n",
    "`ariaMisclosure.py -f stack/unwrapStack.vrt`\n",
    "\n",
    "\n",
    "<div class=\"alert alert-warning\">\n",
    "Although the ariaMisclosure.py function only requires the filename (-f unwrapStack.vrt), the resulting analyses depend greatly on the selection of triplets evaluated, and the reference point chosen. Triplet definitions and selection are discussed in detail in the <b>Phase triplet formulation</b> section below. Reference point selection is described in the <b>Reference point</b> section.\n",
    "</div>"
   ]
  },
  {
   "cell_type": "markdown",
   "metadata": {},
   "source": [
    "Below, we instantiate the underlying class directly for demonstration purposes."
   ]
  },
  {
   "cell_type": "code",
   "execution_count": null,
   "metadata": {},
   "outputs": [],
   "source": [
    "## Load data using \"stack\" object\n",
    "dataStack = stack('TSsetup/stack/unwrapStack.vrt')\n",
    "\n",
    "# [print(pair[0].strftime('%Y%m%d')+'_'+pair[1].strftime('%Y%m%d')) for pair in dataStack.pairs];\n",
    "# [print((pair[0]-pair[1]).days) for pair in dataStack.pairs];"
   ]
  },
  {
   "cell_type": "markdown",
   "metadata": {},
   "source": [
    "### Available pairs\n",
    "\n",
    "As we will see below, the available triplet combinations depend on the available pairs. For an intuitive overview of the pairing strategy, invoke the `--plot-pairs` option.\n",
    "\n",
    "This can be done using:\n",
    "`ariaMisclosure.py -f stack/unwrapStack.vrt --plot-pairs`"
   ]
  },
  {
   "cell_type": "code",
   "execution_count": null,
   "metadata": {},
   "outputs": [],
   "source": [
    "## Plot pairs\n",
    "dataStack.plotPairs()"
   ]
  },
  {
   "cell_type": "markdown",
   "metadata": {},
   "source": [
    "In the figure above, the pairs are ordered by secondary date. Note how the pair intervals range from 12 days to 60 days, in increments of 12 days (12, 24, 36, 48, 60)."
   ]
  },
  {
   "cell_type": "markdown",
   "metadata": {},
   "source": [
    "### Phase triplet formulation\n",
    "<a id = 'phase_triplet_formulation'></a>\n",
    "\n",
    "Misclosure computation depends on the selection of epochs that constitute the \"triplet\" of interferograms. For instance, selection of pairs with 6- and 12-day lags...\n",
    "\n",
    "e.g., for dates *i* 20150101, *j* 20150107, and *k* 20150114\n",
    "\n",
    "20150107_20150101 ( *j i* = 6 days)\n",
    "\n",
    "20150113_20150107 ( *k j* = 6 days)\n",
    "\n",
    "20150113_20150101 ( *k i* = 12 days)\n",
    "\n",
    "... will lead to a different result than pairs with 12- and 24-day lags...\n",
    "\n",
    "e.g., for dates *i* 20150101, *j* 20150113, and *k* 20150125\n",
    "\n",
    "20150113_20150101 ( *j i* = 12 days)\n",
    "\n",
    "20150125_20150113 ( *k j* = 12 days)\n",
    "\n",
    "20150125_20150101 ( *k i* = 24 days)\n"
   ]
  },
  {
   "cell_type": "markdown",
   "metadata": {},
   "source": [
    "### Triplet selection\n",
    "\n",
    "It is left to the user to define the triplet strategy of choice, keeping in mind what pairs are available in the data set.\n",
    "\n",
    "By default, `ariaMisclosure.py` will create a list of all possible triplets based on the dates provided. To view a list of all possible triplets, invoke the `--print-triplets` flag:\n",
    "\n",
    "`ariaMisclosure.py -f stack/unwrapStack.vrt --print-triplets`\n",
    "\n",
    "For a schematic of the triplets, use `--plot-triplets`:\n",
    "\n",
    "`ariaMisclosure.py -f stack/unwrapStack.vrt --plot-triplets`"
   ]
  },
  {
   "cell_type": "code",
   "execution_count": null,
   "metadata": {},
   "outputs": [],
   "source": [
    "## Create list of all possible triplets:\n",
    "#    `ariaMisclosure.py -f stack/unwrapStack.vrt --plot-triplets`\n",
    "dataStack.createTriplets()\n",
    "\n",
    "## Plot triplet schematic\n",
    "dataStack.plotTriplets()\n",
    "plt.gca().set_title('ALL possible triplets');"
   ]
  },
  {
   "cell_type": "markdown",
   "metadata": {},
   "source": [
    "To reduce the list to include only pairs and triplets of interest, `ariaMisclosure.py` provides several inputs options for the user.\n",
    "\n",
    "For example, let's say that we only want to use pairs with 12-day and 24-day intervals. Use the `--maxtime` option to specify the maximum allowable time interval:\n",
    "\n",
    "`ariaMisclosure.py -f stack/unwrapStack.vrt --plot-triplets --mintime 12 --maxtime 24`"
   ]
  },
  {
   "cell_type": "code",
   "execution_count": null,
   "metadata": {},
   "outputs": [],
   "source": [
    "## Limit triplets to 12-24 days\n",
    "dataStack.createTriplets(minTime=12,maxTime=24)\n",
    "\n",
    "## Plot triplet schematic\n",
    "dataStack.plotTriplets()\n",
    "plt.gca().set_title('Triplets with pair intervals between 12 and 24 days');\n"
   ]
  },
  {
   "cell_type": "markdown",
   "metadata": {},
   "source": [
    "These criteria result in perfectly symmetric pair durations for each triplet, but perhaps the selection criteria are too stringent, resulting in gaps. If we include 36-day pairs, broader temporal coverage is available."
   ]
  },
  {
   "cell_type": "code",
   "execution_count": null,
   "metadata": {},
   "outputs": [],
   "source": [
    "## Limit triplets to 12-36 days\n",
    "dataStack.createTriplets(minTime=12,maxTime=36)\n",
    "\n",
    "## Plot triplets\n",
    "dataStack.plotTriplets()\n",
    "plt.gca().set_title('Triplets with pairs between 12 and 36 days');"
   ]
  },
  {
   "cell_type": "markdown",
   "metadata": {},
   "source": [
    "Note that this strategy, however, gives more than one triplet for a given start date. Interpretation of the results can be complicated in this case, so for this demonstration we will return to our maximum time limit of 24 days."
   ]
  },
  {
   "cell_type": "code",
   "execution_count": null,
   "metadata": {},
   "outputs": [],
   "source": [
    "## Reformulate triplets\n",
    "dataStack.createTriplets(minTime=12,maxTime=24)"
   ]
  },
  {
   "cell_type": "markdown",
   "metadata": {},
   "source": [
    "### Reference point\n",
    "<a id = \"reference_point\"></a>\n",
    "\n",
    "The interferograms generated through the ARIA workflow are processed in a pair-wise manner. That is, each secondary image is registered to its respective master; interferograms are not coregistered in a stack to a single master. A reference point in space is therefore necesary to align the interferograms such that their phases are meaningful, much in the same way that a spatial reference point is necessary for timeseries computation.\n",
    "\n",
    "`ariaMisclosure.py` offsers several options for selecting the reference point:\n",
    "\n",
    "- Automatic\n",
    "- XY pixel specification\n",
    "- Lon/Lat specification\n",
    "\n",
    "By default, `ariaMisclosure.py` will automatically select a random reference point at a pixel with high average filtered coherence. Specifically, the routines call the filtered coherence maps from stack/cohStack.vrt. These maps are summed to find pixels with average coherence > 0.7, from which a random location is chosen. This can be used as a first pass approach, but it is strongly recommended that the user identify an optimal location and define the reference point manually."
   ]
  },
  {
   "cell_type": "markdown",
   "metadata": {},
   "source": [
    "Here, we use the reference point -120.96$^\\circ$E, 36.61$^\\circ$N, which is in an unfarmed field away from steep topography or major tectonic structures. The command for this is:\n",
    "\n",
    "`ariaMisclosure.py -f stack/unwrapStack.vrt --mintime 12 --maxtime 24 -refLon -120.96 -refLat 36.61`\n",
    "\n",
    "Using this function in the command line, misclosure computation is carried out automatically. Below, we call the computeMisclosure() funciton for demonstration purposes."
   ]
  },
  {
   "cell_type": "code",
   "execution_count": null,
   "metadata": {},
   "outputs": [],
   "source": [
    "## Compute misclosure\n",
    "dataStack.computeMisclosure(refLoLa=[-120.96, 36.61])"
   ]
  },
  {
   "cell_type": "markdown",
   "metadata": {},
   "source": [
    "As described [above](#what_is_phase_misclosure), misclosure is calculated by summing interferograms from common epochs *i*, *j*, *k*:\n",
    "\n",
    "\n",
    "<div align = \"center\"> $\\omega = \\Delta\\phi_{ji} + \\Delta\\phi_{kj} - \\Delta\\phi_{ki}$ </div>\n",
    "\n",
    "\n",
    "where all three interferograms are adjusted to a common reference point.\n",
    "\n",
    "This is illustrated below using a single triplet of interferograms:\n",
    "\n",
    "20170724_20170712 , 20170805_20170724 , 2017805_20170712\n",
    "\n",
    "\n",
    "<img src=\"./support_docs/MisclosureSum.png\" alt=\"track\" width=\"850\">\n",
    "\n",
    "<blockquote>Triplet of interferograms. Black square is the reference point.</blockquote>\n",
    "\n",
    "The resulting map of misclosure from that triplet is shown:\n",
    "\n",
    "<img src=\"./support_docs/Misclosure.png\" width=\"500\">\n",
    "\n",
    "<blockquote>Misclosure from triplet. Black square is the reference point&mdash;here, misclosure is by definition zero.</blockquote>\n",
    "\n",
    "In the above misclosure map, note how misclosure is larger (in an absolute sense) in the agricultural areas.\n",
    "\n",
    "<div class=\"alert alert-warning\">\n",
    "By definition, misclosure will be zero at the reference point. Similarly, the spatial patterns of misclosure might change if the reference point is relocated, especially if different connected components are present at the reference point location.\n",
    "</div>"
   ]
  },
  {
   "cell_type": "markdown",
   "metadata": {},
   "source": [
    "## Misclosure analysis\n",
    "<a id = \"misclosure_analysis\"></a>"
   ]
  },
  {
   "cell_type": "markdown",
   "metadata": {},
   "source": [
    "### Net misclosure and absolute misclosure\n",
    "<a id = \"net_misclosure_and_absolute_misclosure\"></a>\n",
    "\n",
    "Two values of misclosure are calculated: (1) the **net misclosure**; and (2) the **absolute misclosure**.\n",
    "\n",
    "- The net misclosure is simply the sum of all misclosure measurements (e.g., $\\omega$ = -0.3 + 0.2 + 0.1 = 0.0). The range of values can therefore be positive or negative.\n",
    "\n",
    "- The absolute misclosure uses the absolute value of misclosure measurements (e.g., |$\\omega$| = |-0.3| + |0.2| + |0.1| = 0.6). Absolute misclosure values are therefore only positive.\n",
    "\n",
    "Both misclosure and absolute misclosure are stored as multi-dimensional arrays, with each \"slice\" representing the misclosure map associated with a triplet."
   ]
  },
  {
   "cell_type": "markdown",
   "metadata": {},
   "source": [
    "### Misclosure visualization\n",
    "<a id = \"misclosure_visualization\"></a>\n",
    "\n",
    "**Misclosure for each triplet**\n",
    "\n",
    "The misclosure maps for each triplet of dates are printed as PNGs and stored in the \"MisclosureFigs\" folder."
   ]
  },
  {
   "cell_type": "markdown",
   "metadata": {},
   "source": [
    "**Cumulative misclosure**\n",
    "\n",
    "For data sets of more than a dozen or so triplets, it is convenient to visualize the misclosure as a cumulative sum of all the misclosure maps. This highlights places where misclosure is consistently poor.\n",
    "\n",
    "When running `ariaMisclosure.py`, three plots will automatically appear. These are:\n",
    "- cumulative misclosure\n",
    "- cumulative absolute misclosure\n",
    "- a plot with four graphs that will show the time history of misclosure for the triplets\n",
    "\n",
    "These three plots are interactive when run through the command line. Static versions of the plots are shown below. Here, we pre-specify a query point to view the misclosure series. The query point (-121.11$^\\circ$, 36.51$^\\circ$) is shown as a white dot on the left-hand side of the maps below. The net misclosure, cumulative net misclosure, absolute misclosure, and cumulative absolute misclosure are shown in the line chart at the bottom."
   ]
  },
  {
   "cell_type": "code",
   "execution_count": null,
   "metadata": {},
   "outputs": [],
   "source": [
    "## Visualize misclosure\n",
    "dataStack.plotCumMisclosure(queryLoLa=[-121.11,36.51])"
   ]
  },
  {
   "cell_type": "markdown",
   "metadata": {},
   "source": [
    "<div class=\"alert alert-warning\">\n",
    "<b>Note</b>, the time history of misclosure values are plotted as a function of the middle date of each triplet. If there is more than one triplet for each date, the time histories might be more difficult to interpret.\n",
    "</div>"
   ]
  },
  {
   "cell_type": "markdown",
   "metadata": {},
   "source": [
    "Using the command line tool, the use can click on different pixels of either the net misclosure or absolute misclosure maps to see the time history of any pixel. The pixel values are printed to the terminal."
   ]
  },
  {
   "cell_type": "markdown",
   "metadata": {},
   "source": [
    "Once the interactive plots are closed, the figures are saved to files.\n",
    "\n",
    "The cumulative net and absolute misclosure figures are saved as georeferenced GeoTiffs for use with mapping software."
   ]
  },
  {
   "cell_type": "code",
   "execution_count": null,
   "metadata": {},
   "outputs": [],
   "source": []
  }
 ],
 "metadata": {
  "kernelspec": {
   "display_name": "Python 3",
   "language": "python",
   "name": "python3"
  },
  "language_info": {
   "codemirror_mode": {
    "name": "ipython",
    "version": 3
   },
   "file_extension": ".py",
   "mimetype": "text/x-python",
   "name": "python",
   "nbconvert_exporter": "python",
   "pygments_lexer": "ipython3",
   "version": "3.7.6"
  },
  "latex_envs": {
   "LaTeX_envs_menu_present": true,
   "autoclose": false,
   "autocomplete": false,
   "bibliofile": "biblio.bib",
   "cite_by": "apalike",
   "current_citInitial": 1,
   "eqLabelWithNumbers": true,
   "eqNumInitial": 1,
   "hotkeys": {
    "equation": "Ctrl-E",
    "itemize": "Ctrl-I"
   },
   "labels_anchors": false,
   "latex_user_defs": false,
   "report_style_numbering": false,
   "user_envs_cfg": false
  }
 },
 "nbformat": 4,
 "nbformat_minor": 2
}
