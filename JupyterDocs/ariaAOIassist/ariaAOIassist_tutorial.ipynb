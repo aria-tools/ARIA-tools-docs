{
 "cells": [
  {
   "cell_type": "markdown",
   "metadata": {},
   "source": [
    "# Creating a new Area of Interest\n",
    "**Author** Robert Zinke, Simran Sangha, David Bekaert - Jet Propulsion Laboratory\n",
    "\n",
    "This notebook demonstrates suggested practices for creating a new study area of interest (AOI) for Sentinel-1 acquisitions. This is done by browsing products available through the [Alaska Satellite Facility (ASF) Data Search Vertex](https://search.asf.alaska.edu/#/) site. Below, we demonstrate the AOI selection process using the **`ariaAOIassist.py`** function.\n",
    "\n",
    "The process of creating a new AOI follows the general workflow:\n",
    "1. Download metadata from ASF Vertex\n",
    "2. Extract the data coverage using the ariaAOIassist.py function\n",
    "3. Filter results and determine the best processing strategy that weighs InSAR coverage in time and space\n",
    "4. Precisely define the AOI as a polygon in Google Earth, being certain to trim the polygon edges by approximately one burst or ~20 km\n",
    "\n",
    "NOTE: Creating a new AOI is often an iterative process and particular attention should be paid to ensuring the final AOI bounds are within the area of coverage. The `ariaAOIassist.py` function cannot ensure the creation of an exact AOI that meets all criteria, but is designed the help the user in determining the best strategy for processing. Contact xxx@jpl.nasa.gov for assistance."
   ]
  },
  {
   "cell_type": "markdown",
   "metadata": {},
   "source": [
    "## 1. Download metadata from ASF Vertex"
   ]
  },
  {
   "cell_type": "markdown",
   "metadata": {},
   "source": [
    "ARIA uses available Sentinel-1 processed data products. These products and their associated metadata are available through the [ASF Vertex](https://search.asf.alaska.edu/#/) webpage: **https://search.asf.alaska.edu/#/**\n",
    "\n",
    "This interface allows the user to interactively search by numerous criteria.\n",
    "\n",
    "### Search by area and date\n",
    "The simplest means of filtering are to search by area and date. To search by area, simply click once within the map area to specify one corner of a bounding box, then move the mouse and click elsewhere to specify the opposite corner. The start and end dates can be specified in the main ribbon."
   ]
  },
  {
   "cell_type": "markdown",
   "metadata": {},
   "source": [
    "### Filter for SLC products and other criteria\n",
    "\n",
    "Additional useful filters can be applied. For AOI creation, we strongly recommend specifying the File Type as **L1 Single Look Complex (SLC)** and the Beam Mode as **IW** (interferometric wideswath), as these are the data products used by ARIA. Other criteria such as the orbit direction (ascending/descending), path number, and frame numbers can also be specified."
   ]
  },
  {
   "cell_type": "markdown",
   "metadata": {},
   "source": [
    "<img src=\"./support_docs/ASFfilters.png\" alt=\"ASFfilters\" width=\"700\">\n",
    "<center><b>Fig. 1</b> Additional filters for data products. We recommend specifying the File Type as SLC and the Beam Mode as IW.</center>"
   ]
  },
  {
   "cell_type": "markdown",
   "metadata": {},
   "source": [
    "If desired, RAW frames can also be *viewed* using the **`ariaAOIassist.py`** function, as described below. Because RAW frames cannot be processed by ARIA, we generally exclude these from our workflow."
   ]
  },
  {
   "cell_type": "markdown",
   "metadata": {},
   "source": [
    "## Initial setup"
   ]
  },
  {
   "cell_type": "code",
   "execution_count": 1,
   "metadata": {},
   "outputs": [],
   "source": [
    "# Import modules\n",
    "import os\n",
    "from glob import glob\n",
    "\n",
    "# Define directories\n",
    "tutorial_home_dir = os.path.abspath(os.getcwd())\n",
    "work_dir = os.path.join(tutorial_home_dir,'work')\n",
    "support_dir = os.path.join(tutorial_home_dir,'support_docs')\n",
    "\n",
    "# Create work directory if it does not yet exist\n",
    "if not os.path.exists(work_dir):\n",
    "    os.mkdir(work_dir)\n",
    "\n",
    "# Verify ARIA-tools is installed correctly\n",
    "try:\n",
    "    import ARIAtools.shapefile_util as shputil\n",
    "except:\n",
    "    raise Exception('ARIA-tools is missing from your PYTHONPATH')"
   ]
  },
  {
   "cell_type": "markdown",
   "metadata": {},
   "source": [
    "### Download metadata\n",
    "We will first start with an area over central Tibet, between longitudes 87-92E and latitudes 33-40N.\n",
    "\n",
    "For this example, simply copy the polygon below and paste it into the \"Area of Interest\" box in the ASF Vertex webpage.\n",
    "\n",
    "`POLYGON((87 33,92 33,92 40,87 40,87 33))`\n",
    "\n",
    "Further limit the acquisitions by specifying the end date as January 1st, 2017 (1/1/2017). Under the \"Filters\" menu, specify the File Type as \"L1 Single Look Complex (SLC)\" and the Beam Mode as \"IW\".\n",
    "\n",
    "This should produce more than 1,000 results, the first 250 of which are shown."
   ]
  },
  {
   "cell_type": "markdown",
   "metadata": {},
   "source": [
    "<img src=\"./support_docs/ASF_Search_results.png\" alt=\"Search results\" width=\"700\">\n",
    "<center><b>Fig. 2</b>ASF Vertex search results from central Tibet</center>"
   ]
  },
  {
   "cell_type": "markdown",
   "metadata": {},
   "source": [
    "The metadata for all these results can be downloaded in the form of a comma-separated value (.csv) file. Under the SEARCH box, and next to the Filters menu, the Vertex website provides the number of files currently listed (default = 250). Next to this number is a small arrow indicating a dropdown menu. Click that arrow and select the option for **More Files**, as shown below:"
   ]
  },
  {
   "cell_type": "markdown",
   "metadata": {},
   "source": [
    "<img src=\"./support_docs/ASF_more_files.png\" alt=\"MoreFiles\" width=\"700\">\n",
    "<center><b>Fig. 3</b> Option for <b>More Files.</b></center>"
   ]
  },
  {
   "cell_type": "markdown",
   "metadata": {},
   "source": [
    "Download the results and save them to your *work_dir* (i.e., `./work`).\n",
    "\n",
    "The first part of the automatically generated name will be \"*asf-datapool-results-*\" and the second part will be the date and time at which you downloaded the data.\n",
    "\n",
    "For this example use the filename *Examples.csv*"
   ]
  },
  {
   "cell_type": "markdown",
   "metadata": {},
   "source": [
    "In practice, it is generally recommended to draw a larger bounding box in ASF Vertex than is required, as filters can later be applied to select frames by latitude or date, as shown below."
   ]
  },
  {
   "cell_type": "markdown",
   "metadata": {},
   "source": [
    "### Create metadata products\n",
    "\n",
    "Once the data have been downloaded, the `ariaAOIassist.py` function can be applied to them. By default, this function sorts the frame metadata by track and generates products that can be used to help define your AOI and determine the optimal strategy for ARIA processing.\n",
    "\n",
    "For each track, products include a plot of the frame center latitudes as a function of acquisition date, and a Google Earth .kml file with the frame boundaries."
   ]
  },
  {
   "cell_type": "markdown",
   "metadata": {},
   "source": [
    "## Extract metadata using ariaAOIassist.py\n",
    "\n",
    "We now apply the `ariaAOIassist.py` function to the .csv file we downloaded.\n",
    "\n",
    "Execute the default command, e.g., `ariaAOIassist.py -f asf-datapool-results-example.csv`\n",
    "\n",
    "This might take a minute or two to complete."
   ]
  },
  {
   "cell_type": "code",
   "execution_count": 10,
   "metadata": {},
   "outputs": [
    {
     "name": "stdout",
     "output_type": "stream",
     "text": [
      "Generating outputs for track: 70\n",
      "The PostScript backend does not support transparency; partially transparent artists will be rendered opaque.\n",
      "The PostScript backend does not support transparency; partially transparent artists will be rendered opaque.\n",
      "Generating outputs for track: 41\n",
      "The PostScript backend does not support transparency; partially transparent artists will be rendered opaque.\n",
      "The PostScript backend does not support transparency; partially transparent artists will be rendered opaque.\n",
      "Generating outputs for track: 12\n",
      "The PostScript backend does not support transparency; partially transparent artists will be rendered opaque.\n",
      "The PostScript backend does not support transparency; partially transparent artists will be rendered opaque.\n",
      "Generating outputs for track: 143\n",
      "The PostScript backend does not support transparency; partially transparent artists will be rendered opaque.\n",
      "The PostScript backend does not support transparency; partially transparent artists will be rendered opaque.\n",
      "Generating outputs for track: 48\n",
      "The PostScript backend does not support transparency; partially transparent artists will be rendered opaque.\n",
      "The PostScript backend does not support transparency; partially transparent artists will be rendered opaque.\n",
      "Generating outputs for track: 114\n",
      "The PostScript backend does not support transparency; partially transparent artists will be rendered opaque.\n",
      "The PostScript backend does not support transparency; partially transparent artists will be rendered opaque.\n",
      "Generating outputs for track: 19\n",
      "The PostScript backend does not support transparency; partially transparent artists will be rendered opaque.\n",
      "The PostScript backend does not support transparency; partially transparent artists will be rendered opaque.\n",
      "Generating outputs for track: 150\n",
      "The PostScript backend does not support transparency; partially transparent artists will be rendered opaque.\n",
      "The PostScript backend does not support transparency; partially transparent artists will be rendered opaque.\n",
      "Generating outputs for track: 121\n",
      "The PostScript backend does not support transparency; partially transparent artists will be rendered opaque.\n",
      "The PostScript backend does not support transparency; partially transparent artists will be rendered opaque.\n",
      "Products generated.\n"
     ]
    }
   ],
   "source": [
    "# Check that data were downloaded and named for this purpose\n",
    "if not os.path.exists(os.path.join(work_dir,'Examples.csv')):\n",
    "    raise Exception('Please ensure that the .csv data were downloaded to the work_dir and renamed \\\"Examples.csv\\\"\"')\n",
    "\n",
    "# Run ariaAOIassist.py\n",
    "!ariaAOIassist.py -f work/Examples.csv -w work"
   ]
  },
  {
   "cell_type": "markdown",
   "metadata": {},
   "source": [
    "For each track, this produces a plot of the frame centers as a function of latitude and date, saved as postscript (.eps) files. Additionally, .kml files are created.\n",
    "\n",
    "List the contents of the work_dir to confirm."
   ]
  },
  {
   "cell_type": "code",
   "execution_count": 11,
   "metadata": {},
   "outputs": [
    {
     "name": "stdout",
     "output_type": "stream",
     "text": [
      "work/A114_lat_extents.eps work/A41_lat_extents.eps  work/D150_lat_extents.eps\r\n",
      "work/A12_lat_extents.eps  work/A70_lat_extents.eps  work/D19_lat_extents.eps\r\n",
      "work/A143_lat_extents.eps work/D121_lat_extents.eps work/D48_lat_extents.eps\r\n"
     ]
    }
   ],
   "source": [
    "# List frame centers plots\n",
    "!ls work/*.eps"
   ]
  },
  {
   "cell_type": "code",
   "execution_count": 12,
   "metadata": {},
   "outputs": [
    {
     "name": "stdout",
     "output_type": "stream",
     "text": [
      "work/trackA114_frames.kml work/trackA41_frames.kml  work/trackD150_frames.kml\r\n",
      "work/trackA12_frames.kml  work/trackA70_frames.kml  work/trackD19_frames.kml\r\n",
      "work/trackA143_frames.kml work/trackD121_frames.kml work/trackD48_frames.kml\r\n"
     ]
    }
   ],
   "source": [
    "# List kml files\n",
    "!ls work/*.kml"
   ]
  },
  {
   "cell_type": "markdown",
   "metadata": {},
   "source": [
    "Open some of the new files to your work_dir to see them. Compare them to the frame positions in ASF Vertex. Note that the file naming convention gives the track number (e.g., 12) and the track direction (A = ascending; D = descending)."
   ]
  },
  {
   "cell_type": "markdown",
   "metadata": {},
   "source": [
    "## 3. Filtering results\n",
    "\n",
    "Several options are available in the `ariaAOIassist.py` function that allow for easy filtering of results, without the need to download a new metadata file each time.\n",
    "\n",
    "Use the `ariaAOIassist.py -h` command to view all of the options:"
   ]
  },
  {
   "cell_type": "code",
   "execution_count": 13,
   "metadata": {},
   "outputs": [
    {
     "name": "stdout",
     "output_type": "stream",
     "text": [
      "usage: ariaAOIassist.py [-h] -f IMGFILE [-w WORKDIR] [-t TRACKS]\r\n",
      "                        [-l LATBOUNDS] [-s STARTDATE] [-e ENDDATE]\r\n",
      "                        [-x EXCLUDEDATES] [--plot_raw]\r\n",
      "                        [--flag_partial_coverage] [--remove_incomplete_dates]\r\n",
      "                        [--approximate_AOI]\r\n",
      "\r\n",
      "Preparing preliminary plot of frame extents. First go to the ASF search page,\r\n",
      "push all SLCs over defined search area to cart, download CSV under the\r\n",
      "metadata option, and pass the CSV through to this script with the -f flag.\r\n",
      "\r\n",
      "optional arguments:\r\n",
      "  -h, --help            show this help message and exit\r\n",
      "  -f IMGFILE, --file IMGFILE\r\n",
      "                        Full path to CSV file containing SLC frame metadata.\r\n",
      "  -w WORKDIR, --workdir WORKDIR\r\n",
      "                        Specify directory to deposit all outputs. Default is\r\n",
      "                        local directory where script is launched.\r\n",
      "  -t TRACKS, --tracks TRACKS\r\n",
      "                        Include only specified track number in results. Can be\r\n",
      "                        multiple, separated by spaces. Default : All\r\n",
      "  -l LATBOUNDS, --lat_bounds LATBOUNDS\r\n",
      "                        Specify a search for only frames that fall within\r\n",
      "                        these lat bounds.\r\n",
      "  -s STARTDATE, --start_date STARTDATE\r\n",
      "                        Start date. Default : None\r\n",
      "  -e ENDDATE, --end_date ENDDATE\r\n",
      "                        End date. Default : None\r\n",
      "  -x EXCLUDEDATES, --exclude_dates EXCLUDEDATES\r\n",
      "                        List of dates to exclude from kml generation. This can\r\n",
      "                        be provided as space-separated string in format\r\n",
      "                        YYYYMMDD (e.g., '20180101 20181213 20190428'), or as a\r\n",
      "                        text file with one date to exclude per line. Default :\r\n",
      "                        None\r\n",
      "  --plot_raw            Plot raw frames if included in .csv\r\n",
      "  --flag_partial_coverage\r\n",
      "                        Flag dates that do not cover the full lat/lon extent.\r\n",
      "                        This does not remove dates from the lat centers plot,\r\n",
      "                        only highlights the dates in red.\r\n",
      "  --remove_incomplete_dates\r\n",
      "                        Automatically detect and remove dates that do not\r\n",
      "                        entirely fill the given latitude bounds. Note that if\r\n",
      "                        lat bounds are left as default, only dates with gaps\r\n",
      "                        will be automatically excluded.\r\n",
      "  --approximate_AOI     Create KML of approximate AOI. NOTE: ~20 km or 1 burst\r\n",
      "                        must be removed from either end of the AOI--this must\r\n",
      "                        be confirmed by the user.\r\n"
     ]
    }
   ],
   "source": [
    "!ariaAOIassist.py -h"
   ]
  },
  {
   "cell_type": "markdown",
   "metadata": {},
   "source": [
    "As shown, results can be filtered by track, latitude, or date. For example, we can look at only track 41, between October 20, 2014, and August 16, 2016. We will send the outputs to a separate directory to avoid overwriting the original results."
   ]
  },
  {
   "cell_type": "code",
   "execution_count": 15,
   "metadata": {},
   "outputs": [
    {
     "name": "stdout",
     "output_type": "stream",
     "text": [
      "Generating outputs for track: 41\n",
      "The PostScript backend does not support transparency; partially transparent artists will be rendered opaque.\n",
      "The PostScript backend does not support transparency; partially transparent artists will be rendered opaque.\n",
      "Products generated.\n"
     ]
    }
   ],
   "source": [
    "!ariaAOIassist.py -f work/Examples.csv -t 41 -s 20141020 -e 20160816 -w work/Tr41_filtered"
   ]
  },
  {
   "cell_type": "markdown",
   "metadata": {},
   "source": [
    "An example of the lat centers plots is shown below (resolution reduced for display purposes)."
   ]
  },
  {
   "cell_type": "markdown",
   "metadata": {},
   "source": [
    "<img src=\"./support_docs/A41_lat_extents.png\" alt=\"LatCenters\" width=\"700\">\n",
    "<center><b>Fig. 4</b> Filtered results for track 41 (Oct 2014 - Aug 2016).</center>"
   ]
  },
  {
   "cell_type": "markdown",
   "metadata": {},
   "source": [
    "Note that some of the dates do not have frames for every latitude (see 2015-04-18). We can specify a flag to highlight dates that do not cover the entire track extent."
   ]
  },
  {
   "cell_type": "code",
   "execution_count": 22,
   "metadata": {},
   "outputs": [
    {
     "name": "stdout",
     "output_type": "stream",
     "text": [
      "Generating outputs for track: 41\n",
      "The PostScript backend does not support transparency; partially transparent artists will be rendered opaque.\n",
      "The PostScript backend does not support transparency; partially transparent artists will be rendered opaque.\n",
      "Products generated.\n"
     ]
    }
   ],
   "source": [
    "!ariaAOIassist.py -f work/Examples.csv -t 41 -s 20141020 -e 20160816 -w work/Tr41_filtered --flag_partial_coverage"
   ]
  },
  {
   "cell_type": "markdown",
   "metadata": {},
   "source": [
    "<img src=\"./support_docs/A41_lat_extents_partials-flagged.png\" alt=\"Flags\" width=\"700\">\n",
    "<center><b>Fig. 5</b> Filtered results for track 41 (Oct 2014 - Aug 2016) - partial coverage flagged.</center>"
   ]
  },
  {
   "cell_type": "markdown",
   "metadata": {},
   "source": [
    "If a latitude range is specified (using the `-l` option), dates that do not cover the full latitude range will be flagged as well.\n",
    "\n",
    "For instance, `ariaAOIassist.py -f Examples.csv -t 41 -s 20141020 -e 20160816 -w \"./Tr41_filtered\" --flag_partial_coverage -l '33 41.6'`"
   ]
  },
  {
   "cell_type": "markdown",
   "metadata": {},
   "source": [
    "<img src=\"./support_docs/A41_lat_extents_latbounds.png\" alt=\"LatBounds\" width=\"700\">\n",
    "<center><b>Fig. 6</b> Filtered results for track 41 (Oct 2014 - Aug 2016) - partial coverage flagged, latitude bounds specified.</center>"
   ]
  },
  {
   "cell_type": "markdown",
   "metadata": {},
   "source": [
    "If desired, the user can specify which dates to exclude from further analysis using the `-x` option.\n",
    "\n",
    "`ariaAOIassist.py -f Examples.csv -t 41 -s 20141020 -e 20160816 -w work/Tr41_filtered --flag_partial_coverage -l '33 41.6' -x 20150418`"
   ]
  },
  {
   "cell_type": "markdown",
   "metadata": {},
   "source": [
    "<img src=\"./support_docs/A41_lat_extents_dateExcl.png\" alt=\"20150418 excluded\" width=\"700\">\n",
    "<center><b>Fig. 6</b> Filtered results for track 41 (Oct 2014 - Aug 2016) - partial coverage flagged, latitude bounds specified. Note April 18, 2015 is manually excluded.</center>"
   ]
  },
  {
   "cell_type": "markdown",
   "metadata": {
    "slideshow": {
     "slide_type": "slide"
    }
   },
   "source": [
    "If many dates are to be excluded, these can be listed in quotes (e.g., `-x '20151214 20160107'`, or in a text file (with extension .txt) and passed using the `-x` option."
   ]
  },
  {
   "cell_type": "markdown",
   "metadata": {
    "slideshow": {
     "slide_type": "slide"
    }
   },
   "source": [
    "*Excluded dates will NOT be included in the .kml*\n",
    "This is designed to ease in the process of selecting a precise AOI, shown below. If one does not wish for incomplete dates to be included in the .kml or any further analyses, they may pass the `--remove_incomplete_dates` option.\n",
    "\n",
    "`ariaAOIassist.py -f Examples.csv -t 41 -s 20141020 -e 20160816 -w work/Tr41_filtered -l '33 41.6' --flag_partial_coverage --remove_incomplete_dates`"
   ]
  },
  {
   "cell_type": "markdown",
   "metadata": {},
   "source": [
    "<img src=\"./support_docs/A41_lat_extents_incompletes-removed.png\" alt=\"Incompletes removed\" width=\"700\">\n",
    "<center><b>Fig. 7</b> Filtered results for track 41 (Oct 2014 - Aug 2016) - incomplete dates removed.</center>"
   ]
  },
  {
   "cell_type": "markdown",
   "metadata": {},
   "source": [
    "## 4. AOI specification"
   ]
  },
  {
   "cell_type": "markdown",
   "metadata": {},
   "source": [
    "The final step is to draw the AOI in Google Earth. Ultimately, this step requires the user the look closely at the kml file generated and draw a single polygon (rectangle) best approximating the shape of the data coverage.\n",
    "\n",
    "**Some rules to keep in mind:**\n",
    "* Dates for which data do not fully cover the polygon are automatically excluded\n",
    "* The AOI must be smaller than the frame outline by 20 km, because sometimes the center swath burst exists but the bursts on either side do not. This will cause your AOI to fail the area threshold."
   ]
  },
  {
   "cell_type": "markdown",
   "metadata": {},
   "source": [
    "### Manually create AOI"
   ]
  },
  {
   "cell_type": "markdown",
   "metadata": {},
   "source": [
    "You can create an AOI manually by opening the .kml file in Google Earth and drawing a polygon over the valid, overlapping frames.\n",
    "\n",
    "First, open the kml Google Earth. Adjust the color settings by right clicking on the layer and selecting the \"Get Info\" option, then the \"Style, Color\" tab.\n",
    "\n",
    "Here, I set the colors to semi-transparent so that the frame boundaries are visible."
   ]
  },
  {
   "cell_type": "markdown",
   "metadata": {},
   "source": [
    "<img src=\"./support_docs/GE_frames.png\" width=\"700\">\n",
    "<center><b>Fig. 6</b> Frames for track 41 that meet all spatial and temporal requirements, shown in Google Earth.</center>"
   ]
  },
  {
   "cell_type": "markdown",
   "metadata": {},
   "source": [
    "Draw an AOI by selecting the polygon tool and tracing over the area of overlap of all valid frames."
   ]
  },
  {
   "cell_type": "markdown",
   "metadata": {},
   "source": [
    "<img src=\"./support_docs/GE_manual_AOI_overview.png\" width=\"700\">\n",
    "<center><b>Fig. 8</b> Google Earth polygon showing area of overlap.</center>"
   ]
  },
  {
   "cell_type": "markdown",
   "metadata": {},
   "source": [
    "Then, zoom in to the AOI boundaries. Use the measuring tool to edit the polygons so that they are 20 km, or approximately one frame boundary from the northern and southern edges of the track boundaries. \n",
    "\n",
    "This is illustrated below:"
   ]
  },
  {
   "cell_type": "markdown",
   "metadata": {},
   "source": [
    "<img src=\"./support_docs/GE_manual_20km_trim.png\" width=\"700\">\n",
    "<center><b>Fig. 8</b> Trim approximately 20 km from northern and southern track boundaries.</center>"
   ]
  },
  {
   "cell_type": "markdown",
   "metadata": {},
   "source": [
    "This ensures that frames will not be rejected due to lack of coverage."
   ]
  },
  {
   "cell_type": "markdown",
   "metadata": {},
   "source": [
    "### Suggested AOI (semi-automated)"
   ]
  },
  {
   "cell_type": "markdown",
   "metadata": {},
   "source": [
    "`ariaAOIassist.py` has the ability to automatically suggest an AOI based on the overlap of all non-excluded frames. To use the feature, pass the `--approximate_AOI` option. \n",
    "\n",
    "**Be careful**--the approximate_AOI option in no way guarantees the validity of the suggested AOI. This function simply takes the union of all frames is calculated for each date. Then, the intersection of all swaths is taken. It attempts to remove ~20 km from the northern and southern edges of the polygon, but this is not always possible. Here again, the user must ensure that the polygon is within the limits of the area of data coverage.\n",
    "\n",
    "It is often best to use the `approximate_AOI` option along with other filters, such as latitude bounds. Either exclude dates manually, or specify the `--remove_partial_dates` option. When doing so, the user is encouraged to refer back to the \"lat_extents.eps\" file to see which dates were automatically excluded."
   ]
  },
  {
   "cell_type": "markdown",
   "metadata": {},
   "source": [
    "<img src=\"./support_docs/GE_auto_AOI.png\" width=\"700\">\n",
    "<center><b>Fig. 9</b> Automatically generated AOI. The removal of ~20 km of frame was achieved successfully for the southern boundary, but not for the northern. The user must manually ensure the appropriate distance from the frame boundary.</center>"
   ]
  },
  {
   "cell_type": "markdown",
   "metadata": {},
   "source": [
    "## Example workflow"
   ]
  },
  {
   "cell_type": "markdown",
   "metadata": {},
   "source": [
    "### Track 121 - Tibet AOIs\n",
    "Now that we have established the functionality of the `ariaAOIassist.py` tool, let's use it to help choose AOIs for a long track of semi-irregular acquisitions over Tibet.\n",
    "\n",
    "Specifically, we want to process all Sentinel-1 data across the Tibetan plateau acquired along track 121 between 25-47°N. You can download the metadata in .csv from [ASF Vertex](https://search.asf.alaska.edu/#/), or the command below will copy the pre-downloaded metadata for you. \n",
    "\n",
    "The key search criteria for these data are:\n",
    "\n",
    "POLYGON((83 25,100 25,100 48,83 48,83 25))\n",
    "\n",
    "Start Date: 6/15/2014\n",
    "\n",
    "End Date: 4/1/2020\n",
    "\n",
    "File Type: L1 Single Look Complex (SLC)\n",
    "\n",
    "Beam Mode: IW\n",
    "\n",
    "Path Start: 121\n",
    "\n",
    "Path End: 121"
   ]
  },
  {
   "cell_type": "code",
   "execution_count": 20,
   "metadata": {},
   "outputs": [],
   "source": [
    "# Copy metadata from supporting folder\n",
    "!cp support_docs/Tr121.csv work"
   ]
  },
  {
   "cell_type": "markdown",
   "metadata": {},
   "source": [
    "Using the `ariaAOIassist.py` command, we plot the frame centers as a postscript file and frame boundaries as a Google Earth kml."
   ]
  },
  {
   "cell_type": "code",
   "execution_count": 19,
   "metadata": {},
   "outputs": [
    {
     "name": "stdout",
     "output_type": "stream",
     "text": [
      "Generating outputs for track: 121\n",
      "The PostScript backend does not support transparency; partially transparent artists will be rendered opaque.\n",
      "The PostScript backend does not support transparency; partially transparent artists will be rendered opaque.\n",
      "Products generated.\n"
     ]
    }
   ],
   "source": [
    "!ariaAOIassist.py -f work/Tr121.csv -w work/T121"
   ]
  },
  {
   "cell_type": "markdown",
   "metadata": {},
   "source": [
    "From the \"D121_lat_extents.eps\" postscript file, we see that the frame centers are not consistent for the duration and spatial extent of the track. Beginning May 1, 2017 the frame centers north and south of ~38°N are staggered in time. While the coverage might look continuous, this staggering means that for any given date, only part of the study area is covered."
   ]
  },
  {
   "cell_type": "markdown",
   "metadata": {},
   "source": [
    "<img src=\"./support_docs/T121_scheme_change.png\" width=\"700\">\n",
    "<center><b>Fig. 10</b> The Sentinel-1 acquisition scheme changes c. May 2017 (blue line). After May 1, the dates are staggered in time across latitude ~38N. Coverage on a given date is not consistent across the red line.</center>"
   ]
  },
  {
   "cell_type": "markdown",
   "metadata": {},
   "source": [
    "While various AOI strategies are valid for capturing full coverage of the study area (25-47°N), we chose one that comprises two AOIs: one northern and one southern.\n",
    "\n",
    "I show the approximate extents of these AOIs below."
   ]
  },
  {
   "cell_type": "markdown",
   "metadata": {},
   "source": [
    "<img src=\"./support_docs/T121_AOIs.png\" width=\"700\">\n",
    "<center><b>Fig. 11</b> We divide the study area into a northern AOI (blue) and a southern (green) to account for the staggering of dates.</center>"
   ]
  },
  {
   "cell_type": "markdown",
   "metadata": {},
   "source": [
    "To automatically generate a polygon for each of these, we pass latitude bounds to the `ariaAOIassist.py` function. For the northern AOI, we include pass `-l '38 47'`; and for the southern we pass `-l '25 38'`."
   ]
  },
  {
   "cell_type": "code",
   "execution_count": 24,
   "metadata": {},
   "outputs": [
    {
     "name": "stdout",
     "output_type": "stream",
     "text": [
      "Generating outputs for track: 121\n",
      "The PostScript backend does not support transparency; partially transparent artists will be rendered opaque.\n",
      "The PostScript backend does not support transparency; partially transparent artists will be rendered opaque.\n",
      "Products generated.\n",
      "Generating outputs for track: 121\n",
      "The PostScript backend does not support transparency; partially transparent artists will be rendered opaque.\n",
      "The PostScript backend does not support transparency; partially transparent artists will be rendered opaque.\n",
      "Products generated.\n"
     ]
    }
   ],
   "source": [
    "# Create northern AOI\n",
    "!ariaAOIassist.py -f work/Tr121.csv -w work/T121/N_AOI -l '38 47' --remove_incomplete_dates --approximate_AOI\n",
    "\n",
    "# Create southern AOI\n",
    "!ariaAOIassist.py -f work/Tr121.csv -w work/T121/S_AOI -l '25 38' --remove_incomplete_dates --approximate_AOI"
   ]
  },
  {
   "cell_type": "markdown",
   "metadata": {},
   "source": [
    "Note that the above commands specify the `--remove_incomplete_dates` options, which will automatically remove dates that do not provide complete coverage between the given latitude bounds."
   ]
  },
  {
   "cell_type": "markdown",
   "metadata": {},
   "source": [
    "<img src=\"./support_docs/T121_N_AOI.png\" width=\"700\">\n",
    "<center><b>Fig. 12</b> Northern AOI with incomplete dates excluded.</center>"
   ]
  },
  {
   "cell_type": "markdown",
   "metadata": {
    "slideshow": {
     "slide_type": "slide"
    }
   },
   "source": [
    "It is always good to check that all intended dates are included."
   ]
  },
  {
   "cell_type": "markdown",
   "metadata": {},
   "source": [
    "Now that a suggested AOI has been created by `ariaAOIassist.py` using the `approximate_AOI`, we must check that the suggested AOI covers the intended area, and that the northern and southern extents are within ~20 km or one frame of the region of overlap.\n",
    "\n",
    "Open the new frames and suggested AOI kmls (./work/T121/N_AOI/ .kml) in Google Earth to check these criteria. We can see below that the suggested AOI does not meet the requirement of its northern and southern edges being 20 km from the frame extremes. That is because the polygons are complex in shape."
   ]
  },
  {
   "cell_type": "markdown",
   "metadata": {},
   "source": [
    "<img src=\"./support_docs/T121_N_suggested_AOI.png\" width=\"700\">\n",
    "<center><b>Fig. 13</b> Northern \"suggested\" AOI does not satisfy requirement that boundaries are within northern and southern extremes.</center>"
   ]
  },
  {
   "cell_type": "markdown",
   "metadata": {},
   "source": [
    "For this reason, we should redraw the AOI using a new Google Earth polygon. Use the ruler tool to ensure that the track extremes criterion is met."
   ]
  },
  {
   "cell_type": "markdown",
   "metadata": {},
   "source": [
    "<img src=\"./support_docs/T121_N_user_AOI.png\" width=\"700\">\n",
    "<center><b>Fig. 13</b> Northern AOI redrawn to meet all spatial criteria.</center>"
   ]
  },
  {
   "cell_type": "code",
   "execution_count": null,
   "metadata": {},
   "outputs": [],
   "source": []
  }
 ],
 "metadata": {
  "kernelspec": {
   "display_name": "Python 3",
   "language": "python",
   "name": "python3"
  },
  "language_info": {
   "codemirror_mode": {
    "name": "ipython",
    "version": 3
   },
   "file_extension": ".py",
   "mimetype": "text/x-python",
   "name": "python",
   "nbconvert_exporter": "python",
   "pygments_lexer": "ipython3",
   "version": "3.7.3"
  }
 },
 "nbformat": 4,
 "nbformat_minor": 2
}
