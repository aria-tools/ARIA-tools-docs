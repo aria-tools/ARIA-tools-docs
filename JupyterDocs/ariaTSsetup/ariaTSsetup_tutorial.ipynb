{
 "cells": [
  {
   "cell_type": "markdown",
   "metadata": {},
   "source": [
    "# Preparing ARIA standard GUNW products layers for time-series analysis using ariaTSsetup.py\n",
    "\n",
    "**Author**: Simran Sangha, David Bekaert - Jet Propulsion Laboratory\n",
    "\n",
    "This notebook provides an overview of the functionality included in the **ariaTSsetup.py** program. Specifically, we give examples on how to extract data and meta-data layers from ARIA Geocoded UNWrapped interferogram (GUNW) products over a user defined area of interest and prepare the data into a stack for time-series ingestion.\n",
    "\n",
    "In this notebook, we will demonstrate how to:\n",
    "- Extract data layers (unwrapped phase, coherence) and imaging geometry layers (azimuth angle, incidence angle, look angle) necessary for building time-series\n",
    "- Prepare the extracted data into a stack for time-series ingestion\n",
    "\n",
    "    \n",
    "<div class=\"alert alert-warning\">\n",
    "Both the initial setup (<b>Prep A</b> section) and download of the data (<b>Prep B</b> section) should be run at the start of the notebook. The overview sections do not need to be run in order. In the application section the ariaTSsetup commandline call at the top must be run first, but the rest of the section does not need to be run in order.\n",
    "</div>\n",
    "\n",
    "<div class=\"alert alert-danger\">\n",
    "<b>Potential Errors:</b> \n",
    "    \n",
    "- GDAL uses \"HDF5\" driver instead of \"netCDF/Network Common Data Format\" on GUNW products. Verify GDAL version >= 3.\n",
    "- ARIA-tools needs to be installed to run this notebook\n",
    "</div>\n",
    "\n",
    "\n",
    "<div class=\"alert alert-info\">\n",
    "    <b>Terminology:</b>\n",
    "    \n",
    "- *Acquisition*: An image acquired by the satellite for a given date and time.\n",
    "- *Interferogram*: An unwrapped image containing the surface displacement accumulated between two acquisitions.\n",
    "- *Frame*: Outline of a product ground footprint.\n",
    "- *Along-track*: The direction along satellite flight path. \n",
    "    </div>\n",
    "    "
   ]
  },
  {
   "cell_type": "markdown",
   "metadata": {
    "heading_collapsed": true
   },
   "source": [
    "## Prep A. Initial setup of the notebook"
   ]
  },
  {
   "cell_type": "markdown",
   "metadata": {
    "hidden": true
   },
   "source": [
    "Below we set up the directory structure for this notebook exercise. In addition, we load the required modules into our python environment using the **`import`** command. We also explicitly enable exceptions for GDAL as this allows us to capture GDAL errors."
   ]
  },
  {
   "cell_type": "code",
   "execution_count": 1,
   "metadata": {
    "hidden": true
   },
   "outputs": [
    {
     "name": "stdout",
     "output_type": "stream",
     "text": [
      "Work directory:  /Users/bb/Software_InSAR/ARIA-tools-docs_git/JupyterDocs/ariaTSsetup\n",
      "Tutorial directory:  /Users/bb/Software_InSAR/ARIA-tools-docs_git/JupyterDocs/ariaTSsetup\n"
     ]
    }
   ],
   "source": [
    "import os\n",
    "from osgeo import gdal, ogr\n",
    "import numpy as np\n",
    "import matplotlib.pyplot as plt\n",
    "from matplotlib.ticker import FuncFormatter, FormatStrFormatter, StrMethodFormatter\n",
    "from mpl_toolkits.axes_grid1 import make_axes_locatable\n",
    "\n",
    "    \n",
    "\n",
    "## Defining the home and data directories at the processing location\n",
    "work_dir = os.path.abspath(os.getcwd())\n",
    "tutorial_home_dir = os.path.abspath(os.getcwd())\n",
    "print(\"Work directory: \", work_dir)\n",
    "print(\"Tutorial directory: \", tutorial_home_dir)\n",
    "\n",
    "# Enable GDAL/OGR exceptions\n",
    "gdal.UseExceptions()\n",
    "\n",
    "# Verifying if ARIA-tools is installed correctly\n",
    "try:\n",
    "    import ARIAtools.shapefile_util as shputil\n",
    "except:\n",
    "    raise Exception('ARIA-tools is missing from your PYTHONPATH')\n",
    "        \n",
    "os.chdir(work_dir)"
   ]
  },
  {
   "cell_type": "markdown",
   "metadata": {
    "hidden": true
   },
   "source": [
    "Below we define a plotting function that will be used throughout the notebook for plotting GDAL compatible datasets on a map."
   ]
  },
  {
   "cell_type": "code",
   "execution_count": 2,
   "metadata": {
    "hidden": true
   },
   "outputs": [],
   "source": [
    "def plot_layer(path_layer, lay_type=None, cmap=None, n_bands=None, **kwargs):\n",
    "    \"\"\" \n",
    "        path_layers is a string to the GDAL compatible dataset to be plotted\n",
    "    \"\"\"\n",
    "    \n",
    "    if not lay_type: \n",
    "        lay_type = os.path.dirname(path_layer)\n",
    "    title = [os.path.basename(lay_type)]\n",
    "    \n",
    "    ## get the lon lat bounds\n",
    "    ds       = gdal.Open(path_layer, gdal.GA_ReadOnly)\n",
    "    trans    = ds.GetGeoTransform()\n",
    "    extent   = [trans[0], trans[0] + ds.RasterXSize * trans[1], trans[3] + ds.RasterYSize*trans[5], trans[3]]\n",
    "    \n",
    "    ## loading the data\n",
    "    if not n_bands:\n",
    "        n_bands  = ds.RasterCount\n",
    "    lst_arrs = []\n",
    "    \n",
    "    for band in range(n_bands):\n",
    "        raster = ds.GetRasterBand(band+1)\n",
    "        arr    = raster.ReadAsArray()\n",
    "        try:\n",
    "            NoData = raster.GetNoDataValue()\n",
    "            arr = np.ma.masked_where((arr>1e20) |(arr==NoData),arr )\n",
    "        except:\n",
    "            print('Could not find a no-data value...')\n",
    "            arr = np.ma.masked_where(arr>1e20,arr)\n",
    "        \n",
    "        lst_arrs.append(arr)\n",
    "\n",
    "    ds = None\n",
    "    if n_bands < 4:\n",
    "        nrows = 1; ncols = n_bands\n",
    "    else:\n",
    "        raise Exception('Number of bands currently unsupported')\n",
    "        \n",
    "    \n",
    "    ## initializing a figure\n",
    "    fig, axes = plt.subplots(figsize=(12,9), ncols=ncols, nrows=nrows, sharex='col', sharey='row')\n",
    "    axes = axes if isinstance(axes, np.ndarray) else np.array(axes)\n",
    "    axe  = axes.ravel() \n",
    "    cmap = plt.cm.Greys_r\n",
    "    cmap.set_under('black')\n",
    "    \n",
    "    ## definging the plotting options for differnt layer types\n",
    "    # Amplitude:\n",
    "    if lay_type.endswith('amplitude'): \n",
    "        # will fix the maximum amplitude bound\n",
    "        vmin=None\n",
    "        vmax = 2000 \n",
    "    # Coherence:\n",
    "    elif lay_type.endswith('coherence'): \n",
    "        # has fixed range between 0-1\n",
    "        vmin=0\n",
    "        vmax = 1\n",
    "    # Incidence angle:\n",
    "    elif lay_type.endswith('incidenceAngle'): \n",
    "        vmin=None\n",
    "        vmax=None\n",
    "    # water\n",
    "    elif lay_type.startswith('water'):\n",
    "        # no bounds needed will be a 0/1 mask\n",
    "        vmin=0\n",
    "        vmax=1\n",
    "        cmap='Greys'\n",
    "    # deformation or unwrapped phase\n",
    "    elif lay_type.startswith('defo'): \n",
    "        # let the data drive the bounds\n",
    "        vmin=None\n",
    "        vmax=None\n",
    "        # change colormap to a warm type\n",
    "        cmap=plt.cm.coolwarm\n",
    "    elif lay_type.startswith('terr') or lay_type.startswith('topo'): \n",
    "        # let the data drive the bounds\n",
    "        vmin=None\n",
    "        vmax=None\n",
    "        # change colormap to a warm type\n",
    "        cmap=plt.cm.terrain\n",
    "    elif lay_type == 'ENU':\n",
    "        vmin=None\n",
    "        vmax=None\n",
    "        title = ['East', 'North', 'Up']\n",
    "        fig.subplots_adjust(wspace=0.5)\n",
    "\n",
    "    else:\n",
    "        # let the data drive the bounds\n",
    "        vmin=None\n",
    "        vmax=None\n",
    "        # change colormap to a warm type\n",
    "        cmap=plt.cm.coolwarm\n",
    "        \n",
    "    # plotting the data    \n",
    "    for i, ax in enumerate(axe):\n",
    "        im   = ax.imshow(lst_arrs[i], cmap=cmap, vmin=vmin, vmax=vmax, extent=extent)\n",
    "        divider = make_axes_locatable(ax)\n",
    "        cax     = divider.append_axes('right', size='5%', pad=0.25)\n",
    "        if lay_type == 'ENU':\n",
    "            fig.colorbar(im, cax=cax, format=FuncFormatter(lambda x, y: '{:.3f}'.format(x)))\n",
    "        elif lay_type.startswith('water'):\n",
    "            fig.colorbar(im, cax=cax, ticks=[vmin, vmax])\n",
    "        else:\n",
    "            fig.colorbar(im, cax=cax)\n",
    "\n",
    "        ax.set_title(title[i], fontsize=15)\n",
    "        ax.grid(False)\n",
    "\n",
    "    axe[0].set_ylabel('latitude', labelpad=15, fontsize=15)\n",
    "    axe[int(np.floor(n_bands/2))].set_xlabel('longitude', labelpad=15, fontsize=15)"
   ]
  },
  {
   "cell_type": "markdown",
   "metadata": {},
   "source": [
    "## Prep B: Download the data"
   ]
  },
  {
   "cell_type": "markdown",
   "metadata": {},
   "source": [
    "We will use San Francisco as the study area for this tutorial (see **Fig. 1**). Specifically, we will use Sentinel-1 interferograms generated on track 42, spanning the start of the Sentinel-1 mission phase in late 2014 up until the present day.\n",
    "\n",
    "ARIA provides unwrapped interferograms as GUNW products. As the spatial extent of a product is roughly the size of a single Sentinel-1 SLC frame (250km x 250km), it is likely that a given interferogram over this study area is composed of multiple adjacent GUNW frames or products.\n",
    "\n",
    "<img src=\"./support_docs/track_042.png\" alt=\"track\" width=\"600\">\n",
    "\n",
    "<blockquote><b>Fig. 1</b> Image of San Francisco study area centered along Track 42. Blue and white boxes denote footprint of a product and the bounding box of our study area. Faults from USGS Quaternary fault catalog are plotted in background. For interpretation of fault trace colors, refer to see <a href=\"https://earthquake.usgs.gov/hazards/qfaults/\">USGS fault catalogue website </a>. </blockquote>"
   ]
  },
  {
   "cell_type": "markdown",
   "metadata": {},
   "source": [
    "### ARIA GUNW products"
   ]
  },
  {
   "cell_type": "markdown",
   "metadata": {},
   "source": [
    "The GUNW product is an InSAR surface displacement product derived from Sentinel-1 SAR data and packaged as netCDF4 files. GUNW products contain both data and meta-data layers such as the interferometric amplitude, filtered unwrapped phase, filtered coherence, connected components, perpendicular and parallel baselines, incidence, azimuth and look angles. A detailed overview of the ARIA GUNW product with respect to processing, formatting, sampling, and data layers can be found on the [ARIA website](https://aria.jpl.nasa.gov/node/97)."
   ]
  },
  {
   "cell_type": "markdown",
   "metadata": {},
   "source": [
    "### Download options"
   ]
  },
  {
   "cell_type": "markdown",
   "metadata": {},
   "source": [
    "GUNW products are hosted at the ASF DAAC and can be downloaded from the [ARIA-products page](https://aria-products.jpl.nasa.gov) and as beta products from the [ASF DAAC data search page](https://search.asf.alaska.edu/#/). If you know the GUNW filename of the product, you can also build a download link by appending the GUNW filename to **https://<i></i>grfn.asf.alaska.edu<i></i>/door/download/** . \n",
    "\n",
    "Alternatively, you can use the **`ariaDownload.py`** program provided within the ARIA-tools package to download data using a command-line interface. This program wraps around the ASF DAAC API and allows for search sub-setting of GUNW products based on track number, geometry (ascending or descending), as well as spatial and temporal bounding boxes criteria. For a full description of the **`ariaDownload.py`** program, see the [ariaDownload Tutorial](https://github.com/aria-tools/ARIA-tools-docs/blob/master/JupyterDocs/ariaDownload/ariaDownload_tutorial.ipynb).\n",
    "\n",
    "<div class=\"alert alert-warning\">\n",
    "<b>Potential download failure:</b> \n",
    "GUNW products are hosted at the NASA ASF DAAC. Downloading them requires a NASA Earthdata URS user login and requires users to add “ARIA Product Search” to their URS approved applications\n",
    "</div>\n",
    "\n",
    "Below we will use **`ariaDownload.py`** to download all the GUNW products on track *42* (**`--track`** option) over the San Francisco area *'37.25 38.1 -122.6 -121.75'* (**`-bbox`** SNWE option) corresponding to all interferograms produced starting *2014* (**`--s`** option) through to the present day. These products will be stored in a *products* subfolder created in your specified *work directory* (**`-w`** option).\n",
    "\n",
    "<div class=\"alert alert-danger\">\n",
    "<b>Download</b>:     \n",
    "    \n",
    "- Can take up to 40 mins, so this is a good moment to take a coffee-break! - The ***jupyter notebook* does not allow for interactive entering of your user-name and password, use the *jupyter terminal* instead** with the same command for interactive use.\n",
    "</div>"
   ]
  },
  {
   "cell_type": "code",
   "execution_count": null,
   "metadata": {},
   "outputs": [
    {
     "name": "stdout",
     "output_type": "stream",
     "text": [
      "https://api.daac.asf.alaska.edu/services/search/param?asfplatform=Sentinel-1%20Interferogram%20(BETA)&processingLevel=GUNW_STD&output=JSON&relativeOrbit=42&bbox=-122.6,37.25,-121.75,38.1\n",
      " > attempting to download https://urs.earthdata.nasa.gov/profile\n",
      " > Re-using previous cookie jar.\n",
      " > 'Temporary' Redirect download @ Remote archive:\n",
      " > https://dlz0dhr6g6ukw.cloudfront.net/S1-GUNW-D-R-042-tops-20200310_20190304-140804-38619N_36645N-PP-27a7-v2_0_2.nc?userid=bbuzz&Expires=1594780561&Signature=bqLUvMnqeN5TAO22rLmg1MlMaKXVSRznqbo3P7d1aoio3O88gTc8e8JRu9~0Vtp6-gLZ1p-jXWoMb0OCLOPKr12aXDx21Ry2yhoptNIbCzItb5RtuWf87FB-4~LJDsjHpQcapqN8tbkyboO~WUjKlAMzRH6dWqtkW7DOhkku0Ms_&Key-Pair-Id=APKAINVNJF4BDB5SS5QQ\n",
      "(1/595) Downloading https://grfn.asf.alaska.edu/door/download/S1-GUNW-D-R-042-tops-20200310_20190304-140804-38619N_36645N-PP-27a7-v2_0_2.nc\n",
      " > Downloaded 68626437 of 68626437 bytes (100.00%)\n",
      "Downloaded 68626437b in 7.26secs, Average Rate: 9.02MB/sec\n",
      " > 'Temporary' Redirect download @ Remote archive:\n",
      " > https://dlz0dhr6g6ukw.cloudfront.net/S1-GUNW-D-R-042-tops-20200310_20200122-140804-38619N_36645N-PP-a722-v2_0_2.nc?userid=bbuzz&Expires=1594780566&Signature=CHUeLe7yXAOfTsJs5m1oJcA8BSWnV4iUyi4HOktT0e2I~24yip~tRCdCvF7iH5rcQKOvzo4vMDrsfgNZh4Y2CIi91Q9P9AxXshpIpSnZTKf5mQ0l5A3WQjgxoKf9k6wxVqvQsCdrXNeR49aWnovVSrXIZc1a7o2jWpSX-u47~Co_&Key-Pair-Id=APKAINVNJF4BDB5SS5QQ\n",
      "(2/595) Downloading https://grfn.asf.alaska.edu/door/download/S1-GUNW-D-R-042-tops-20200310_20200122-140804-38619N_36645N-PP-a722-v2_0_2.nc\n",
      " > Downloaded 67853623 of 67853623 bytes (100.00%)\n",
      "Downloaded 67853623b in 14.94secs, Average Rate: 4.33MB/sec\n",
      " > 'Temporary' Redirect download @ Remote archive:\n",
      " > https://dlz0dhr6g6ukw.cloudfront.net/S1-GUNW-D-R-042-tops-20200310_20200203-140804-38619N_36645N-PP-3954-v2_0_2.nc?userid=bbuzz&Expires=1594780581&Signature=WHJy4AULgGmhKIY7OU-sBTxFJNQPGV5r0J1t4KuZopX2oj~Vn4qjjvp3Ff5frRoFGcGtG0a0KOG6MVARHxR47DGfB8DeLS6ieBBJUtN-wPqcn4C0avvv9YD-P-U3QsQUwlZ5uWO6Bj7VmaMPIB-6TeJe-emZtQsfQL2291iYI-s_&Key-Pair-Id=APKAINVNJF4BDB5SS5QQ\n",
      "(3/595) Downloading https://grfn.asf.alaska.edu/door/download/S1-GUNW-D-R-042-tops-20200310_20200203-140804-38619N_36645N-PP-3954-v2_0_2.nc\n",
      " > Downloaded 66114861 of 66114861 bytes (100.00%)\n",
      "Downloaded 66114861b in 4.97secs, Average Rate: 12.69MB/sec\n",
      " > 'Temporary' Redirect download @ Remote archive:\n",
      " > https://dlz0dhr6g6ukw.cloudfront.net/S1-GUNW-D-R-042-tops-20200310_20200227-140804-38619N_36645N-PP-6b0c-v2_0_2.nc?userid=bbuzz&Expires=1594780586&Signature=MARRbqcRwV5bBs6h4UfNKj3N8eC2bKFHmC-TtFrAkOa4mwEUcT7~ZgHF9RPR1ahxSlhyMurhLAdqRYYvMdmrfgJSk0FpY8~h1CTGqyZWWW6HUSzpp-GMkFkWatIByWJZphat9cW7vGyyWWDP1WiGkZ489R-ZVx7Mgo~3f-eVfMk_&Key-Pair-Id=APKAINVNJF4BDB5SS5QQ\n",
      "(4/595) Downloading https://grfn.asf.alaska.edu/door/download/S1-GUNW-D-R-042-tops-20200310_20200227-140804-38619N_36645N-PP-6b0c-v2_0_2.nc\n",
      " > Downloaded 63963564 of 63963564 bytes (100.00%)%)\n",
      "Downloaded 63963564b in 4.65secs, Average Rate: 13.11MB/sec\n",
      " > 'Temporary' Redirect download @ Remote archive:\n",
      " > https://dlz0dhr6g6ukw.cloudfront.net/S1-GUNW-D-R-042-tops-20200227_20190220-140804-38619N_36645N-PP-bea8-v2_0_2.nc?userid=bbuzz&Expires=1594780590&Signature=HMwrFzDxSqb3mnzXPqzcD1ZondoRgh89yWRwjGnYA~RZMN2YJj280WTTw0uhm6np7W2OgFQm43yp362nFoVf4Bdq9VlZLOs46zyOS~-92jN-66StDt6ghDk6Klm1NwiQBozSVD1o1BBGnaYb9U6TSaWBhJD4k~EQLKtTNZh72C0_&Key-Pair-Id=APKAINVNJF4BDB5SS5QQ\n",
      "(5/595) Downloading https://grfn.asf.alaska.edu/door/download/S1-GUNW-D-R-042-tops-20200227_20190220-140804-38619N_36645N-PP-bea8-v2_0_2.nc\n",
      " > Downloaded 67322391 of 67322391 bytes (100.00%)\n",
      "Downloaded 67322391b in 5.14secs, Average Rate: 12.48MB/sec\n",
      " > 'Temporary' Redirect download @ Remote archive:\n",
      " > https://dlz0dhr6g6ukw.cloudfront.net/S1-GUNW-D-R-042-tops-20200227_20200122-140804-38619N_36645N-PP-2c75-v2_0_2.nc?userid=bbuzz&Expires=1594780596&Signature=AaTqnxIMu4h~R6R9UDAmYXqFiL5-5iIS2F8eBRHGcmy1BR3KFUGYHbykFC1LxEp294sQ872l7il~HZO9~deHsdEY9Gf0ll-6iUFZLM80iInGCagSVtDcYdL1LDyKnexqZqGV3D5ZQqB4Ri~jqv2X4ZDhcRMxpq7v8XyJyDlpPco_&Key-Pair-Id=APKAINVNJF4BDB5SS5QQ\n",
      "(6/595) Downloading https://grfn.asf.alaska.edu/door/download/S1-GUNW-D-R-042-tops-20200227_20200122-140804-38619N_36645N-PP-2c75-v2_0_2.nc\n",
      " > Downloaded 65045065 of 65045065 bytes (100.00%)\n",
      "Downloaded 65045065b in 4.79secs, Average Rate: 12.94MB/sec\n",
      " > 'Temporary' Redirect download @ Remote archive:\n",
      " > https://dlz0dhr6g6ukw.cloudfront.net/S1-GUNW-D-R-042-tops-20200227_20200203-140804-38619N_36645N-PP-0261-v2_0_2.nc?userid=bbuzz&Expires=1594780600&Signature=UTG5g5ktlvwptETp4E5QDQ29OeLpADm9ppIwEuNFPIvc0rLF9~5Uxww-B~qHC59OS2QXpfcGI7mk015eTHB7UwincxS6SeeTplluhxqQuc95meafQ6iO3SRcOc41x3pBeMw5c92kMdszJovHl4gFXmAWvsxdtOKbf4J90X2VUmU_&Key-Pair-Id=APKAINVNJF4BDB5SS5QQ\n",
      "(7/595) Downloading https://grfn.asf.alaska.edu/door/download/S1-GUNW-D-R-042-tops-20200227_20200203-140804-38619N_36645N-PP-0261-v2_0_2.nc\n",
      " > Downloaded 65244156 of 65244156 bytes (100.00%)\n",
      "Downloaded 65244156b in 5.06secs, Average Rate: 12.28MB/sec\n",
      " > 'Temporary' Redirect download @ Remote archive:\n",
      " > https://dlz0dhr6g6ukw.cloudfront.net/S1-GUNW-D-R-042-tops-20200203_20190127-140804-38619N_36646N-PP-264b-v2_0_2.nc?userid=bbuzz&Expires=1594780605&Signature=ldNVmay~9BIttC5-~A-MJRg16q0ODT8rdJYSfgxRze4sLlRtsj4sKklor5rVxA7g8GW28l-bhrGhgLAJYGCjWVYqvO4DbqaXKwtvBfj4LsyEDyfiDw5H8tjXVqVWd4nxJFGWFAogA1UwHLcV-GswDA1UvPEzXDWzStJqo02PcBM_&Key-Pair-Id=APKAINVNJF4BDB5SS5QQ\n",
      "(8/595) Downloading https://grfn.asf.alaska.edu/door/download/S1-GUNW-D-R-042-tops-20200203_20190127-140804-38619N_36646N-PP-264b-v2_0_2.nc\n",
      " > Downloaded 69057061 of 69057061 bytes (100.00%)\n",
      "Downloaded 69057061b in 5.38secs, Average Rate: 12.24MB/sec\n",
      " > 'Temporary' Redirect download @ Remote archive:\n",
      " > https://dlz0dhr6g6ukw.cloudfront.net/S1-GUNW-D-R-042-tops-20200122_20191217-140805-38619N_36646N-PP-ffb8-v2_0_2.nc?userid=bbuzz&Expires=1594780611&Signature=AuEEK8VaI254RWnug-I7bI-DwCr6OZrLvo~GkHDKS6~gmUYUlWbg7qFCb~Ite3icabso6G-3M5DUg1PBn3fbDzWjnHr437jUpnEv8uiFm2JYUcvfMIYXxMoVR77iDZ7xNOB5wnlphUZ7ZThRuYOTlv9sKy~MI3xDdUpUTeYFEYA_&Key-Pair-Id=APKAINVNJF4BDB5SS5QQ\n",
      "(9/595) Downloading https://grfn.asf.alaska.edu/door/download/S1-GUNW-D-R-042-tops-20200122_20191217-140805-38619N_36646N-PP-ffb8-v2_0_2.nc\n",
      " > Downloaded 64648157 of 64648157 bytes (100.00%)\n",
      "Downloaded 64648157b in 5.01secs, Average Rate: 12.30MB/sec\n",
      " > 'Temporary' Redirect download @ Remote archive:\n",
      " > https://dlz0dhr6g6ukw.cloudfront.net/S1-GUNW-D-R-042-tops-20200122_20191229-140805-38619N_36646N-PP-7716-v2_0_2.nc?userid=bbuzz&Expires=1594780616&Signature=M4jh7R-8XT8V2NTi0ysUqhSMFXNKyuoTPGx6BaLWHaP~xV9yDQ7fwrwnZGrFtS4jWjUf17jc62Au8dPQEH-bI-UHnsrbwJHI1hWitk6d2LPDsBcA-MFO9pAY3sAv4~h11WhXnzHRV0JRQ7N84uI6GCbHpR1bfRj7NhBZf8G~axU_&Key-Pair-Id=APKAINVNJF4BDB5SS5QQ\n",
      "(10/595) Downloading https://grfn.asf.alaska.edu/door/download/S1-GUNW-D-R-042-tops-20200122_20191229-140805-38619N_36646N-PP-7716-v2_0_2.nc\n",
      " > Downloaded 64527922 of 64527922 bytes (100.00%)\n",
      "Downloaded 64527922b in 12.20secs, Average Rate: 5.04MB/sec\n",
      " > 'Temporary' Redirect download @ Remote archive:\n",
      " > https://dlz0dhr6g6ukw.cloudfront.net/S1-GUNW-D-R-042-tops-20200122_20200110-140805-38619N_36646N-PP-4811-v2_0_2.nc?userid=bbuzz&Expires=1594780628&Signature=O1qV4pRoCOA8v0Or-p6q~alsgkOTDPAUddXCTp6vJbg0aFrmwG9mLU9lN97VZWWjmwyULvagtQ6OL7Kf5djCcRXCGQ48mmgC3KXN8YKTNWGSYdT9Hecug5kkSSoWL1sQLbEGCVrzWJgp-8Nz8b747qlQ4Obp-Whtk~JlL56hf7Y_&Key-Pair-Id=APKAINVNJF4BDB5SS5QQ\n",
      "(11/595) Downloading https://grfn.asf.alaska.edu/door/download/S1-GUNW-D-R-042-tops-20200122_20200110-140805-38619N_36646N-PP-4811-v2_0_2.nc\n",
      " > Downloaded 63105659 of 63105659 bytes (100.00%)\n",
      "Downloaded 63105659b in 17.82secs, Average Rate: 3.38MB/sec\n",
      " > 'Temporary' Redirect download @ Remote archive:\n",
      " > https://dlz0dhr6g6ukw.cloudfront.net/S1-GUNW-D-R-042-tops-20200110_20190103-140805-38620N_36646N-PP-c504-v2_0_2.nc?userid=bbuzz&Expires=1594780646&Signature=VL8sb-9gHgeEYGycYRs74KiP4xx79o0wjgc8BvD8mJw5xTQtm~6wGxASRJg-WFU6bpOh~QuzGIy2tzNpdPGI5ITCPh056TNIW4u0fVYgOnCxfuaT35FuFkAlLLgeoxv9M~M93NqapIgJJOpmpmHiZkKwNtOTME1kB2bG8qwnBPc_&Key-Pair-Id=APKAINVNJF4BDB5SS5QQ\n",
      "(12/595) Downloading https://grfn.asf.alaska.edu/door/download/S1-GUNW-D-R-042-tops-20200110_20190103-140805-38620N_36646N-PP-c504-v2_0_2.nc\n"
     ]
    },
    {
     "name": "stdout",
     "output_type": "stream",
     "text": [
      " > Downloaded 69099770 of 69099770 bytes (100.00%)\n",
      "Downloaded 69099770b in 6.96secs, Average Rate: 9.46MB/sec\n",
      " > 'Temporary' Redirect download @ Remote archive:\n",
      " > https://dlz0dhr6g6ukw.cloudfront.net/S1-GUNW-D-R-042-tops-20200110_20191205-140805-38620N_36646N-PP-a0c2-v2_0_2.nc?userid=bbuzz&Expires=1594780653&Signature=nrAQ3Cv7mYK75FnJYFug111L~vz677n-xz-JnBFhDvUdMiJM1rEnVvcDzhCP~qsiGMJwrm3g1xhTxdsbxzbGvkNm6~SI9PTimX49Cqp3aoQd-OoZokyV9pdHWztuzO1Y7EuSHGNsHSiBFMcN6v3f1Xrs6rPffni5v-eZMR7DOuQ_&Key-Pair-Id=APKAINVNJF4BDB5SS5QQ\n",
      "(13/595) Downloading https://grfn.asf.alaska.edu/door/download/S1-GUNW-D-R-042-tops-20200110_20191205-140805-38620N_36646N-PP-a0c2-v2_0_2.nc\n",
      " > Downloaded 65357781 of 65357781 bytes (100.00%)\n",
      "Downloaded 65357781b in 23.57secs, Average Rate: 2.64MB/sec\n",
      " > 'Temporary' Redirect download @ Remote archive:\n",
      " > https://dlz0dhr6g6ukw.cloudfront.net/S1-GUNW-D-R-042-tops-20200110_20191217-140805-38620N_36646N-PP-3790-v2_0_2.nc?userid=bbuzz&Expires=1594780676&Signature=d1f1~GMgM1whAaAKLzS2V6Me0LM9QxmJbcJc4~8tlHEgJIkDiEgGcHhzc5UG59CYmCkUMqq7871I9VRCSNXowJ9YYxeKNIV6Hy8CrDVQafbyhd7eErvt6-eoXjRg6zZvgTvJcmJixfJLh5~AskwRmqLljZR-p7T23SMu1wgk8HE_&Key-Pair-Id=APKAINVNJF4BDB5SS5QQ\n",
      "(14/595) Downloading https://grfn.asf.alaska.edu/door/download/S1-GUNW-D-R-042-tops-20200110_20191217-140805-38620N_36646N-PP-3790-v2_0_2.nc\n",
      " > Downloaded 64476957 of 64476957 bytes (100.00%)\n",
      "Downloaded 64476957b in 46.72secs, Average Rate: 1.32MB/sec\n",
      " > 'Temporary' Redirect download @ Remote archive:\n",
      " > https://dlz0dhr6g6ukw.cloudfront.net/S1-GUNW-D-R-042-tops-20200110_20191229-140805-38620N_36646N-PP-abbd-v2_0_2.nc?userid=bbuzz&Expires=1594780723&Signature=XsfhbPKp6NYZ~61Iy3en07j4DznCDMCamhnAX0uZztF0gv7WXUuMqkcKlUnOMhaGKqKn8jhqhrtZG1KU6Jo-3RcTwOKPXCktfhfeGRtDSXUvn5u1cSh5vu5XJ6hifehE9wGVkEQAaNlsi8YgD1FBtR6Fu5C2BDqlL7mAvW2x4IU_&Key-Pair-Id=APKAINVNJF4BDB5SS5QQ\n",
      "(15/595) Downloading https://grfn.asf.alaska.edu/door/download/S1-GUNW-D-R-042-tops-20200110_20191229-140805-38620N_36646N-PP-abbd-v2_0_2.nc\n",
      " > Downloaded 62118748 of 62118748 bytes (100.00%)\n",
      "Downloaded 62118748b in 9.10secs, Average Rate: 6.51MB/sec\n",
      " > 'Temporary' Redirect download @ Remote archive:\n",
      " > https://dlz0dhr6g6ukw.cloudfront.net/S1-GUNW-D-R-042-tops-20191229_20181222-140806-38620N_36646N-PP-eca8-v2_0_2.nc?userid=bbuzz&Expires=1594780732&Signature=syLX7C6oVLcImX9~OUpRQIhpTMGnGEmNmLBqqazV07xvGAfA9EgQk1QW61-4q8pf58bfXiY0XPuFH5y4hrTCxkz3rvWsz23-8WrYLbwMJGklkh8nV9w797zjqto4UuRJ9MwyDO3MowVOfIom2X29pFIUfYTmdV~DSAxH8vRUb2o_&Key-Pair-Id=APKAINVNJF4BDB5SS5QQ\n",
      "(16/595) Downloading https://grfn.asf.alaska.edu/door/download/S1-GUNW-D-R-042-tops-20191229_20181222-140806-38620N_36646N-PP-eca8-v2_0_2.nc\n",
      " > Downloaded 68449608 of 68449608 bytes (100.00%)\n",
      "Downloaded 68449608b in 8.41secs, Average Rate: 7.77MB/sec\n",
      " > 'Temporary' Redirect download @ Remote archive:\n",
      " > https://dlz0dhr6g6ukw.cloudfront.net/S1-GUNW-D-R-042-tops-20191229_20191123-140806-38620N_36646N-PP-f0aa-v2_0_2.nc?userid=bbuzz&Expires=1594780741&Signature=owKMANpTk6a3zBzvGmEhSzYn~0LLPf44ImaA-yzouukMBxuqnUMMZOYqhUIJfE1bzUCSi9W-CVstm442MVFfkY9PXxhwNdROXSAh0aykyepeL2d6IObMomoztf79q~NgHjLKK~Z71xDb8NIgaGDfGW94SVzD-PtnG6VlfUNZOgE_&Key-Pair-Id=APKAINVNJF4BDB5SS5QQ\n",
      "(17/595) Downloading https://grfn.asf.alaska.edu/door/download/S1-GUNW-D-R-042-tops-20191229_20191123-140806-38620N_36646N-PP-f0aa-v2_0_2.nc\n",
      " > Downloaded 67511165 of 67511165 bytes (100.00%)\n",
      "Downloaded 67511165b in 6.50secs, Average Rate: 9.90MB/sec\n",
      " > 'Temporary' Redirect download @ Remote archive:\n",
      " > https://dlz0dhr6g6ukw.cloudfront.net/S1-GUNW-D-R-042-tops-20191229_20191205-140806-38620N_36646N-PP-02c2-v2_0_2.nc?userid=bbuzz&Expires=1594780747&Signature=Dur7MBckc7j982vvppDeRmq-Svei6YXXxXCJRo~jKbYBKJz0FFWknpA2~36ySk4gVfxPSWXkU~DMH9Q5f7EPHlE27h2TwyBH9VCuL~s6bkPclyAJag07fxDmC1x~P8Qcy9rTSn8KvchDG9cr5UNr5SbSHC-~WUX~pniObK044qs_&Key-Pair-Id=APKAINVNJF4BDB5SS5QQ\n",
      "(18/595) Downloading https://grfn.asf.alaska.edu/door/download/S1-GUNW-D-R-042-tops-20191229_20191205-140806-38620N_36646N-PP-02c2-v2_0_2.nc\n",
      " > Downloaded 65187179 of 65187179 bytes (100.00%)48 of 65187179 bytes (5.27%)02%)f 65187179 bytes (82.79%)\n",
      "Downloaded 65187179b in 10.29secs, Average Rate: 6.04MB/sec\n",
      " > 'Temporary' Redirect download @ Remote archive:\n",
      " > https://dlz0dhr6g6ukw.cloudfront.net/S1-GUNW-D-R-042-tops-20191229_20191217-140806-38620N_36646N-PP-7a71-v2_0_2.nc?userid=bbuzz&Expires=1594780757&Signature=sIHqK0gUnMnMxmeqAZBjoq17erU5jww3eoO4KPocEdaPrmxkTpLF6u2hbN7mYO-w1xzUWgj0HDxSP51PPgI~37AAOKphtJiWR0XmnON1Vessp26HazHgUx4O3fEFBr0jnU-gMKVN9QU3U58A~jJj4tkMoM6FCRKWOAP9FIyhAEM_&Key-Pair-Id=APKAINVNJF4BDB5SS5QQ\n",
      "(19/595) Downloading https://grfn.asf.alaska.edu/door/download/S1-GUNW-D-R-042-tops-20191229_20191217-140806-38620N_36646N-PP-7a71-v2_0_2.nc\n",
      " > Downloaded 63076129 of 63076129 bytes (100.00%)\n",
      "Downloaded 63076129b in 5.44secs, Average Rate: 11.05MB/sec\n",
      " > 'Temporary' Redirect download @ Remote archive:\n",
      " > https://dlz0dhr6g6ukw.cloudfront.net/S1-GUNW-D-R-042-tops-20191217_20181210-140806-38619N_36646N-PP-50b8-v2_0_2.nc?userid=bbuzz&Expires=1594780763&Signature=p5Im7n-vYBPA3lLBOR65qGMPcoeAFjcFOa3S2uPEmTEZzRzx3cTAeQJXLxV916zAKUs2EY~6XfZzhRy0laWFmp1LIKemdEfSsgk9jondrzEEMrhP6eA~Z5EyV77-hW6On8-as16M2fI1PDMYp9Rnh4aYA36h5LqOvsca4~wFKlE_&Key-Pair-Id=APKAINVNJF4BDB5SS5QQ\n",
      "(20/595) Downloading https://grfn.asf.alaska.edu/door/download/S1-GUNW-D-R-042-tops-20191217_20181210-140806-38619N_36646N-PP-50b8-v2_0_2.nc\n",
      " > Downloaded 67509626 of 67509626 bytes (100.00%)\n",
      "Downloaded 67509626b in 5.32secs, Average Rate: 12.10MB/sec\n",
      " > 'Temporary' Redirect download @ Remote archive:\n",
      " > https://dlz0dhr6g6ukw.cloudfront.net/S1-GUNW-D-R-042-tops-20191217_20191111-140806-38619N_36646N-PP-1a85-v2_0_2.nc?userid=bbuzz&Expires=1594780768&Signature=RdkUff5W3T8Br6QUac6hJNAexFy~u4glBap76~KpCMhEbm6s5RuiH7rvk7yGPW03un8GJ0BlpasKELxHlSL8Qsd5TnZrjYLVleKdlthIMz6RV1fOeI0oLdW9It8s5m51a-vbiUlWjI5JAUs5OF0EExtDCuDAzlZMkuvCkrmapSs_&Key-Pair-Id=APKAINVNJF4BDB5SS5QQ\n",
      "(21/595) Downloading https://grfn.asf.alaska.edu/door/download/S1-GUNW-D-R-042-tops-20191217_20191111-140806-38619N_36646N-PP-1a85-v2_0_2.nc\n",
      " > Downloaded 67006631 of 67006631 bytes (100.00%)\n",
      "Downloaded 67006631b in 8.75secs, Average Rate: 7.30MB/sec\n",
      " > 'Temporary' Redirect download @ Remote archive:\n",
      " > https://dlz0dhr6g6ukw.cloudfront.net/S1-GUNW-D-R-042-tops-20191217_20191205-140806-38619N_36646N-PP-185f-v2_0_2.nc?userid=bbuzz&Expires=1594780777&Signature=ULm9W3v11Ob-m0rDWSL7HYPVniXFJFrWB0thZoOz3v9aazV1e5UZ6J7G~2bSQBLQskJeUyK8I~JKw4su4LFFSWDd~lU297d-1h31wgKMFldNUfMpYz~O1TlLXQf52l8QHdj9ZJxLwBlBYMC8d16zx1nFtUYdQHbynXXclqw6M0A_&Key-Pair-Id=APKAINVNJF4BDB5SS5QQ\n",
      "(22/595) Downloading https://grfn.asf.alaska.edu/door/download/S1-GUNW-D-R-042-tops-20191217_20191205-140806-38619N_36646N-PP-185f-v2_0_2.nc\n",
      " > Downloaded 66156858 of 66156858 bytes (100.00%) 66156858 bytes (22.54%)f 66156858 bytes (59.80%)f 66156858 bytes (60.42%))f 66156858 bytes (68.54%)f 66156858 bytes (73.14%)f 66156858 bytes (75.66%)f 66156858 bytes (77.40%)f 66156858 bytes (87.27%)\n",
      "Downloaded 66156858b in 29.83secs, Average Rate: 2.11MB/sec\n",
      " > 'Temporary' Redirect download @ Remote archive:\n",
      " > https://dlz0dhr6g6ukw.cloudfront.net/S1-GUNW-D-R-042-tops-20191205_20181128-140807-38620N_36646N-PP-663d-v2_0_2.nc?userid=bbuzz&Expires=1594780807&Signature=SjVweMHpq-kI11EChA8hp1Nd7HBB9~ouGq06-zY~v85BnnlNz9yz7H3CtMsCIHgKBndq-GmoJfvPGxrc0F8iTCGMgzawS0EK1SS3mIOO~G31ol7eqQIoYn~nr0BRGXNPmi4pjiM2UqfYc6PWs0wg-ou5cgVAk~YQncULy85yTaI_&Key-Pair-Id=APKAINVNJF4BDB5SS5QQ\n",
      "(23/595) Downloading https://grfn.asf.alaska.edu/door/download/S1-GUNW-D-R-042-tops-20191205_20181128-140807-38620N_36646N-PP-663d-v2_0_2.nc\n",
      " > Downloaded 68468472 of 68468472 bytes (100.00%).15%)89%)f 68468472 bytes (21.09%))\n",
      "Downloaded 68468472b in 5.62secs, Average Rate: 11.63MB/sec\n",
      " > 'Temporary' Redirect download @ Remote archive:\n",
      " > https://dlz0dhr6g6ukw.cloudfront.net/S1-GUNW-D-R-042-tops-20191205_20191030-140807-38620N_36646N-PP-9e0a-v2_0_2.nc?userid=bbuzz&Expires=1594780812&Signature=jfXrm0J5VMVJQXBs1LmGajfjGIQJrKTy5fOfPLSGpAocYy0vb8BM7u~tAX3jBQzfd6clu6GbiV~fj93~b9cfc574yj1803b84C-7UzE23lhlk7-cwGPhtCWgTvKO~a0dY9CxpmYnB1QQL48KIG1dTBZJkb~Uk4VDZW8dJFfa0KY_&Key-Pair-Id=APKAINVNJF4BDB5SS5QQ\n",
      "(24/595) Downloading https://grfn.asf.alaska.edu/door/download/S1-GUNW-D-R-042-tops-20191205_20191030-140807-38620N_36646N-PP-9e0a-v2_0_2.nc\n"
     ]
    },
    {
     "name": "stdout",
     "output_type": "stream",
     "text": [
      " > Downloaded 66936969 of 66936969 bytes (100.00%) 66936969 bytes (64.77%)f 66936969 bytes (71.79%)\n",
      "Downloaded 66936969b in 5.60secs, Average Rate: 11.39MB/sec\n",
      " > 'Temporary' Redirect download @ Remote archive:\n",
      " > https://dlz0dhr6g6ukw.cloudfront.net/S1-GUNW-D-R-042-tops-20191205_20191111-140807-38620N_36646N-PP-3c43-v2_0_2.nc?userid=bbuzz&Expires=1594780818&Signature=MH4igJfWpgbYXYNBwDDTQg6YLe3wRLd7EoJ02AfkH~IOj~HjOKtX9QoE7q-I9~mMGVJCPZUmDhlZjN22Ka33X9VsQIwUiN5mwxNWhKKDPx7P8sZgXB4S6U5nWUoo43~hbzGgm-7ImoR57LzBXuGhmnSUdXw5ME5cmS6yowZIHcI_&Key-Pair-Id=APKAINVNJF4BDB5SS5QQ\n",
      "(25/595) Downloading https://grfn.asf.alaska.edu/door/download/S1-GUNW-D-R-042-tops-20191205_20191111-140807-38620N_36646N-PP-3c43-v2_0_2.nc\n",
      " > Downloaded 67827216 of 67827216 bytes (100.00%)%)28 of 67827216 bytes (49.33%)\n",
      "Downloaded 67827216b in 14.49secs, Average Rate: 4.47MB/sec\n",
      " > 'Temporary' Redirect download @ Remote archive:\n",
      " > https://dlz0dhr6g6ukw.cloudfront.net/S1-GUNW-D-R-042-tops-20191205_20191123-140807-38620N_36646N-PP-de28-v2_0_2.nc?userid=bbuzz&Expires=1594780833&Signature=6EpG3PWWVbdvMgE2VOqdiUI8YfTnvT47OqVTxzAzO5tAwwihPFV1qbzaXuquH8GxCjTmoVQGZzucGNNb1F-o39rg7x5d8GEba~dw75ztZOWA2CLG0ICNreecPUxjhBxOPAVDiSlZHDS4BIqd6e9SQcx6wyLH8xwEXId8qClJJ3Q_&Key-Pair-Id=APKAINVNJF4BDB5SS5QQ\n",
      "(26/595) Downloading https://grfn.asf.alaska.edu/door/download/S1-GUNW-D-R-042-tops-20191205_20191123-140807-38620N_36646N-PP-de28-v2_0_2.nc\n",
      " > Downloaded 67969814 of 67969814 bytes (100.00%)\n",
      "Downloaded 67969814b in 6.82secs, Average Rate: 9.51MB/sec\n",
      " > 'Temporary' Redirect download @ Remote archive:\n",
      " > https://dlz0dhr6g6ukw.cloudfront.net/S1-GUNW-D-R-042-tops-20191123_20181116-140807-38620N_36646N-PP-9d7f-v2_0_2.nc?userid=bbuzz&Expires=1594780839&Signature=EgZ5lriM3LjxDoJ1A-u81sYBVyN6qHgpmy10hvDznsU~Gz-iks3VzR0JLW6U3IQtkxnxpE8M4iex105b0zOwlMIiFxFulm0dfthEsccRw~Y9PQgPLs8mSNIG7klsafCCKX8Rl0JlJle2WlpMFfbnHpZbKTGbkW4svPF-IDVf~WY_&Key-Pair-Id=APKAINVNJF4BDB5SS5QQ\n",
      "(27/595) Downloading https://grfn.asf.alaska.edu/door/download/S1-GUNW-D-R-042-tops-20191123_20181116-140807-38620N_36646N-PP-9d7f-v2_0_2.nc\n",
      " > Downloaded 66435682 of 66435682 bytes (100.00%)\n",
      "Downloaded 66435682b in 5.29secs, Average Rate: 11.98MB/sec\n",
      " > 'Temporary' Redirect download @ Remote archive:\n",
      " > https://dlz0dhr6g6ukw.cloudfront.net/S1-GUNW-D-R-042-tops-20191123_20191018-140807-38620N_36646N-PP-6503-v2_0_2.nc?userid=bbuzz&Expires=1594780845&Signature=ImuTeNEiOKH0aaFPkKD~4o590AOVn726HoacTaltOjw6N3vZXnZv93SiV8Xt-s68f5yi6k91ku3G6XL0t0oISAYmC4CvOF3aFo0V14uHFpEjGzzzwVYHQCkW~xtxQaQPQarkEKDDcLyXY~mKgKNE9jcnJFbeynxQuugOYcQ4uaE_&Key-Pair-Id=APKAINVNJF4BDB5SS5QQ\n",
      "(28/595) Downloading https://grfn.asf.alaska.edu/door/download/S1-GUNW-D-R-042-tops-20191123_20191018-140807-38620N_36646N-PP-6503-v2_0_2.nc\n",
      " > Downloaded 64733143 of 64733143 bytes (100.00%)\n",
      "Downloaded 64733143b in 4.91secs, Average Rate: 12.58MB/sec\n",
      " > 'Temporary' Redirect download @ Remote archive:\n",
      " > https://dlz0dhr6g6ukw.cloudfront.net/S1-GUNW-D-R-042-tops-20191123_20191030-140807-38620N_36646N-PP-ca0a-v2_0_2.nc?userid=bbuzz&Expires=1594780849&Signature=Q6GeHy4TYuWd5wqrTiIYsj4~RfrlysWv9BReAc8Gs1kdRYP8CbyzxkmsUhxPnxAXc8nmJUmFV6M2ImRVT7CWbOTkXOXmeEoPx5SXdY0mapfUU1IbRDJKwSYxWdUQ1Wkzb6e7YSwl77IOWtJzOsY14jnRBntXgQvkOjCGoEtGrPE_&Key-Pair-Id=APKAINVNJF4BDB5SS5QQ\n",
      "(29/595) Downloading https://grfn.asf.alaska.edu/door/download/S1-GUNW-D-R-042-tops-20191123_20191030-140807-38620N_36646N-PP-ca0a-v2_0_2.nc\n",
      " > Downloaded 61556066 of 61556066 bytes (100.00%)\n",
      "Downloaded 61556066b in 4.30secs, Average Rate: 13.64MB/sec\n",
      " > 'Temporary' Redirect download @ Remote archive:\n",
      " > https://dlz0dhr6g6ukw.cloudfront.net/S1-GUNW-D-R-042-tops-20191123_20191111-140807-38620N_36646N-PP-8625-v2_0_2.nc?userid=bbuzz&Expires=1594780854&Signature=SMyy4Ni2sRLjWWENGokiXoA5bW0AEDk1jPUKh1LUxtU-bAc5i6GkPEUvMEzccln6-8TIg0Geq1WJpJZWgD8DcYq79TSR7heLDR-D5s10GGYYUvDn0qh~2sfhRb0xiejotgszTVEJmUPrQ6rULtcbdTbHlSjK4Y-iefiwYPgRG88_&Key-Pair-Id=APKAINVNJF4BDB5SS5QQ\n",
      "(30/595) Downloading https://grfn.asf.alaska.edu/door/download/S1-GUNW-D-R-042-tops-20191123_20191111-140807-38620N_36646N-PP-8625-v2_0_2.nc\n",
      " > Downloaded 60586898 of 60586898 bytes (100.00%) 60586898 bytes (90.42%)\n",
      "Downloaded 60586898b in 4.42secs, Average Rate: 13.07MB/sec\n",
      " > 'Temporary' Redirect download @ Remote archive:\n",
      " > https://dlz0dhr6g6ukw.cloudfront.net/S1-GUNW-D-R-042-tops-20191111_20181104-140807-38619N_36646N-PP-168c-v2_0_2.nc?userid=bbuzz&Expires=1594780858&Signature=ujYXXJWx-gzyp0LtBReSrRhjqwgAEqLhXejtVyYUbg88mqY0SUIl11QnCHhwkkg7d-DWhw6lbNvjLVmDGNu53EkohCAKWkddksIU9pCfjF3zGIt9rin5LaKtFhvtxWVafdTn4KqJwWUsk-cFdH2uEliXP9xuFECdyXLElzw7o-c_&Key-Pair-Id=APKAINVNJF4BDB5SS5QQ\n",
      "(31/595) Downloading https://grfn.asf.alaska.edu/door/download/S1-GUNW-D-R-042-tops-20191111_20181104-140807-38619N_36646N-PP-168c-v2_0_2.nc\n",
      " > Downloaded 67402561 of 67402561 bytes (100.00%)\n",
      "Downloaded 67402561b in 4.37secs, Average Rate: 14.72MB/sec\n",
      " > 'Temporary' Redirect download @ Remote archive:\n",
      " > https://dlz0dhr6g6ukw.cloudfront.net/S1-GUNW-D-R-042-tops-20191111_20191006-140807-38619N_36646N-PP-3527-v2_0_2.nc?userid=bbuzz&Expires=1594780863&Signature=ZYf4NlqdLsG1W2oXzrCmKfcDHXcKO0919HIbHZk~qEEMHyWqx924BOkj4htJd6CrBKi-vMlf6lMPJQpSACNV6jQa1Oy5bxC5sBHrLETINDGTEc-aNAyHPvPkr8l84LUuEWoyfyKimqBh190pgxtvV5I8er-MWzCGEn9S4Zr-We8_&Key-Pair-Id=APKAINVNJF4BDB5SS5QQ\n",
      "(32/595) Downloading https://grfn.asf.alaska.edu/door/download/S1-GUNW-D-R-042-tops-20191111_20191006-140807-38619N_36646N-PP-3527-v2_0_2.nc\n",
      " > Downloaded 64366718 of 64366718 bytes (100.00%) 64366718 bytes (55.59%)f 64366718 bytes (70.14%)f 64366718 bytes (78.30%)\n",
      "Downloaded 64366718b in 4.50secs, Average Rate: 13.63MB/sec\n",
      " > 'Temporary' Redirect download @ Remote archive:\n",
      " > https://dlz0dhr6g6ukw.cloudfront.net/S1-GUNW-D-R-042-tops-20191111_20191018-140807-38619N_36646N-PP-a23e-v2_0_2.nc?userid=bbuzz&Expires=1594780867&Signature=Zi-1S2R-Mw8LgngTUgrqIBhFmTITh0Ux0tHFHkYlMASIMVY83ZTpwdnJwMqqyQh7NcIm7WbbDqiWcOd-0c90YIS6p30M14YZp3kwTzrFe1495ake5dH2M0g2VTiQk9ERYBGw0EifLFC6SnfAnD63UM9chzPLHmH3luVuzcZG5PA_&Key-Pair-Id=APKAINVNJF4BDB5SS5QQ\n",
      "(33/595) Downloading https://grfn.asf.alaska.edu/door/download/S1-GUNW-D-R-042-tops-20191111_20191018-140807-38619N_36646N-PP-a23e-v2_0_2.nc\n",
      " > Downloaded 63160397 of 63160397 bytes (100.00%)f 63160397 bytes (71.26%)f 63160397 bytes (82.70%)f 63160397 bytes (92.48%)\n",
      "Downloaded 63160397b in 4.87secs, Average Rate: 12.38MB/sec\n",
      " > 'Temporary' Redirect download @ Remote archive:\n",
      " > https://dlz0dhr6g6ukw.cloudfront.net/S1-GUNW-D-R-042-tops-20191111_20191030-140807-38619N_36646N-PP-b286-v2_0_2.nc?userid=bbuzz&Expires=1594780872&Signature=d54V8ByDGeiOG1GQGvvbOPjznnUjN3WVZkyFshPpcFon4RW6CWk6~HZoK4q3ShK8HSx0~osf7ZnCwfZnnvfHJva2E6lhLRQ0iyyw9-9cQU7MjM84yz9DRg0eEJ6pKOd-d2DaB4DhHjmjwGFog34lYYP7fZUSX6gmjhVk34qhdiE_&Key-Pair-Id=APKAINVNJF4BDB5SS5QQ\n",
      "(34/595) Downloading https://grfn.asf.alaska.edu/door/download/S1-GUNW-D-R-042-tops-20191111_20191030-140807-38619N_36646N-PP-b286-v2_0_2.nc\n",
      " > Downloaded 62768409 of 62768409 bytes (100.00%)\n",
      "Downloaded 62768409b in 4.15secs, Average Rate: 14.43MB/sec\n",
      " > 'Temporary' Redirect download @ Remote archive:\n",
      " > https://dlz0dhr6g6ukw.cloudfront.net/S1-GUNW-D-R-042-tops-20191030_20181023-140807-38619N_36646N-PP-01b0-v2_0_2.nc?userid=bbuzz&Expires=1594780876&Signature=ja~y2nuygfvebKZn8TkJ2D8~xFs0-DRh42NmHvv0PnTJmR383ofoCUO3EcXfsunz-MXC7Mtqtty6Yr76NCbmvCUsKd8H2Adci~LojmlsIoA~XIbNozWSjvcmydNO5IVziT-G49v0SpnjJCJhFZEMJLv7~B~RcOecNAct5cOo-GY_&Key-Pair-Id=APKAINVNJF4BDB5SS5QQ\n",
      "(35/595) Downloading https://grfn.asf.alaska.edu/door/download/S1-GUNW-D-R-042-tops-20191030_20181023-140807-38619N_36646N-PP-01b0-v2_0_2.nc\n",
      " > Downloaded 67713140 of 67713140 bytes (100.00%)00 of 67713140 bytes (9.38%)\n",
      "Downloaded 67713140b in 4.40secs, Average Rate: 14.69MB/sec\n",
      " > 'Temporary' Redirect download @ Remote archive:\n",
      " > https://dlz0dhr6g6ukw.cloudfront.net/S1-GUNW-D-R-042-tops-20191030_20190924-140807-38619N_36646N-PP-88de-v2_0_2.nc?userid=bbuzz&Expires=1594780880&Signature=MJP1gDgplrKSyaP5IUB8czTIMHESXU00l7que1-5SaHLI-635dYclyMFUh~EXZXlED7AvIvmt8UjtA-~MXYkDencFkJZFOSV4w8BbCSrRCb672ENeIX7DqlIlUqRmi8NsuKLW-2gfyjoG1FxJrBrLe9kmokQdAPefzyH5cVcE18_&Key-Pair-Id=APKAINVNJF4BDB5SS5QQ\n",
      "(36/595) Downloading https://grfn.asf.alaska.edu/door/download/S1-GUNW-D-R-042-tops-20191030_20190924-140807-38619N_36646N-PP-88de-v2_0_2.nc\n"
     ]
    },
    {
     "name": "stdout",
     "output_type": "stream",
     "text": [
      " > Downloaded 64547331 of 64547331 bytes (100.00%)\n",
      "Downloaded 64547331b in 4.06secs, Average Rate: 15.15MB/sec\n",
      " > 'Temporary' Redirect download @ Remote archive:\n",
      " > https://dlz0dhr6g6ukw.cloudfront.net/S1-GUNW-D-R-042-tops-20191030_20191006-140807-38619N_36646N-PP-fe38-v2_0_2.nc?userid=bbuzz&Expires=1594780884&Signature=TuO6--jH3gx2egzBTWj5ZcalLwZWU8TdUTUl-OswhJHA8YTYjN4haYJRHtjZzjH-0W6kwLbSbNvXKvE6jAEKTGLigPOyP7X8If88PXHAQkU81-1v27iGRJdu8s7gMllm6BI6LtmVxLbrEeYRo2tF24MTTTpi0PAxnP3EERnEASY_&Key-Pair-Id=APKAINVNJF4BDB5SS5QQ\n",
      "(37/595) Downloading https://grfn.asf.alaska.edu/door/download/S1-GUNW-D-R-042-tops-20191030_20191006-140807-38619N_36646N-PP-fe38-v2_0_2.nc\n",
      " > Downloaded 63679523 of 63679523 bytes (100.00%)\n",
      "Downloaded 63679523b in 4.08secs, Average Rate: 14.87MB/sec\n",
      " > 'Temporary' Redirect download @ Remote archive:\n",
      " > https://dlz0dhr6g6ukw.cloudfront.net/S1-GUNW-D-R-042-tops-20191030_20191018-140807-38619N_36646N-PP-bfb3-v2_0_2.nc?userid=bbuzz&Expires=1594780889&Signature=bXD6qUUrY88RjfXQ-AyO21C7BjToWAjIa1nDggqvJN~owLMA9alEHdg~xX2Ch4uFLtS9e9o~1GuJJDIiODs2uiT7T0OQIEBgXjynIMDkG2a6imbSJ5-tcV-STLOwUsHdRmPNcP3zJ7WK87NTy7ZedqBK07efSaWf-1bPwJA9IFw_&Key-Pair-Id=APKAINVNJF4BDB5SS5QQ\n",
      "(38/595) Downloading https://grfn.asf.alaska.edu/door/download/S1-GUNW-D-R-042-tops-20191030_20191018-140807-38619N_36646N-PP-bfb3-v2_0_2.nc\n",
      " > Downloaded 62278497 of 62278497 bytes (100.00%) 62278497 bytes (35.82%)f 62278497 bytes (39.91%)f 62278497 bytes (43.04%))f 62278497 bytes (47.01%)f 62278497 bytes (48.71%)f 62278497 bytes (62.15%))\n",
      "Downloaded 62278497b in 6.14secs, Average Rate: 9.67MB/sec\n",
      " > 'Temporary' Redirect download @ Remote archive:\n",
      " > https://dlz0dhr6g6ukw.cloudfront.net/S1-GUNW-D-R-042-tops-20191018_20181011-140807-38619N_36645N-PP-27f9-v2_0_2.nc?userid=bbuzz&Expires=1594780895&Signature=SwqlH6NZcQcGOwiS~zQt3j5BtAoOfmjhF41CoZ1vu62c5R-UlHtz5OsIM~Z9yJW0Mvtw6f5Te7PWut-ZUHkb2J96YLfd5qIQK838T690jEWmkOjgZI6fQ~61vWWYZeS7eK-uYZSMQJ2muSxznKEjwDYrvSXOiLPK4yRqOaLj0iM_&Key-Pair-Id=APKAINVNJF4BDB5SS5QQ\n",
      "(39/595) Downloading https://grfn.asf.alaska.edu/door/download/S1-GUNW-D-R-042-tops-20191018_20181011-140807-38619N_36645N-PP-27f9-v2_0_2.nc\n",
      " > Downloaded 63619072 of 68020378 bytes (93.53%)704 of 68020378 bytes (5.56%)8 bytes (5.82%)8 bytes (8.55%)f 68020378 bytes (15.66%)f 68020378 bytes (24.92%)f 68020378 bytes (26.50%)f 68020378 bytes (32.11%)f 68020378 bytes (51.29%)f 68020378 bytes (57.75%)f 68020378 bytes (86.32%))\r"
     ]
    }
   ],
   "source": [
    "!ariaDownload.py --track 42 --bbox '37.25 38.1 -122.6 -121.75'"
   ]
  },
  {
   "cell_type": "markdown",
   "metadata": {},
   "source": [
    "We can now have a look at the downloaded products:"
   ]
  },
  {
   "cell_type": "code",
   "execution_count": null,
   "metadata": {},
   "outputs": [],
   "source": [
    "!ls products"
   ]
  },
  {
   "cell_type": "markdown",
   "metadata": {},
   "source": [
    "The product filename has two fields, **XXYYYN/S-XXYYYN/S**, that are respectively associated with the western edge of south and north most corner of the geocoded interferogram (see [aria-website](https://aria.jpl.nasa.gov/node/97) for a complete overview of the filename convention). The latitude bounds are specified as 5-digit number with 3 significant digits."
   ]
  },
  {
   "cell_type": "markdown",
   "metadata": {},
   "source": [
    "## Overview of the ariaTSsetup.py program\n",
    "<a id='overview'></a>"
   ]
  },
  {
   "cell_type": "markdown",
   "metadata": {},
   "source": [
    "The **`ariaTSsetup.py`** program allows for easy time-series preparation of relevant data and meta-data layers from ARIA standard GUNW products. The **`ariaTSsetup.py`** program is functionally very similar to the **`ariaExtract.py`** program, aside from the aforementioned note that the former prepares extracted data into a stack for time-series ingestion. The program will automatically determine which GUNW products need to be stitched or cropped in order to generate a seamless interferogram. By default, interferograms will be cropped to bounds determined by the common intersection and bounding box (if specified). Running **`ariaTSsetup.py`** with the **`-h`** option will show the parameter options. \n",
    "\n",
    "Let us explore these options:"
   ]
  },
  {
   "cell_type": "code",
   "execution_count": null,
   "metadata": {},
   "outputs": [],
   "source": [
    "!ariaTSsetup.py -h"
   ]
  },
  {
   "cell_type": "markdown",
   "metadata": {
    "heading_collapsed": true
   },
   "source": [
    "### 1. Product files to be used (-f option)"
   ]
  },
  {
   "cell_type": "markdown",
   "metadata": {
    "hidden": true
   },
   "source": [
    "At minimum, users need to specify the GUNW files they want to extract information from. This is controlled using the **`-f`** option. Multiple products can be specified by providing them as a comma separated string (e.g., **`-f`**` 'products/S1-GUNW-D-R-042-tops-20150605_20150512-140722-39616N_37642N-PP-e396-v2_0_0.nc,products/S1-GUNW-D-R-042-tops-20150629_20150512-140723-39615N_37641N-PP-0e95-v2_0_0.nc'`), or using a wildcard (e.g., **`-f`**` 'products/S1*.nc'`)."
   ]
  },
  {
   "cell_type": "markdown",
   "metadata": {
    "heading_collapsed": true
   },
   "source": [
    "### 2. Layers to be extracted (-l option)"
   ]
  },
  {
   "cell_type": "markdown",
   "metadata": {
    "hidden": true
   },
   "source": [
    "By default the following are extracted: bounding boxes of the products, the \"unwrappedPhase\", \"coherence\", \"incidenceAngle\", \"lookAngle\", and \"azimuthAngle\" layers necessary for building time-series. Layer extraction is controlled using the **`-l`** option. Additional valid options are \"amplitude\", \"bPerpendicular\", and \"bParallel\". Multiple layers can be extracted at once by specifying them as a comma separated string (e.g., **`-l`**` 'azimuth,bParallel'`). You can use the `'all'` keyword to extract all possible layers at once (e.g., **`-l`**` all`)."
   ]
  },
  {
   "cell_type": "markdown",
   "metadata": {
    "heading_collapsed": true
   },
   "source": [
    "### 3. DEM (-d and -p options)"
   ]
  },
  {
   "cell_type": "markdown",
   "metadata": {
    "hidden": true
   },
   "source": [
    "By specifying the **`-d`**` Download` option, users can download the SRTM 3-arcsec DEM on the fly. The DEM will be cropped over the interferogram extent (ground swath). A DEM is required for extracting the meta-data layer fields (e.g., \"bPerpendicular\", \"bParallel\", \"incidenceAngle\",\"lookAngle\", and \"azimuthAngle\"). Alternatively, users can also specify the location to a custom GDAL-compatible DEM and control its projection by specifying it with the **`-p`** option. All the meta-data layers are stored within the GUNW product as 3D data cubes (longitude, latitude, height). The full-resolution meta-data layers are generated by intersecting these 3D data-cube with the DEM."
   ]
  },
  {
   "cell_type": "markdown",
   "metadata": {
    "heading_collapsed": true
   },
   "source": [
    "### 4. Mask (-m option)"
   ]
  },
  {
   "cell_type": "markdown",
   "metadata": {
    "hidden": true
   },
   "source": [
    "By specifying the **`-m`**` Download` option, users can download a waterbody mask compiled from the Global Self-consistent, Hierarchical, High-resolution Geography Database (GSHHG) on the fly. The mask will be cropped over the interferogram extent (ground swath). A mask is useful for masking out broader waterbodies (e.g. oceans and major lakes) from your output layers. Alternatively, users can also specify the location to a custom GDAL-compatible mask and control its projection by specifying it with the **`-p`** option."
   ]
  },
  {
   "cell_type": "markdown",
   "metadata": {
    "heading_collapsed": true
   },
   "source": [
    "### 5. Cropping and spatial sub setting (--bbox and -croptounion options)"
   ]
  },
  {
   "cell_type": "markdown",
   "metadata": {
    "hidden": true
   },
   "source": [
    "The **`ariaTSsetup.py`** program will automatically handle cropping and stitching of GUNW products when needed. By default, the program will crop all interferograms to bounds determined by the common intersection (of all interferograms) and the user-defined bounding box (**`-bbox`** SNWE option). All layers are cropped and/or stitched using GDAL (see the methods section for details on the implemented approach for each layer)."
   ]
  },
  {
   "cell_type": "markdown",
   "metadata": {
    "heading_collapsed": true
   },
   "source": [
    "### 6. Workdirectory (-w option)"
   ]
  },
  {
   "cell_type": "markdown",
   "metadata": {
    "hidden": true
   },
   "source": [
    "The output of the **`ariaTSsetup.py`** program is saved within the working directory (**`-w`**), which by default is the current directory. Within the work directory the outputs are organized in separate subdirectories, where the sub-directory name corresponds to the layer being extracted. Within each subdirectory, the data and meta-data are saved with the interferogram pair dates \"date1_date2\" serving as the basename."
   ]
  },
  {
   "cell_type": "markdown",
   "metadata": {
    "heading_collapsed": true
   },
   "source": [
    "### 7.  Output format (-o option)"
   ]
  },
  {
   "cell_type": "markdown",
   "metadata": {
    "hidden": true
   },
   "source": [
    "The **`ariaTSsetup.py`** program leverages GDAL for file reading and writing of outputs. The user can therefore specify any GDAL compatible format (e.g., ENVI, ISCE, GTiff; see GDAL for more information on supported formats) for saving the outputs from **`ariaTSsetup.py`**.  By default, \"unwrappedPhase\", \"bPerpendicular\", \"bParallel\", \"incidenceAngle\", \"lookAngle\", and \"azimuthAngle\" are stored as ENVI files, as these layers required  mathematical manipulation. Other layers including \"coherence\" and \"amplitude\" do not require this, and by default are stored as virtual files (.vrt) to conserve disk space."
   ]
  },
  {
   "cell_type": "markdown",
   "metadata": {
    "hidden": true
   },
   "source": [
    "Use **`ariaTSsetup.py`** to build a stack of products for time-series ingestion. We will use the GUNW products you have already downloaded into a *products* subfolder within in your specified *work directory* (**`-w`** option), which were collected on track *42* over the San Francisco area *'37.25 38.1 -122.6 -121.75'* (**`-bbox`** SNWE option) and spanning from late 2014 through to the present day."
   ]
  },
  {
   "cell_type": "markdown",
   "metadata": {},
   "source": [
    "## Application of ariaTSprep.py program "
   ]
  },
  {
   "cell_type": "markdown",
   "metadata": {
    "heading_collapsed": true
   },
   "source": [
    "### Set up time-series stack, download DEM and mask using ariaTSsetup.py"
   ]
  },
  {
   "cell_type": "code",
   "execution_count": null,
   "metadata": {
    "hidden": true
   },
   "outputs": [],
   "source": [
    "!ariaTSsetup.py -f 'products/*.nc' -b '37.25 38.1 -122.6 -121.75' -d Download --mask Download"
   ]
  },
  {
   "cell_type": "markdown",
   "metadata": {
    "hidden": true
   },
   "source": [
    "Extract and crop layers to the box defined for the San Francisco area *'37.25 38.1 -122.6 -121.75'* (**`-bbox`** SNWE option), download a DEM (**`-d Download`** option) which is needed to extract meta-data layers prerequisite for time-series analysis, and download a mask (**`-m Download`** option) to remove waterbodies.\n",
    "\n",
    "The default data layers (unwrapped phase, coherence) and imaging geometry layers (azimuth angle, incidence angle, look angle) necessary for building time-series have been extracted. Layers are extracted to separate subdirectories named after the 'layer name' under the specified working directory (`-w`), e.g. 'unwrappedPhase'. Within the layer subdirectories, the data and meta-data are saved with a given interferometric date combination serving as the filename, e.g. 'unwrappedPhase/20150605_20150512'. Any existing layers will be overwritten."
   ]
  },
  {
   "cell_type": "markdown",
   "metadata": {
    "heading_collapsed": true
   },
   "source": [
    "### View downloaded mask"
   ]
  },
  {
   "cell_type": "markdown",
   "metadata": {
    "hidden": true
   },
   "source": [
    "To download a waterbody mask compiled from GSHHG, we specified the **`-m Download`** option. By default, outputs are written to the local directory, which can be changed to another location by specifying the path with the **`-w`** option. The mask will be applied to all extracted layers."
   ]
  },
  {
   "cell_type": "markdown",
   "metadata": {
    "hidden": true
   },
   "source": [
    "The mask is cropped to the common interferometric grid, stored under local subdirectory *mask*, and given the filename *watermask.msk* (i.e. nested as *mask/watermask.msk*). Note that for consistency, if a user specifies a path to a custom mask, the cropped version is still stored under the local subdirectory *mask* and shares the same filename as the input."
   ]
  },
  {
   "cell_type": "markdown",
   "metadata": {
    "hidden": true
   },
   "source": [
    "Execute the next cell to visualize the mask. Broader waterbodies (e.g. oceans and major lakes) are delineated in the mask."
   ]
  },
  {
   "cell_type": "code",
   "execution_count": null,
   "metadata": {
    "hidden": true
   },
   "outputs": [],
   "source": [
    "plot_layer('mask/watermask.msk',lay_type='water')"
   ]
  },
  {
   "cell_type": "markdown",
   "metadata": {
    "hidden": true
   },
   "source": [
    "Below we will apply this mask to the unwrapped phase layer."
   ]
  },
  {
   "cell_type": "code",
   "execution_count": null,
   "metadata": {
    "hidden": true
   },
   "outputs": [],
   "source": [
    "## view the plot\n",
    "plot_layer('unwrappedPhase/20150605_20150512', 'deformation')"
   ]
  },
  {
   "cell_type": "markdown",
   "metadata": {
    "heading_collapsed": true
   },
   "source": [
    "### View downloaded DEM"
   ]
  },
  {
   "cell_type": "markdown",
   "metadata": {
    "hidden": true
   },
   "source": [
    "To download a 3-arc second SRTM DEM, we specified the **`-d Download`** option. By default, outputs are written to the local directory, which can be changed to another location by specifying the path with the **`-w`** option. A DEM is needed for the extraction of full resolution meta-data layers."
   ]
  },
  {
   "cell_type": "markdown",
   "metadata": {
    "hidden": true
   },
   "source": [
    "The DEM is cropped to the common interferometric grid, stored under local subdirectory *DEM*, and given the filename *SRTM_3arcsec.dem* (i.e. nested as *DEM/SRTM_3arcsec.dem*). Note that for consistency, if a user specifies a path to a custom DEM, the cropped version is still stored under the local subdirectory *DEM* and shares the same filename as the input. You can use gdalinfo to retrieve information on the geospatial extent of the DEM."
   ]
  },
  {
   "cell_type": "code",
   "execution_count": null,
   "metadata": {
    "hidden": true
   },
   "outputs": [],
   "source": [
    "!ls DEM/SRTM*\n",
    "!gdalinfo DEM/SRTM_3arcsec.dem.vrt"
   ]
  },
  {
   "cell_type": "markdown",
   "metadata": {
    "hidden": true
   },
   "source": [
    "Execute the next cell to visualize the DEM."
   ]
  },
  {
   "cell_type": "code",
   "execution_count": null,
   "metadata": {
    "hidden": true
   },
   "outputs": [],
   "source": [
    "plot_layer('DEM/SRTM_3arcsec.dem',lay_type='topo')"
   ]
  },
  {
   "cell_type": "markdown",
   "metadata": {},
   "source": [
    "### Examine *stack* files"
   ]
  },
  {
   "cell_type": "markdown",
   "metadata": {},
   "source": [
    "Three VRT files *cohStack.vrt*, *connCompStack.vrt*, *unwrapStack.vrt* have been generated under the *stack* subdirectory of your specified work directory. They point to your extracted coherence, connected component, and unwrapped phase files, respectively. Let's take a look:"
   ]
  },
  {
   "cell_type": "code",
   "execution_count": null,
   "metadata": {},
   "outputs": [],
   "source": [
    "!ls stack"
   ]
  },
  {
   "cell_type": "markdown",
   "metadata": {},
   "source": [
    "Use the  **gdalinfo** to retrieve an overview of *unwrapStack.vrt*. You will see that it contains paths pointing each of the extracted interferograms in your stack, and basic projection information:"
   ]
  },
  {
   "cell_type": "code",
   "execution_count": null,
   "metadata": {},
   "outputs": [],
   "source": [
    "!gdalinfo stack/unwrapStack.vrt"
   ]
  },
  {
   "cell_type": "raw",
   "metadata": {},
   "source": [
    "Use the **`-mdd unwrappedPhase`** option in **gdalinfo** to access the radar metadata (e.g. orbitDirection, UTCTime, Wavelength) corresponding to each of the interferogram data-layers, which are stored under the key-name *unwrappedPhase*:"
   ]
  },
  {
   "cell_type": "code",
   "execution_count": null,
   "metadata": {},
   "outputs": [],
   "source": [
    "!gdalinfo stack/unwrapStack.vrt -mdd unwrappedPhase"
   ]
  },
  {
   "cell_type": "markdown",
   "metadata": {},
   "source": [
    "We can now use our earlier defined plotting function to visualize one of the interferograms in your stack."
   ]
  },
  {
   "cell_type": "code",
   "execution_count": null,
   "metadata": {},
   "outputs": [],
   "source": [
    "plot_layer('stack/unwrapStack.vrt', 'deformation', n_bands=1)"
   ]
  }
 ],
 "metadata": {
  "kernelspec": {
   "display_name": "Python 3",
   "language": "python",
   "name": "python3"
  },
  "language_info": {
   "codemirror_mode": {
    "name": "ipython",
    "version": 3
   },
   "file_extension": ".py",
   "mimetype": "text/x-python",
   "name": "python",
   "nbconvert_exporter": "python",
   "pygments_lexer": "ipython3",
   "version": "3.7.6"
  },
  "latex_envs": {
   "LaTeX_envs_menu_present": true,
   "autoclose": false,
   "autocomplete": false,
   "bibliofile": "biblio.bib",
   "cite_by": "apalike",
   "current_citInitial": 1,
   "eqLabelWithNumbers": true,
   "eqNumInitial": 1,
   "hotkeys": {
    "equation": "Ctrl-E",
    "itemize": "Ctrl-I"
   },
   "labels_anchors": false,
   "latex_user_defs": false,
   "report_style_numbering": false,
   "user_envs_cfg": false
  }
 },
 "nbformat": 4,
 "nbformat_minor": 2
}
