{
 "cells": [
  {
   "cell_type": "markdown",
   "metadata": {
    "heading_collapsed": true
   },
   "source": [
    "# Manipulating GUNW products using GDAL (python and commandline)\n",
    "\n",
    "**Author**: Emre Havazli, David Bekaert - Jet Propulsion Laboratory\n",
    "\n",
    "This notebook contains python and command line examples on how to use GDAL to manipulate the ARIA Geocoded UNWrapped interferogram (**GUNW**) products. Here we will use a GUNW product covering the north-eastern border between the United States and Canada over Lake Erie to illustrate the following operations:\n",
    "- opening a GUNW product and reading its metadata                (Python/command line)\n",
    "- accessing of datasets such as unwrapped phase                  (Python/command line)\n",
    "- reading of a dataset into an array and plotting it on a map    (Python)\n",
    "- cropping of a dataset to a user-defined boundary               (Python/command line)\n",
    "- creating a KMZ file                                            (Python/command line)\n",
    "\n",
    "\n",
    "<div class=\"alert alert-warning\">\n",
    "<b>Both the initial setup (Section A) and download of the data (Section B) should be run at the start of the notebook. However, the numbered sections do not need to be run in numerical order. </b>\n",
    "</div>\n",
    "\n",
    "<div class=\"alert alert-danger\">\n",
    "<b>Potential Error:</b> \n",
    "If the driver is not captured as \"netCDF/Network Common Data Format\" verify GDAL version >= 3.\n",
    "</div>"
   ]
  },
  {
   "cell_type": "markdown",
   "metadata": {
    "heading_collapsed": true,
    "hidden": true
   },
   "source": [
    "## Prep A. Initial setup of the notebook"
   ]
  },
  {
   "cell_type": "markdown",
   "metadata": {
    "hidden": true
   },
   "source": [
    "Below we set-up the directory structure for this notebook exercise. In addition, we load the required modules into our python environment using the **import** command. We also explicit enable exceptions for GDAL as this allows us to capture GDAL errors."
   ]
  },
  {
   "cell_type": "code",
   "execution_count": null,
   "metadata": {
    "hidden": true
   },
   "outputs": [],
   "source": [
    "import os,sys\n",
    "from osgeo import gdal,osr\n",
    "import numpy as np\n",
    "import matplotlib.pyplot as plt\n",
    "\n",
    "## Defining the home and data directories at the processing location\n",
    "home_dir = os.getcwd()\n",
    "tutorial_home_dir = os.path.abspath(os.path.join(home_dir, \"\"))\n",
    "data_dir = os.path.join(tutorial_home_dir,'products')\n",
    "print(\"home directory: \", tutorial_home_dir)\n",
    "print(\"\")\n",
    "\n",
    "# Enable GDAL/OGR exceptions\n",
    "gdal.UseExceptions()\n",
    "\n",
    "# data file\n",
    "fileName = os.path.join(data_dir,'S1-GUNW-A-R-077-tops-20190222_20190210-231605-42666N_40796N-PP-d75b-v2_0_1.nc')\n",
    "\n",
    "# generate all the folders in case they do not exist yet\n",
    "if not os.path.exists(tutorial_home_dir):\n",
    "    os.makedirs(tutorial_home_dir)\n",
    "if not os.path.exists(data_dir):\n",
    "    os.makedirs(data_dir)\n",
    "os.chdir(tutorial_home_dir)\n"
   ]
  },
  {
   "cell_type": "markdown",
   "metadata": {
    "heading_collapsed": true,
    "hidden": true
   },
   "source": [
    "##  Prep B. Tutorial input dataset and download"
   ]
  },
  {
   "cell_type": "markdown",
   "metadata": {
    "hidden": true
   },
   "source": [
    "For our dataset we are focusing on the ascending track 77 of Sentinel-1 with an interferogram generated between 20190222 and 20190210. Our GUNW product (\"S1-GUNW-A-R-077-tops-20190222_20190210-231605-42666N_40796N-PP-d75b-v2_0_1.nc\") covers the north-eastern border between the United States and Canada over Lake Erie.\n",
    "\n",
    "<img src=\"support_docs/region.png\" alt=\"region\" width=\"400\">"
   ]
  },
  {
   "cell_type": "markdown",
   "metadata": {
    "heading_collapsed": true,
    "hidden": true
   },
   "source": [
    "### ARIA GUNW products"
   ]
  },
  {
   "cell_type": "markdown",
   "metadata": {
    "hidden": true
   },
   "source": [
    "The GUNW products are packaged as netCDF4 files and include both data and meta-data layers such as interferogram amplitude, filtered unwrapped phase, filtered coherence, connected components, perpendicular/parallel baselines, incidence, azimuth and look angles. A detailed overview of the ARIA GUNW product with respect to processing, formatting, sampling, and data layers can be found on the [ARIA website](https://aria.jpl.nasa.gov/node/97)."
   ]
  },
  {
   "cell_type": "markdown",
   "metadata": {
    "heading_collapsed": true,
    "hidden": true
   },
   "source": [
    "### Download options"
   ]
  },
  {
   "cell_type": "markdown",
   "metadata": {
    "hidden": true
   },
   "source": [
    "GUNW products are hosted at the ASF DAAC and can be downloaded from the [ARIA-products page](https://aria-products.jpl.nasa.gov) and as beta products from the [ASF DAAC data search page](https://search.asf.alaska.edu/#/). If you know the GUNW filename of the product, you can also build a download link by appending the GUNW filename to **https://<i></i>grfn.asf.alaska.edu<i></i>/door/download/** . Given that we already know the product filename we can download the product by constructing the download URL.\n",
    "https://grfn.asf.alaska.edu/door/download/S1-GUNW-A-R-077-tops-20190222_20190210-231605-42666N_40796N-PP-d75b-v2_0_1.nc\n",
    "\n",
    "Alternatively, you can use the **`ariaDownload.py`** program provided within the ARIA-tools package to download data using a command-line interface. This program wraps around the ASF DAAC API and allows for search sub-setting of GUNW products based on track number, geometry (ascending or descending), as well as spatial and temporal bounding boxes criteria. For a full description of the **`ariaDownload.py`** program, see the [ariaDownload Tutorial](https://github.com/aria-tools/ARIA-tools-docs/blob/master/JupyterDocs/ariaDownload/ariaDownload_tutorial.ipynb).\n",
    "\n",
    "<div class=\"alert alert-warning\">\n",
    "<b>Potential download failure:</b> \n",
    "GUNW products are hosted at the NASA ASF DAAC. Downloading them requires a NASA Earthdata URS user login and requires users to add “ARIA Product Search” to their URS approved applications\n",
    "</div>\n",
    "\n",
    "Below we will use the **`ariaDownload.py`** to download the GUNW product on track 77 (**`-t`** option) for the interferogram pair *20190222_20190210* (**`--ifg`** option) and bounding box over Lake Erie (**`--bbox`** option) into the default *products* folder (can be controlled with **`-w`** option).\n",
    "\n",
    "<div class=\"alert alert-danger\">\n",
    "<b>Download</b>:     \n",
    "    \n",
    "- The ***jupuyter notebook* does not allow for interactive entering of your user-name and password, use the *jupyter terminal* instead** with the same command for interactive use.\n",
    "</div>"
   ]
  },
  {
   "cell_type": "code",
   "execution_count": null,
   "metadata": {
    "hidden": true
   },
   "outputs": [],
   "source": [
    "os.chdir(tutorial_home_dir) \n",
    "!ariaDownload.py --bbox \"41.5 42 -82 -78\" --ifg 20190222_20190210 -v -w {data_dir}"
   ]
  },
  {
   "cell_type": "markdown",
   "metadata": {
    "heading_collapsed": true,
    "hidden": true
   },
   "source": [
    "## 1. Retrieving information on the product content"
   ]
  },
  {
   "cell_type": "markdown",
   "metadata": {
    "hidden": true
   },
   "source": [
    "In this section we demonstrate how to retrieve an overview of all product variables and how they are structured within the product. We distinguish between GDAL python and command line options."
   ]
  },
  {
   "cell_type": "markdown",
   "metadata": {
    "heading_collapsed": true,
    "hidden": true
   },
   "source": [
    "### 1.1. GDAL PYTHON"
   ]
  },
  {
   "cell_type": "markdown",
   "metadata": {
    "hidden": true
   },
   "source": [
    "First we will open the product using **gdal.Open()** by providing the filename, which includes the full path to the product under consideration."
   ]
  },
  {
   "cell_type": "code",
   "execution_count": null,
   "metadata": {
    "hidden": true
   },
   "outputs": [],
   "source": [
    "##Open netCDF file using GDAL##\n",
    "ds = gdal.Open(fileName)"
   ]
  },
  {
   "cell_type": "markdown",
   "metadata": {
    "hidden": true
   },
   "source": [
    "Now that the file is opened we can use **gdal.Info()** to retrieve information on its content, including the variables and its structure. Below we show how to read the metadata into a variable and then print it. Once this is done we use to close the file by setting the file pointer to *None*."
   ]
  },
  {
   "cell_type": "code",
   "execution_count": null,
   "metadata": {
    "hidden": true,
    "scrolled": true
   },
   "outputs": [],
   "source": [
    "##Retrieve an overview of the file content##\n",
    "dataInfo = gdal.Info(ds)\n",
    "# printing the information to the screen\n",
    "print(dataInfo)\n",
    "# closing the product\n",
    "ds = None"
   ]
  },
  {
   "cell_type": "markdown",
   "metadata": {
    "heading_collapsed": true,
    "hidden": true
   },
   "source": [
    "### 1.2. GDAL command line"
   ]
  },
  {
   "cell_type": "markdown",
   "metadata": {
    "hidden": true
   },
   "source": [
    "On the commandline **gdalinfo** can be used to retrieve an overview of the product."
   ]
  },
  {
   "cell_type": "code",
   "execution_count": null,
   "metadata": {
    "hidden": true,
    "scrolled": true
   },
   "outputs": [],
   "source": [
    "!gdalinfo ./products/S1-GUNW-A-R-077-tops-20190222_20190210-231605-42666N_40796N-PP-d75b-v2_0_1.nc"
   ]
  },
  {
   "cell_type": "markdown",
   "metadata": {
    "heading_collapsed": true,
    "hidden": true
   },
   "source": [
    "### 1.3. Interpretation"
   ]
  },
  {
   "cell_type": "markdown",
   "metadata": {
    "hidden": true
   },
   "source": [
    "From the output you can see that the **netCDF driver** is used by GDAL to open the GUNW product. First, global variables are reported, followed by the sub-datasets. The latter includes 2D rasters such as the unwrapped phase and amplitude, as well as 3D data cubes such as the baseline and incidence angle. From the structure you can see that the 2D data is contained within the *\"data\"* folder while the 3D data is contained within an *\"imagingGeometry\"* folder. Note that GDAL does not report non-raster sub-datasets such as those included within the *\"radarMetaData\"* folder. \n",
    "\n",
    "\n",
    "Also note that the top-level reported coordinates are not representable of individual data layers. The meta-data including projection, transformation and no-data values are available when querying for a specific sub-dataset as demonstrated in section 2."
   ]
  },
  {
   "cell_type": "markdown",
   "metadata": {
    "heading_collapsed": true,
    "hidden": true
   },
   "source": [
    "## 2. Accessing sub-datasets and statistics"
   ]
  },
  {
   "cell_type": "markdown",
   "metadata": {
    "hidden": true
   },
   "source": [
    "In this section we demonstrate how to retrieve an overview for a product variable, also referred to as a sub-dataset. We distinguish between GDAL python and command line options."
   ]
  },
  {
   "cell_type": "markdown",
   "metadata": {
    "heading_collapsed": true,
    "hidden": true
   },
   "source": [
    "### 2.1. GDAL PYTHON"
   ]
  },
  {
   "cell_type": "markdown",
   "metadata": {
    "heading_collapsed": true,
    "hidden": true
   },
   "source": [
    "#### Accessing sub-datasets"
   ]
  },
  {
   "cell_type": "markdown",
   "metadata": {
    "hidden": true
   },
   "source": [
    "We can access subdatasets, such as unwrapped phase, and their metadata the same way we had initially accessed the products. To open a specific subdataset, we use its listed location in the file, which can be obtained using the method outlined in section 1."
   ]
  },
  {
   "cell_type": "code",
   "execution_count": null,
   "metadata": {
    "hidden": true,
    "scrolled": true
   },
   "outputs": [],
   "source": [
    "##Open and retrieve information of the unwrapped phase##\n",
    "unwPhase = gdal.Open(\"NETCDF:\"+fileName+\":/science/grids/data/unwrappedPhase\")\n",
    "# retrieve the information for the variable\n",
    "unwPhaseInfo = gdal.Info(unwPhase)\n",
    "# print the information to the screen\n",
    "print(unwPhaseInfo)"
   ]
  },
  {
   "cell_type": "markdown",
   "metadata": {
    "heading_collapsed": true,
    "hidden": true
   },
   "source": [
    "#### Sub-dataset statistics"
   ]
  },
  {
   "cell_type": "markdown",
   "metadata": {
    "hidden": true
   },
   "source": [
    "GDAL has functionality which allows us to quickly calculate basic statistical properties of the data accounting for no-data values. First we will retrieve the RasterBand of the unwrapped phase after which we will use the **GetStatistics()** functionality to compute the min, max, mean and standard deviation."
   ]
  },
  {
   "cell_type": "code",
   "execution_count": null,
   "metadata": {
    "hidden": true
   },
   "outputs": [],
   "source": [
    "stats = unwPhase.GetRasterBand(1).GetStatistics(0,1)\n",
    "# print to the screen\n",
    "print('Min: ', stats[0])\n",
    "print('Max: ', stats[1])\n",
    "print('Mean: ', stats[2])\n",
    "print('Standard Dev.: ', stats[3])\n",
    "# close the file\n",
    "unwPhase = None"
   ]
  },
  {
   "cell_type": "markdown",
   "metadata": {
    "heading_collapsed": true,
    "hidden": true
   },
   "source": [
    "### 2.2. GDAL command line"
   ]
  },
  {
   "cell_type": "markdown",
   "metadata": {
    "heading_collapsed": true,
    "hidden": true
   },
   "source": [
    "#### Accessing sub-datasets"
   ]
  },
  {
   "cell_type": "markdown",
   "metadata": {
    "hidden": true
   },
   "source": [
    "In addition to retrieving product information, by directly specifying the path to te sub-data variable, **gdalinfo** can be used to retrieve an overview of a variable or sub-dataset. In case you do not know the path, do a **gdalinfo** on the GUNW product as described in section 1."
   ]
  },
  {
   "cell_type": "code",
   "execution_count": null,
   "metadata": {
    "hidden": true,
    "scrolled": true
   },
   "outputs": [],
   "source": [
    "!gdalinfo NETCDF:\"./products/S1-GUNW-A-R-077-tops-20190222_20190210-231605-42666N_40796N-PP-d75b-v2_0_1.nc\":/science/grids/data/unwrappedPhase"
   ]
  },
  {
   "cell_type": "markdown",
   "metadata": {
    "heading_collapsed": true,
    "hidden": true
   },
   "source": [
    "#### Sub-dataset statistics"
   ]
  },
  {
   "cell_type": "markdown",
   "metadata": {
    "hidden": true
   },
   "source": [
    "The statistical properties of the data, accounting for the no-data value, are available by appending **-stats** to the **gdalinfo** command line call."
   ]
  },
  {
   "cell_type": "code",
   "execution_count": null,
   "metadata": {
    "hidden": true,
    "scrolled": true
   },
   "outputs": [],
   "source": [
    "!gdalinfo NETCDF:\"./products/S1-GUNW-A-R-077-tops-20190222_20190210-231605-42666N_40796N-PP-d75b-v2_0_1.nc\":/science/grids/data/unwrappedPhase -stats"
   ]
  },
  {
   "cell_type": "markdown",
   "metadata": {
    "heading_collapsed": true,
    "hidden": true
   },
   "source": [
    "### 2.3. Interpretation"
   ]
  },
  {
   "cell_type": "markdown",
   "metadata": {
    "hidden": true
   },
   "source": [
    "The corner coordinates are listed at the bottom, together with meta-data such as the **NoData** value. After running the statistics option, the minimum, maximum, mean, and standard deviation are also reported. The no-data value is considered when computing these statistics. The **projection** information is reported at the top and read by GDAL from the **crs** variable, which lists the EPSG code as 4326. Note that GDAL does not capture all the information automatically at the top. Complete projection information for any EPSG code can be retrieved using **gdalsrsinfo**."
   ]
  },
  {
   "cell_type": "code",
   "execution_count": null,
   "metadata": {
    "hidden": true
   },
   "outputs": [],
   "source": [
    "!gdalsrsinfo \"EPSG:4326\""
   ]
  },
  {
   "cell_type": "markdown",
   "metadata": {
    "heading_collapsed": true,
    "hidden": true
   },
   "source": [
    "## 3. Reading the sub-dataset into an array and generating a map plot"
   ]
  },
  {
   "cell_type": "markdown",
   "metadata": {
    "hidden": true
   },
   "source": [
    "In this section we will load the product variable, i.e. sub-dataset, into python and visualize it on a map."
   ]
  },
  {
   "cell_type": "markdown",
   "metadata": {
    "heading_collapsed": true,
    "hidden": true
   },
   "source": [
    "### 3.1 GDAL Python"
   ]
  },
  {
   "cell_type": "markdown",
   "metadata": {
    "heading_collapsed": true,
    "hidden": true
   },
   "source": [
    "#### Loading data"
   ]
  },
  {
   "cell_type": "markdown",
   "metadata": {
    "hidden": true
   },
   "source": [
    "Reading data sets into python arrays enables us to leverage a large suite of Python functionality. Below, we demonstrate how to read the *unwrappedPhase* sub-dataset into a **NumPy** array and manipulate the data to plot the unwrapped phase on a map, while masking out water and no-data values. \n",
    "\n",
    "\n",
    "First, we open the product and the *unwrappedPhase* sub-dataset (see section 2 on how to retrieve this path). Next, we read the data by leveraging the **GetRasterBand()** functionality to extract the first band. Note that the unwrapped phase is a 2D raster and thus only contains one band, which is clearly reported when you query the information for the *unwrappedPhase* sub-dataset. Also higher dimensional datasets can be stored as a **NumPy** array, as is needed when loading the 3D data-cubes contained in the *\"imagingGeometry\"* folder. "
   ]
  },
  {
   "cell_type": "code",
   "execution_count": null,
   "metadata": {
    "hidden": true
   },
   "outputs": [],
   "source": [
    "##Open and retrieve information of the unwrapped phase##\n",
    "unwPhase = gdal.Open(\"NETCDF:\"+fileName+\":/science/grids/data/unwrappedPhase\")\n",
    "\n",
    "# loading the unwrapped phase into a numpy array\n",
    "unwData = unwPhase.GetRasterBand(1).ReadAsArray()\n",
    "\n",
    "# show the size of the array\n",
    "print(\"Succesfully loaded the 'unwrappedPhase' sub-dataset into a Numpy array with size:\")\n",
    "print(unwData.shape)"
   ]
  },
  {
   "cell_type": "markdown",
   "metadata": {
    "hidden": true
   },
   "source": [
    "To plot the unwrapped phase on map, we need to extract the **\"Projection\"** and **\"transformation\"** information. GDAL stores the transformation information as a vector containing the upper left x-coordinate, x-coordinate sampling, skew of the x-coordinate, upper left y-coordinate, y-coordinate sampling, and lastly y-coordinate skew. Based on the transformation, we can construct the four corners of the data given the specific projection. "
   ]
  },
  {
   "cell_type": "code",
   "execution_count": null,
   "metadata": {
    "hidden": true
   },
   "outputs": [],
   "source": [
    "##Get Projection##\n",
    "projection = osr.SpatialReference()\n",
    "projection.ImportFromWkt(unwPhase.GetProjectionRef())\n",
    "\n",
    "##Get corner coordinates##\n",
    "ulLon, Lonres, Lonskew, ulLat, Latskew, Latres  = unwPhase.GetGeoTransform()\n",
    "lrLon = ulLon + (unwPhase.RasterXSize * Lonres)\n",
    "lrLat = ulLat + (unwPhase.RasterYSize * Latres)\n",
    "\n",
    "###Let's round corner coordinates to the same number of digits as given in previous cell###\n",
    "ulLon = np.round(ulLon,7)\n",
    "ulLat = np.round(ulLat,7)\n",
    "lrLon = np.round(lrLon,7)\n",
    "lrLat = np.round(lrLat,7)\n",
    "\n",
    "###Corner coordinates calculated in this cell###\n",
    "print('''\n",
    "Corner Coordinates calculated in this cell: ''',\n",
    "'''Upper Left: ''', (ulLon,  ulLat),\n",
    "'''Lower Left: ''', (ulLon,  lrLat),\n",
    "'''Upper Right: ''', (lrLon,  ulLat),\n",
    "'''Lower Right: ''', (lrLon,  lrLat), sep='\\n')"
   ]
  },
  {
   "cell_type": "markdown",
   "metadata": {
    "hidden": true
   },
   "source": [
    "You can compare this with the corners as reported by **gdalinfo** for the unwrapped phase."
   ]
  },
  {
   "cell_type": "markdown",
   "metadata": {
    "heading_collapsed": true,
    "hidden": true
   },
   "source": [
    "#### Masking of no-data values and water bodies"
   ]
  },
  {
   "cell_type": "markdown",
   "metadata": {
    "hidden": true
   },
   "source": [
    "After getting the required coordinate information we will prepare the dataset for visualization. As InSAR only works over land, we will mask out water. One can do this using an auxiliary water mask, or alternatively one can use the connected component layer as provided with the data. The connected component 0 corresponds to areas that are decorrelated (e.g. water). Here we opt for using the connected component as a masking option. In addition, we will mask out regions with no-data values."
   ]
  },
  {
   "cell_type": "code",
   "execution_count": null,
   "metadata": {
    "hidden": true
   },
   "outputs": [],
   "source": [
    "##Get No Data Value##\n",
    "NDV = unwPhase.GetRasterBand(1).GetNoDataValue()\n",
    "# closing the file \n",
    "unwPhase = None\n",
    "\n",
    "## Loading the connected component.\n",
    "connComp = gdal.Open(\"NETCDF:\"+fileName+\":/science/grids/data/connectedComponents\")\n",
    "connCompData = connComp.GetRasterBand(1).ReadAsArray()\n",
    "connComp = None\n",
    "\n",
    "\n",
    "##Masking out the no-data\n",
    "unwDataMasked = np.ma.masked_array(unwData, mask=unwData==NDV, fill_value=999999)\n",
    "##Masking out connected component 0, which typically correspond to decorrelated area's such as water\n",
    "unwDataMasked = np.ma.masked_array(unwDataMasked, mask=connCompData==0, fill_value=999999)"
   ]
  },
  {
   "cell_type": "markdown",
   "metadata": {
    "heading_collapsed": true,
    "hidden": true
   },
   "source": [
    "#### Generating a map plot"
   ]
  },
  {
   "cell_type": "code",
   "execution_count": null,
   "metadata": {
    "hidden": true
   },
   "outputs": [],
   "source": [
    "import cartopy.io.img_tiles as cimgt\n",
    "import cartopy.feature as cfeature\n",
    "import cartopy.crs as ccrs\n",
    "from cartopy.mpl.ticker import LongitudeFormatter, LatitudeFormatter\n",
    "\n",
    "basemap   = cimgt.Stamen('terrain-background')\n",
    "#######The plot extend is image corners###########\n",
    "WESN      = [ulLon, lrLon, lrLat, ulLat]\n",
    "fig, axes = plt.subplots(figsize=(20,8), subplot_kw={'projection':basemap.crs})\n",
    "axes.set_extent(WESN, ccrs.Geodetic())\n",
    "axes.add_image(basemap, 10)\n",
    "axes.coastlines()\n",
    "im = axes.imshow(unwDataMasked, cmap='viridis', vmin=-12, vmax=0, zorder=1, extent=WESN, origin = 'upper', transform=ccrs.PlateCarree())\n",
    "cbar_ax   = fig.add_axes([0.730, 0.125, 0.025, 0.755])\n",
    "fig.colorbar(im, cbar_ax, label='Radians', spacing='proportional')\n",
    "axes.set_xticks(np.arange(WESN[0], WESN[1], 1), crs=ccrs.PlateCarree())\n",
    "axes.set_yticks(np.arange(WESN[2], WESN[3], 1), crs=ccrs.PlateCarree())\n",
    "axes.grid(linewidth=1.5, color='black', alpha=0.35, linestyle='--', zorder=2)\n",
    "lon_formatter = LongitudeFormatter(number_format='.2f', degree_symbol='')\n",
    "lat_formatter = LatitudeFormatter(number_format='.2f', degree_symbol='')\n",
    "axes.xaxis.set_major_formatter(lon_formatter)\n",
    "axes.yaxis.set_major_formatter(lat_formatter)\n",
    "plt.show()"
   ]
  },
  {
   "cell_type": "markdown",
   "metadata": {
    "heading_collapsed": true,
    "hidden": true
   },
   "source": [
    "### 3.2. Interpretation"
   ]
  },
  {
   "cell_type": "markdown",
   "metadata": {
    "hidden": true
   },
   "source": [
    "The generated figure shows the unwrapped phase. As InSAR does not maintain a signal over water, we have masked it out using the connected component 0 as a proxy. You can see that the remaining land signal varies roughly up to 12 radians (~5.6 cm of line-of-sight displacement at C-band). Given the short temporal span of the interferogram (12-days) these signals can be mostly attributed to atmospheric noise."
   ]
  },
  {
   "cell_type": "markdown",
   "metadata": {
    "heading_collapsed": true,
    "hidden": true
   },
   "source": [
    "## 4. Cropping the data at given boundaries and creating KMZ files"
   ]
  },
  {
   "cell_type": "markdown",
   "metadata": {
    "hidden": true
   },
   "source": [
    "In this section we are going to use gdal capability to export the data into a KMZ file which can be viewed in Google Earth."
   ]
  },
  {
   "cell_type": "markdown",
   "metadata": {
    "heading_collapsed": true,
    "hidden": true
   },
   "source": [
    "### 4.1. GDAL PYTHON"
   ]
  },
  {
   "cell_type": "markdown",
   "metadata": {
    "heading_collapsed": true,
    "hidden": true
   },
   "source": [
    "#### Exporting the data as KMZ"
   ]
  },
  {
   "cell_type": "markdown",
   "metadata": {
    "hidden": true
   },
   "source": [
    "KMZ file generation can be done using the **gdal.Translate()** function. First we will open the \"unwrappedPhase\" sub-dataset. The **gdal.Translate()** only needs the output name, input data (i.e. the opened sub-dataset) and the **translateOptions**. We define the options using the gdal.ParseCommandLine() function, which allows us to pass **gdal_translate** options in notebook environment. \n",
    "\n",
    "We specify the following options: **-scale** and **-format**. Note that for the format we are using *png* which has a valid data range of 0-255. The **-scale** option will automatically rescale our input data to the valid *png* range."
   ]
  },
  {
   "cell_type": "code",
   "execution_count": null,
   "metadata": {
    "hidden": true
   },
   "outputs": [],
   "source": [
    "##Open and retrieve information of the unwrapped phase##\n",
    "unwPhase = gdal.Open(\"NETCDF:\"+fileName+\":/science/grids/data/unwrappedPhase\")\n",
    "\n",
    "# translating the unwrapped phase to kmz\n",
    "translateOptions = gdal.TranslateOptions(gdal.ParseCommandLine('-of KMLSUPEROVERLAY -scale -co format=png'))\n",
    "kmzFile = gdal.Translate(\"unwrappedPhase.kmz\", unwPhase, options=translateOptions)\n",
    "\n",
    "# closing the original file\n",
    "unwPhase = None\n",
    "\n",
    "# summary and check if the file was generated\n",
    "print(\"Done: \")\n",
    "!ls unwrappedPhase.kmz"
   ]
  },
  {
   "cell_type": "markdown",
   "metadata": {
    "heading_collapsed": true,
    "hidden": true
   },
   "source": [
    "#### Cropping the data and exporting as KMZ"
   ]
  },
  {
   "cell_type": "markdown",
   "metadata": {
    "hidden": true
   },
   "source": [
    "By only adding the **projwin** option into gdal.TranslateOptions, we can crop the data and export the cropped plot into a KMZ file"
   ]
  },
  {
   "cell_type": "code",
   "execution_count": null,
   "metadata": {
    "hidden": true
   },
   "outputs": [],
   "source": [
    "##Open and retrieve information of the unwrapped phase##\n",
    "unwPhase = gdal.Open(\"NETCDF:\"+fileName+\":/science/grids/data/unwrappedPhase\")\n",
    "\n",
    "translateOptions = gdal.TranslateOptions(gdal.ParseCommandLine('-of KMLSUPEROVERLAY -scale -co format=png -projwin -81.00 42.30 -80.00 41.50'))\n",
    "kmzFileCrop = gdal.Translate(\"unwrappedPhaseCrop.kmz\", unwPhase, options=translateOptions)\n",
    "\n",
    "# closing the original file\n",
    "unwPhase = None\n",
    "\n",
    "# summary and check if the file was generated\n",
    "print(\"Done: \")\n",
    "!ls unwrappedPhaseCrop.kmz"
   ]
  },
  {
   "cell_type": "markdown",
   "metadata": {
    "heading_collapsed": true,
    "hidden": true
   },
   "source": [
    "### 4.2. GDAL command line"
   ]
  },
  {
   "cell_type": "markdown",
   "metadata": {
    "heading_collapsed": true,
    "hidden": true
   },
   "source": [
    "#### Exporting the data as KMZ"
   ]
  },
  {
   "cell_type": "markdown",
   "metadata": {
    "hidden": true
   },
   "source": [
    "KMZ file generation can be done using the **gdal_translate** command and specifying **KMLSUPEROVERLAY** as the output format, in addition to the output name and input dataset to be used. We can also specify the **-scale** and **-format** options. Note that for the format we are using *png* which has a valid data range of 0-256. The **-scale** option will automatically rescale our input data to the valid *png* range."
   ]
  },
  {
   "cell_type": "code",
   "execution_count": null,
   "metadata": {
    "hidden": true
   },
   "outputs": [],
   "source": [
    "!gdal_translate  -of KMLSUPEROVERLAY -scale -co format=png \"NETCDF:./products/S1-GUNW-A-R-077-tops-20190222_20190210-231605-42666N_40796N-PP-d75b-v2_0_1.nc:/science/grids/data/unwrappedPhase\" unwrappedPhase.kmz\n",
    "!ls unwrappedPhase.kmz"
   ]
  },
  {
   "cell_type": "markdown",
   "metadata": {
    "heading_collapsed": true,
    "hidden": true
   },
   "source": [
    "#### Cropping the data and exporting as KMZ"
   ]
  },
  {
   "cell_type": "markdown",
   "metadata": {
    "hidden": true
   },
   "source": [
    "By only adding the **projwin** option to the **gdal_translate** options we can crop the data and export the cropped plot into a KMZ file."
   ]
  },
  {
   "cell_type": "code",
   "execution_count": null,
   "metadata": {
    "hidden": true
   },
   "outputs": [],
   "source": [
    "!gdal_translate -of KMLSUPEROVERLAY -scale -co format=png -projwin -81.00 42.30 -80.00 41.50 \"NETCDF:./products/S1-GUNW-A-R-077-tops-20190222_20190210-231605-42666N_40796N-PP-d75b-v2_0_1.nc:/science/grids/data/unwrappedPhase\" unwrappedPhaseCrop.kmz\n",
    "!ls unwrappedPhaseCrop.kmz"
   ]
  },
  {
   "cell_type": "markdown",
   "metadata": {
    "heading_collapsed": true,
    "hidden": true
   },
   "source": [
    "### 4.2. Interpretation"
   ]
  },
  {
   "cell_type": "markdown",
   "metadata": {
    "hidden": true
   },
   "source": [
    "Below is the result when opening both the full and cropped products in **GoogleEarth**\n",
    "\n",
    "<img src=\"support_docs/unwrappedPhase.png\" alt=\"region\" width=\"400\">\n",
    "<img src=\"support_docs/unwrappedPhaseCropped.png\" alt=\"region\" width=\"400\">\n",
    "\n"
   ]
  }
 ],
 "metadata": {
  "kernelspec": {
   "display_name": "Python 3",
   "language": "python",
   "name": "python3"
  },
  "language_info": {
   "codemirror_mode": {
    "name": "ipython",
    "version": 3
   },
   "file_extension": ".py",
   "mimetype": "text/x-python",
   "name": "python",
   "nbconvert_exporter": "python",
   "pygments_lexer": "ipython3",
   "version": "3.7.3"
  },
  "latex_envs": {
   "LaTeX_envs_menu_present": true,
   "autoclose": false,
   "autocomplete": false,
   "bibliofile": "biblio.bib",
   "cite_by": "apalike",
   "current_citInitial": 1,
   "eqLabelWithNumbers": true,
   "eqNumInitial": 1,
   "hotkeys": {
    "equation": "Ctrl-E",
    "itemize": "Ctrl-I"
   },
   "labels_anchors": false,
   "latex_user_defs": false,
   "report_style_numbering": false,
   "user_envs_cfg": false
  }
 },
 "nbformat": 4,
 "nbformat_minor": 2
}
