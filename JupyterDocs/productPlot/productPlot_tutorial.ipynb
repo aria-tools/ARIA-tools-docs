{
 "cells": [
  {
   "cell_type": "markdown",
   "metadata": {},
   "source": [
    "# Plotting quality control and baseline figures of the spatio-temporal network\n",
    "\n",
    "**Author**: Emre Havazli, David Bekaert - Jet Propulsion Laboratory\n",
    "\n",
    "This notebook provides an overview of the functionality included in the **`ariaPlot.py`** program. Specifically, we give examples on how the **`ariaPlot.py`** program can be used to generate both qualitiative and coverage plots  of ARIA Geocoded UNWrapped interferogram (GUNW) products over a user defined area of interest.\n",
    "\n",
    "In this notebook, we will demonstrate how to extract:\n",
    "- Qualitative Plots\n",
    "  - Perpendicular baseline - Time plot\n",
    "  - Coherence - Time plot\n",
    "- Coverage plots\n",
    "  - Lat extent\n",
    "    \n",
    "\n",
    "<div class=\"alert alert-danger\">\n",
    "<b>Potential Errors:</b> \n",
    "    \n",
    "- GDAL uses \"HDF5\" driver instead of \"netCDF/Network Common Data Format\" on GUNW products. Verify GDAL version >= 3.\n",
    "- ARIA-tools needs to be installed to run this notebook\n",
    "</div>"
   ]
  },
  {
   "cell_type": "markdown",
   "metadata": {},
   "source": [
    "## Overview of the ariaPlot.py program\n",
    "\n",
    "We can print out help and usage of the tool using the command shown in the cell below. The tags which can be used and what they are used for is explanied in the output."
   ]
  },
  {
   "cell_type": "markdown",
   "metadata": {},
   "source": [
    "The **`ariaPlot.py`** program allows for easy generation of qualitatibe and spatial-temproal coverage plots over a user-defiend area of itnerest. Running **`ariaPlot.py`** with the **`-h`** option, will show the parameters options. \n",
    "\n",
    "Let us explore these options are:"
   ]
  },
  {
   "cell_type": "code",
   "execution_count": 1,
   "metadata": {},
   "outputs": [
    {
     "name": "stdout",
     "output_type": "stream",
     "text": [
      "usage: ariaPlot.py [-h] -f IMGFILE [-w WORKDIR] [-b BBOX] [-m MASK]\r\n",
      "                   [-of OUTPUTFORMAT] [-croptounion] [-plottracks]\r\n",
      "                   [-plotbperp] [-plotbperpcoh] [-plotcoh] [-makeavgoh]\r\n",
      "                   [-plotall] [-verbose]\r\n",
      "\r\n",
      "Function to generate various quality control and baseline figures of the\r\n",
      "spatial-temporal network of products.\r\n",
      "\r\n",
      "optional arguments:\r\n",
      "  -h, --help            show this help message and exit\r\n",
      "  -f IMGFILE, --file IMGFILE\r\n",
      "                        ARIA file\r\n",
      "  -w WORKDIR, --workdir WORKDIR\r\n",
      "                        Specify directory to deposit all outputs. Default is\r\n",
      "                        local directory where script is launched.\r\n",
      "  -b BBOX, --bbox BBOX  Provide either valid shapefile or Lat/Lon Bounding\r\n",
      "                        SNWE. -- Example : '19 20 -99.5 -98.5'\r\n",
      "  -m MASK, --mask MASK  Mask file. This file needs to be GDAL compatible and\r\n",
      "                        contains projection information its meta-data.\r\n",
      "  -of OUTPUTFORMAT, --outputFormat OUTPUTFORMAT\r\n",
      "                        GDAL compatible output format (e.g., \"ENVI\", \"GTiff\").\r\n",
      "                        By default files are generated with ENVI format.\r\n",
      "  -croptounion, --croptounion\r\n",
      "                        If turned on, IFGs cropped to bounds based off of\r\n",
      "                        union and bbox (if specified). Program defaults to\r\n",
      "                        crop all IFGs to bounds based off of common\r\n",
      "                        intersection and bbox (if specified).\r\n",
      "  -plottracks, --plottracks\r\n",
      "                        Make plot of track latitude extents vs bounding\r\n",
      "                        bbox/common track extent.\r\n",
      "  -plotbperp, --plotbperp\r\n",
      "                        Make a baseline plot, and a histogram of perpendicular\r\n",
      "                        baseline.\r\n",
      "  -plotbperpcoh, --plotbperpcoh\r\n",
      "                        Make a baseline plot that is color-coded based on\r\n",
      "                        average IFG coherence.\r\n",
      "  -plotcoh, --plotcoh   Make an average IFG coherence plot in time, and\r\n",
      "                        histogram of IFG average coherence.\r\n",
      "  -makeavgoh, --makeavgoh\r\n",
      "                        Generate a 2D raster of average IFG coherence.\r\n",
      "  -plotall, --plotall   Generate all above plots.\r\n",
      "  -verbose, --verbose   Toggle verbose mode on.\r\n"
     ]
    }
   ],
   "source": [
    "!ariaPlot.py -h"
   ]
  },
  {
   "cell_type": "markdown",
   "metadata": {},
   "source": [
    "### 1. Product files to be used (-f option)"
   ]
  },
  {
   "cell_type": "markdown",
   "metadata": {},
   "source": [
    "At minimum, users need to specify the GUNW files where they want to extract information from. This is controlled using the **`-f`** option. Multiple products can be specified by providing them as a comma separated string (e.g., **`-f`**` 'S1-GUNW-A-R-124-tops-20180502_20180408-043106-21658N_19755N-PP-0dd0-v2_0_1.nc,S1-GUNW-A-R-124-tops-20180502_20180408-043040-20161N_18088N-PP-6704-v2_0_1.nc'`), or using a wildcard (e.g., **`-f`**` 'S1*.nc'`)."
   ]
  },
  {
   "cell_type": "markdown",
   "metadata": {
    "heading_collapsed": true
   },
   "source": [
    "### 4. Cropping and spatial sub setting (-b and -croptounion options)"
   ]
  },
  {
   "cell_type": "markdown",
   "metadata": {
    "hidden": true
   },
   "source": [
    "The **`ariaPlot.py`** program will automatically handle cropping and stitching of GUNW products when needed. By default, the program will crop all interferograms to bounds determined by the common intersection (of all interferograms) and the user-defined bounding box option. All layers are cropped and/or stitched using GDAL (see the methods section for details on the implemented approach for each layer). Below we discuss which options are available for specifying an area-of-interest."
   ]
  },
  {
   "cell_type": "markdown",
   "metadata": {
    "heading_collapsed": true,
    "hidden": true
   },
   "source": [
    "#### Interferogram intersection versus union (-croptounion option)"
   ]
  },
  {
   "cell_type": "markdown",
   "metadata": {
    "hidden": true
   },
   "source": [
    "GUNW products are grouped in clusters that belong to the same interferometric pair. By default, the spatial **intersection** of the interferometic pairs is used to define the region of interest. This can be overwritten to be the union of all interferograms (regardless of alignment) by passing the **`--croptounion`** argument. A schematic example is shown in **Fig 2** for both scenario's.\n",
    "\n",
    "<div class=\"alert alert-warning\">\n",
    "<b>Warning:</b> Users in general should avoid mixing products of adjacent satellite tracks (i.e., products made on the same contiguous pass are ok). Note that along the equator, the track number (ascending data on the ascending note) gets incremented while the data itself is still continuous.\n",
    "</div>\n",
    "\n",
    "<img src=\"support_docs/spatial_config_new.png\" alt=\"spatial_configuration\" width=\"700\">\n",
    "<blockquote> <center><b> Fig. 2 </b> Schematic of the spatiotemporal configuration for three interferograms. The left panel shows the intersection of the interferograms, which is the default behavior. The right panel shows the union of the interferograms, achieved by passing <b><code>--croptounion</code></b> . The blue dashed line demonstrates the behavior if the user had specified a bounding box (<b><code>-b</code></b>). Note that interferograms which do not cover the bounding box completely with the <b><code>--croptounion</code></b> or the <b><code>-b</code></b> option, will be patched with no-data values.</center></blockquote>"
   ]
  },
  {
   "cell_type": "markdown",
   "metadata": {
    "heading_collapsed": true,
    "hidden": true
   },
   "source": [
    "#### Bounding Box (-b option)"
   ]
  },
  {
   "cell_type": "markdown",
   "metadata": {
    "hidden": true
   },
   "source": [
    "The user can specify a rectangular bounding box (South-North-West-East coordinates) as **`-b`**` 'S N W E'` or can provide a more complex area of interest using a shapefile or geoJSON as **`-b`**` path_to_file.shp`. A schematic example is shown in **Fig 3** for both scenario's.\n",
    "\n",
    "<img src=\"./support_docs/crop.png\" alt=\"cropping\" width=\"700\">\n",
    "<blockquote><center><b> Fig. 3 </b> Schematic examples of the <b><code>-b</code></b> option available for cropping. The blue dashed line shows the user-specified area of interest. The left panel demonstrates the use when specifying SNWE coordinates, while the right panel shows when specifying a more complex polygon for the area of interest using a shapefile. </center></blockquote>"
   ]
  },
  {
   "cell_type": "markdown",
   "metadata": {},
   "source": [
    "### 5. Workdirectory (-w option)"
   ]
  },
  {
   "cell_type": "markdown",
   "metadata": {},
   "source": [
    "The output of the **`ariaPlot.py`** program is saved within the working directory (**`-w`**), which by default the current directory. Within the work directory the figure outputs are stored within the *figures* directory "
   ]
  },
  {
   "cell_type": "markdown",
   "metadata": {},
   "source": [
    "### 6.  Output format (-o option)"
   ]
  },
  {
   "cell_type": "markdown",
   "metadata": {},
   "source": [
    "The **`ariaPlot.py`** program leverages GDAL for file reading and writing of outputs. Although most of the outputs are figures, users can specify any GDAL compatible format (e.g., ENVI, ISCE, GTiff; see GDAL for more information on supported format) for saving the output from the **`--makeavgoh`** option."
   ]
  },
  {
   "cell_type": "markdown",
   "metadata": {},
   "source": [
    "### 0.2. Input and output standards\n",
    "The cell below is showing the usage of input and output tags. -f/--file tag is the only required tag. The command will create an empty folder with the name \"outdir\" in your working directory. You can change the name and location of the folder as needed."
   ]
  },
  {
   "cell_type": "code",
   "execution_count": 3,
   "metadata": {},
   "outputs": [
    {
     "name": "stdout",
     "output_type": "stream",
     "text": [
      "***Plotting Function:***\n",
      "All 1 input files successfully passed!\n",
      "Group spatiotemporally continuous IFGs.\n",
      "\n",
      "All 1 input files successfully passed!\n"
     ]
    }
   ],
   "source": [
    "!ariaPlot.py -f ./data/S1-GUNW-A-R-077-tops-20190222_20190210-231605-42666N_40796N-PP-d75b-v2_0_1.nc -w ./outdir"
   ]
  },
  {
   "cell_type": "markdown",
   "metadata": {},
   "source": [
    "## 1. Qualitative Plots\n",
    "### 1.1. Baseline Plots\n",
    "We can analyze the quality of ARIA products by examining their baseline and coherence information. productPlot.py allows us to visualize this information from the product directly."
   ]
  },
  {
   "cell_type": "code",
   "execution_count": 2,
   "metadata": {},
   "outputs": [
    {
     "name": "stdout",
     "output_type": "stream",
     "text": [
      "***Plotting Function:***\n",
      "All (1) GUNW products meet spatial bbox criteria.\n",
      "Group GUNW products into spatiotemporally continuous interferograms.\n",
      "All (1) interferograms are spatially continuous.\n",
      "- Make baseline plot and histogram.\n"
     ]
    }
   ],
   "source": [
    "!ariaPlot.py -f ./data/S1-GUNW-A-R-077-tops-20190222_20190210-231605-42666N_40796N-PP-d75b-v2_0_1.nc -w ./outdir -plotbperp"
   ]
  },
  {
   "cell_type": "markdown",
   "metadata": {},
   "source": [
    "The output of the command above produces two figures in your workdir. The first figure is called **bperp_histogram.eps** and shows the distribution of perpendicular baselines with respect to number of interferograms. This figure allows us to visualize the distribtuion of perpendicular baselines in your data set, or a single product as in this case\n",
    "\n",
    "<img src=\"support_docs/bperp_histogram.png\" alt=\"Histogram\" width=\"700\">"
   ]
  },
  {
   "cell_type": "markdown",
   "metadata": {},
   "source": [
    "The second figure we produced is perpendicular baseline vs time plot with the name **bperp_plot.eps**. This plot visualizes the interferometric pairs with respect to their perpendicular baselines.\n",
    "\n",
    "<img src=\"support_docs/bperp_plot.png\" alt=\"Baseline\" width=\"1000\">\n"
   ]
  },
  {
   "cell_type": "markdown",
   "metadata": {},
   "source": [
    "We can use the same command on multiple ARIA products as seen below"
   ]
  },
  {
   "cell_type": "code",
   "execution_count": 4,
   "metadata": {},
   "outputs": [
    {
     "name": "stdout",
     "output_type": "stream",
     "text": [
      "***Plotting Function:***\n",
      "All (10) GUNW products meet spatial bbox criteria.\n",
      "Group GUNW products into spatiotemporally continuous interferograms.\n",
      "All (10) interferograms are spatially continuous.\n",
      "- Make baseline plot and histogram.\n",
      "Baseline plot warning!\n",
      "Design matrix is rank deficient. Network is disconnected.\n",
      "Using a fully connected network is recommended.\n"
     ]
    }
   ],
   "source": [
    "!ariaPlot.py -f './data/*.nc' -w ./outdir -plotbperp"
   ]
  },
  {
   "cell_type": "markdown",
   "metadata": {},
   "source": [
    "The resulting histogram of the randomly selected sample data set can be seen below.\n",
    "\n",
    "<img src=\"support_docs/bperp_histogram_multi.png\" alt=\"Histogram\" width=\"700\">"
   ]
  },
  {
   "cell_type": "markdown",
   "metadata": {},
   "source": [
    "Perpnedicular baseline vs Time plot shows us the acquisition dates and perpendicular baseline relations of interferograms.\n",
    "<img src=\"support_docs/bperp_plot_multi.png\" alt=\"Baseline\" width=\"1000\" class=\"center\">\n"
   ]
  },
  {
   "cell_type": "markdown",
   "metadata": {},
   "source": [
    "However, regular perpendicular baseline vs time plot doesn't give us a lot of information about the quality of our interferograms. We can use coherence information along with perpendicular baselines and have a better understanding of the quality of ARIA products in our data set. The cell below is going to produce the perpendicular baseline vs time plot and use color code the lines which are representing interferograms with respect to their average coherence.\n",
    "\n",
    "**Note:** We need to include -croptounion option because our data set has no common, overlapping, area."
   ]
  },
  {
   "cell_type": "code",
   "execution_count": 6,
   "metadata": {},
   "outputs": [
    {
     "name": "stdout",
     "output_type": "stream",
     "text": [
      "***Plotting Function:***\n",
      "All 10 input files successfully passed!\n",
      "Group spatiotemporally continuous IFGs.\n",
      "\n",
      "All 10 input files successfully passed!\n",
      "- Make baseline plot that is color-coded with respect to mean IFG coherence.\n",
      "Baseline plot warning!\n",
      "Design matrix is rank deficient. Network is disconnected.\n",
      "Using a fully connected network is recommended.\n"
     ]
    }
   ],
   "source": [
    "!ariaPlot.py -f './data/*.nc' -w ./outdir -plotbperpcoh -croptounion"
   ]
  },
  {
   "cell_type": "markdown",
   "metadata": {},
   "source": [
    "<img src=\"support_docs/bperp_plot_multi_color.png\" alt=\"Baseline\" width=\"1000\">"
   ]
  },
  {
   "cell_type": "markdown",
   "metadata": {},
   "source": [
    "### 1.2. Coherence Plots\n",
    "\n",
    "productPlot.py can be used to visualize coherence information of single or stacks of interferograms. The cell below produces plots such as number of interferograms vs average coherence and average coherence vs time."
   ]
  },
  {
   "cell_type": "code",
   "execution_count": 7,
   "metadata": {},
   "outputs": [
    {
     "name": "stdout",
     "output_type": "stream",
     "text": [
      "***Plotting Function:***\n",
      "All 1 input files successfully passed!\n",
      "Group spatiotemporally continuous IFGs.\n",
      "\n",
      "All 1 input files successfully passed!\n",
      "- Make average IFG coherence plot in time, and histogram of average IFG coherence.\n"
     ]
    }
   ],
   "source": [
    "!ariaPlot.py -f ./data/S1-GUNW-A-R-077-tops-20190222_20190210-231605-42666N_40796N-PP-d75b-v2_0_1.nc -w ./outdir -plotcoh"
   ]
  },
  {
   "cell_type": "markdown",
   "metadata": {},
   "source": [
    "<img src=\"support_docs/avgcoherence_histogram.png\" alt=\"Histogram\" width=\"700\">"
   ]
  },
  {
   "cell_type": "markdown",
   "metadata": {},
   "source": [
    "<img src=\"support_docs/avgcoherence_plot.png\" alt=\"Avearge Coherence\" width=\"1000\">\n"
   ]
  },
  {
   "cell_type": "markdown",
   "metadata": {},
   "source": [
    "The cell below shows how to use our tool with a multiple ARIA products. Again, we need to pass -croptounion tag since we don't have a common area between the products in our data set."
   ]
  },
  {
   "cell_type": "code",
   "execution_count": 8,
   "metadata": {},
   "outputs": [
    {
     "name": "stdout",
     "output_type": "stream",
     "text": [
      "***Plotting Function:***\n",
      "All 10 input files successfully passed!\n",
      "Group spatiotemporally continuous IFGs.\n",
      "\n",
      "All 10 input files successfully passed!\n",
      "- Make average IFG coherence plot in time, and histogram of average IFG coherence.\n"
     ]
    }
   ],
   "source": [
    "!ariaPlot.py -f './data/*.nc' -w ./outdir -plotcoh -croptounion"
   ]
  },
  {
   "cell_type": "markdown",
   "metadata": {},
   "source": [
    "<img src=\"support_docs/avgcoherence_histogram_multi.png\" alt=\"Histogram\" width=\"700\">"
   ]
  },
  {
   "cell_type": "markdown",
   "metadata": {},
   "source": [
    "<img src=\"support_docs/avgcoherence_plot_multi.png\" alt=\"Avearge Coherence\" width=\"1000\">"
   ]
  },
  {
   "cell_type": "markdown",
   "metadata": {},
   "source": [
    "## 2. Coverage Plots\n",
    "We can produce coverage plots using -plottracks tag to visualize the latitude extents of each interferogram in our dataset.  "
   ]
  },
  {
   "cell_type": "code",
   "execution_count": 5,
   "metadata": {},
   "outputs": [
    {
     "name": "stdout",
     "output_type": "stream",
     "text": [
      "***Plotting Function:***\n",
      "All (10) GUNW products meet spatial bbox criteria.\n",
      "Group GUNW products into spatiotemporally continuous interferograms.\n",
      "All (10) interferograms are spatially continuous.\n",
      "- Make plot of track latitude extents vs bounding bbox/common track extent.\n",
      "The PostScript backend does not support transparency; partially transparent artists will be rendered opaque.\n",
      "The PostScript backend does not support transparency; partially transparent artists will be rendered opaque.\n"
     ]
    }
   ],
   "source": [
    "!ariaPlot.py -f 'data/*.nc' -w outdir -plottracks -croptounion"
   ]
  },
  {
   "cell_type": "markdown",
   "metadata": {},
   "source": [
    "<img src=\"support_docs/lat_extents.png\" alt=\"Latitude Extents\" width=\"1000\">"
   ]
  }
 ],
 "metadata": {
  "kernelspec": {
   "display_name": "Python 3",
   "language": "python",
   "name": "python3"
  },
  "language_info": {
   "codemirror_mode": {
    "name": "ipython",
    "version": 3
   },
   "file_extension": ".py",
   "mimetype": "text/x-python",
   "name": "python",
   "nbconvert_exporter": "python",
   "pygments_lexer": "ipython3",
   "version": "3.6.7"
  }
 },
 "nbformat": 4,
 "nbformat_minor": 2
}
