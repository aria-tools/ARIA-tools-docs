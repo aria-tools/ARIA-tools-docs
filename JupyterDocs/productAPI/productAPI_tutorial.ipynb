{
 "cells": [
  {
   "cell_type": "markdown",
   "metadata": {},
   "source": [
    "# Downloading GUNW products using productAPI.py\n",
    "\n",
    "**Author**: Brett A. Buzzanga, David Bekaert - Jet Propulsion Laboratory\n",
    "\n",
    "This notebook demonstrates how to use the productAPI.py command line tool to download Sentinel 1 ARIA Geocoded UNWrapped interferogram [(**GUNW**) products](https://aria.jpl.nasa.gov) . productAPI.py accesses the products stored at the Alaska Satellite Facility [(ASF)](https://www.asf.alaska.edu/). Here we will demonstrate use how to download GUNW products along track 4, which intersects the U.S. East Coast in southeastern Virginia. "
   ]
  },
  {
   "cell_type": "markdown",
   "metadata": {},
   "source": [
    "## 0. productAPI.py Overview"
   ]
  },
  {
   "cell_type": "markdown",
   "metadata": {},
   "source": [
    "Running `productAPI.py` with no options, or with `-h`, will show the parameters options as well as some examples. Location, in the form of track or bounding box, is required. For actual downloading of products, we leverage ASF's Bulk Download Service (https://bulk-download.asf.alaska.edu/help). This services handles most of the heavy lifting and will conviently skip previously downloaded files, and redownload partially downloaded files. \n",
    "\n",
    "<div class=\"alert alert-info\"><b>David:</b> Edit Needed. </div>\n",
    "    \n",
    "    "
   ]
  },
  {
   "cell_type": "code",
   "execution_count": 26,
   "metadata": {},
   "outputs": [
    {
     "name": "stdout",
     "output_type": "stream",
     "text": [
      "usage: productAPI.py [-h] [-o OUTPUT] [-t TRACK] [-b BBOX] [-w WD] [-s START]\r\n",
      "                     [-e END] [-l DAYSLT] [-m DAYSGT] [-d FLIGHTDIR] [-v V]\r\n",
      "\r\n",
      "Program to download all GUNW products for a single track.\r\n",
      "\r\n",
      "optional arguments:\r\n",
      "  -h, --help            show this help message and exit\r\n",
      "  -o OUTPUT, --output OUTPUT\r\n",
      "                        Output type, default is \"Download\". \"Download\",\r\n",
      "                        \"Count\", and \"Kml\" are currently supported.\r\n",
      "  -t TRACK, --track TRACK\r\n",
      "                        track to download\r\n",
      "  -b BBOX, --bbox BBOX  Lat/Lon Bounding SNWE\r\n",
      "  -w WD, --workdir WD   Specify directory to deposit all outputs. Default is\r\n",
      "                        \"products\" in local directory where script is\r\n",
      "                        launched.\r\n",
      "  -s START, --start START\r\n",
      "                        Start date as YYYYMMDD; If none provided, starts at\r\n",
      "                        beginning of Sentinel record (2015).\r\n",
      "  -e END, --end END     End date as YYYYMMDD. If none provided, ends today.\r\n",
      "  -l DAYSLT, --daysless DAYSLT\r\n",
      "                        Take pairs with a temporal baseline -- days less than\r\n",
      "                        this value.\r\n",
      "  -m DAYSGT, --daysmore DAYSGT\r\n",
      "                        Take pairs with a temporal baseline -- days greater\r\n",
      "                        than this value. Example, annual pairs: productAPI.py\r\n",
      "                        -t 004 --daysgt 364.\r\n",
      "  -d FLIGHTDIR, --direction FLIGHTDIR\r\n",
      "                        Flight direction, options: ascending, a, descending, d\r\n",
      "  -v V, --verbose V     Print products to be downloaded to stdout\r\n",
      "\r\n",
      "Examples of use:\r\n",
      "\t productAPI.py --track 004 --output count\r\n",
      "\t productAPI.py --bbox \"36.75 37.225 -76.655 -75.928\"\r\n",
      "\t productAPI.py -t 004 --start 20190101\r\n"
     ]
    }
   ],
   "source": [
    "!productAPI.py"
   ]
  },
  {
   "cell_type": "markdown",
   "metadata": {},
   "source": [
    "## 1. Product Options"
   ]
  },
  {
   "cell_type": "markdown",
   "metadata": {},
   "source": [
    "### 1.1 Count / KML Output"
   ]
  },
  {
   "cell_type": "markdown",
   "metadata": {},
   "source": [
    "The user has the option to download the products, get the number of products corresponds to his/her search, or retrieve a .KML file containing the product geometry that can be viewed with Google Earth. Note that the .KMZ file donwloaded is a compressed Google Earth KML file.\n",
    "\n",
    "Here we demonstrate the **count** and **kml** option using Track 4."
   ]
  },
  {
   "cell_type": "code",
   "execution_count": null,
   "metadata": {},
   "outputs": [
    {
     "name": "stdout",
     "output_type": "stream",
     "text": [
      "https://api.daac.asf.alaska.edu/services/search/param?asfplatform=Sentinel-1%20Interferogram%20(BETA)&output=JSON&relativeOrbit=004\r\n"
     ]
    }
   ],
   "source": [
    "!productAPI.py --track 004 --output count"
   ]
  },
  {
   "cell_type": "markdown",
   "metadata": {},
   "source": [
    "If you want to also see the names of the products available, enable verbose output:\n",
    "    `productAPI.py -t 004 -o count -v 1`"
   ]
  },
  {
   "cell_type": "code",
   "execution_count": null,
   "metadata": {},
   "outputs": [],
   "source": [
    "!productAPI.py --track 004 --output kml"
   ]
  },
  {
   "cell_type": "markdown",
   "metadata": {},
   "source": [
    "<img src=\"./support_docs/track_004.png\" alt=\"track\" width=\"900\">\n",
    "\n",
    "<blockquote><b>Fig. 1</b> Image of products available along Track 4. </blockquote>\n"
   ]
  },
  {
   "cell_type": "markdown",
   "metadata": {},
   "source": [
    "### 1.2 Download Output"
   ]
  },
  {
   "cell_type": "markdown",
   "metadata": {},
   "source": [
    "To download the products, simply leave the `--output` keyword blank or specify 'Download': \n",
    "\n",
    "`productAPI.py -t 004`\n",
    "\n",
    "By default, the products will be downloaded to `./products`. The user can specify a different options with the `-w` option, i.e.\n",
    "\n",
    "`productAPI.py -t 004 -w /insarHome`\n",
    "\n"
   ]
  },
  {
   "cell_type": "markdown",
   "metadata": {},
   "source": [
    "## 2. Subset Options"
   ]
  },
  {
   "cell_type": "markdown",
   "metadata": {},
   "source": [
    "The user has a number of options availble for subsetting: bounding box, start/end date, aquisition geometry, and temporal baseline. We will demonstrate them here using the count option for brevity."
   ]
  },
  {
   "cell_type": "markdown",
   "metadata": {},
   "source": [
    "### 2.1 Subsetting by Bounding Box"
   ]
  },
  {
   "cell_type": "markdown",
   "metadata": {},
   "source": [
    "The user can provided a set of **comma separated, quotation enclosed, SNWE** coordinates to search for. Alternatively, they can provide a file with geometry readable by the python Shapely library (such as GeoJSON or ESRI shapefiles). "
   ]
  },
  {
   "cell_type": "code",
   "execution_count": null,
   "metadata": {},
   "outputs": [],
   "source": [
    "!productAPI.py --bbox \"36.75 37.225 -76.655 -75.928\" -o count"
   ]
  },
  {
   "cell_type": "markdown",
   "metadata": {},
   "source": [
    "<img src=\"./support_docs/crop.png\" alt=\"crop\" width=\"900\">\n",
    "\n",
    "<blockquote><b>Fig. 1</b> Image of products available along within bounding box 36.75S, 37.225N, -76.655W, -75.928E. </blockquote>"
   ]
  },
  {
   "cell_type": "code",
   "execution_count": null,
   "metadata": {},
   "outputs": [],
   "source": [
    "!productAPI.py --bbox './support_docs/HR_North.shp' -o count"
   ]
  },
  {
   "cell_type": "markdown",
   "metadata": {},
   "source": [
    "### 2.2 Subsetting by start/end date"
   ]
  },
  {
   "cell_type": "markdown",
   "metadata": {},
   "source": [
    "Additionally, a user can select pairs after a start date, before an end date, or between the two by passing `--start YYYYMMDD` and or `--end YYYYMMDD`. If no start date is provided, the program will by default use Jan 1, 2015, which is shortly prior to the start of the Sentinel 1 sensing period. If no end date is provided, the program will return the most recent products in can find."
   ]
  },
  {
   "cell_type": "code",
   "execution_count": null,
   "metadata": {},
   "outputs": [],
   "source": [
    "!productAPI.py --b \"36.75 37.225 -76.655 -75.928\" -o count --start 20190101 "
   ]
  },
  {
   "cell_type": "code",
   "execution_count": null,
   "metadata": {},
   "outputs": [],
   "source": [
    "!productAPI.py --b \"36.75 37.225 -76.655 -75.928\" -o count -s 20190101  --end 20190401 --verbose 1"
   ]
  },
  {
   "cell_type": "markdown",
   "metadata": {},
   "source": [
    "Note the use of the `--verbose` option used to show the products found."
   ]
  },
  {
   "cell_type": "markdown",
   "metadata": {},
   "source": [
    "### 2.3 Subset by Temporal Baseline"
   ]
  },
  {
   "cell_type": "markdown",
   "metadata": {},
   "source": [
    "We also provide the option to select pairs separated by a specified temporal baseline, ie the time length (in days) between the reference and secondary SAR acquisitions."
   ]
  },
  {
   "cell_type": "markdown",
   "metadata": {},
   "source": [
    "Select only pairs with relatively short temporal baselines, less than 24 days:"
   ]
  },
  {
   "cell_type": "code",
   "execution_count": null,
   "metadata": {},
   "outputs": [],
   "source": [
    "!productAPI.py --b \"36.75 37.225 -76.655 -75.928\" -o count --daysless 24"
   ]
  },
  {
   "cell_type": "markdown",
   "metadata": {},
   "source": [
    "Select only pairs with relatively long temporal baselines, greater than a year:"
   ]
  },
  {
   "cell_type": "code",
   "execution_count": null,
   "metadata": {},
   "outputs": [],
   "source": [
    "!productAPI.py -b \"36.75 37.225 -76.655 -75.928\" -o count --daysmore 364"
   ]
  },
  {
   "cell_type": "markdown",
   "metadata": {},
   "source": [
    "Select only pairs with moderate temporal baselines between about two and 6 months:"
   ]
  },
  {
   "cell_type": "code",
   "execution_count": null,
   "metadata": {},
   "outputs": [],
   "source": [
    "!productAPI.py -b \"36.75 37.225 -76.655 -75.928\" -o count -m 60 -l 180 -v 1"
   ]
  }
 ],
 "metadata": {
  "kernelspec": {
   "display_name": "Python 3",
   "language": "python",
   "name": "python3"
  },
  "language_info": {
   "codemirror_mode": {
    "name": "ipython",
    "version": 3
   },
   "file_extension": ".py",
   "mimetype": "text/x-python",
   "name": "python",
   "nbconvert_exporter": "python",
   "pygments_lexer": "ipython3",
   "version": "3.7.3"
  },
  "latex_envs": {
   "LaTeX_envs_menu_present": true,
   "autoclose": false,
   "autocomplete": false,
   "bibliofile": "biblio.bib",
   "cite_by": "apalike",
   "current_citInitial": 1,
   "eqLabelWithNumbers": true,
   "eqNumInitial": 1,
   "hotkeys": {
    "equation": "Ctrl-E",
    "itemize": "Ctrl-I"
   },
   "labels_anchors": false,
   "latex_user_defs": false,
   "report_style_numbering": false,
   "user_envs_cfg": false
  },
  "toc": {
   "base_numbering": 1,
   "nav_menu": {},
   "number_sections": true,
   "sideBar": true,
   "skip_h1_title": false,
   "title_cell": "Table of Contents",
   "title_sidebar": "Contents",
   "toc_cell": false,
   "toc_position": {},
   "toc_section_display": true,
   "toc_window_display": false
  }
 },
 "nbformat": 4,
 "nbformat_minor": 2
}
