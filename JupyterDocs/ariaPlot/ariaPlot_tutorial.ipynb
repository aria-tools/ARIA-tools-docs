{
 "cells": [
  {
   "cell_type": "markdown",
   "metadata": {},
   "source": [
    "# Assessing data quality and spatiotemporal coverage of interferograms\n",
    "\n",
    "**Author**: Emre Havazli, David Bekaert - Jet Propulsion Laboratory\n",
    "\n",
    "This notebook provides an overview of the functionality included in the **`ariaPlot.py`** program. Specifically, we give examples on how the **`ariaPlot.py`** program can be used to generate both qualitative and coverage plots  of ARIA Geocoded UNWrapped interferogram (**GUNW**) products over a user defined area of interest.\n",
    "\n",
    "In this notebook, we will demonstrate how to extract:\n",
    "- Qualitative plots\n",
    "  - Perpendicular baseline versus time plot\n",
    "  - Coherence versus time plot\n",
    "- Spatial coverage plots\n",
    "  - Interferogram latitude extent\n",
    "    \n",
    "\n",
    "\n",
    "<div class=\"alert alert-warning\">\n",
    "Both the initial setup (<b>Prep A</b> section) and download of the data (<b>Prep B</b> section) should be run at the start of the notebook. All other sections (Qualitative and Spatial coverage plots) do not need to be run in order.\n",
    "</div>\n",
    "\n",
    "<div class=\"alert alert-danger\">\n",
    "<b>Potential Errors:</b> \n",
    "    \n",
    "- GDAL uses \"HDF5\" driver instead of \"netCDF/Network Common Data Format\" on GUNW products. Verify GDAL version >= 3.\n",
    "- ARIA-tools needs to be installed to run this notebook\n",
    "</div>"
   ]
  },
  {
   "cell_type": "markdown",
   "metadata": {
    "heading_collapsed": true
   },
   "source": [
    "## Prep A. Initial setup of the notebook"
   ]
  },
  {
   "cell_type": "markdown",
   "metadata": {
    "hidden": true
   },
   "source": [
    "Below we define a plotting function that will be used for plotting the average coherence on a map."
   ]
  },
  {
   "cell_type": "code",
   "execution_count": 1,
   "metadata": {
    "hidden": true
   },
   "outputs": [],
   "source": [
    "import os\n",
    "from osgeo import gdal, ogr\n",
    "import numpy as np\n",
    "import matplotlib.pyplot as plt\n",
    "from matplotlib.ticker import FuncFormatter, FormatStrFormatter, StrMethodFormatter\n",
    "from mpl_toolkits.axes_grid1 import make_axes_locatable\n",
    "\n",
    "\n",
    "\n",
    "def plot_layer(path_layer, lay_type=None, cmap=None, **kwargs):\n",
    "    \"\"\" \n",
    "        path_layers is a string to the GDAL compatible dataset to be plotted\n",
    "    \"\"\"\n",
    "    \n",
    "    if not lay_type: \n",
    "        lay_type = os.path.dirname(path_layer)\n",
    "    title = [os.path.basename(lay_type)]\n",
    "    \n",
    "    ## get the lon lat bounds\n",
    "    ds       = gdal.Open(path_layer, gdal.GA_ReadOnly)\n",
    "    trans    = ds.GetGeoTransform()\n",
    "    extent   = [trans[0], trans[0] + ds.RasterXSize * trans[1], trans[3] + ds.RasterYSize*trans[5], trans[3]]\n",
    "    \n",
    "    ## loading the data\n",
    "    n_bands  = ds.RasterCount\n",
    "    lst_arrs = []\n",
    "    \n",
    "    for band in range(n_bands):\n",
    "        raster = ds.GetRasterBand(band+1)\n",
    "        arr    = raster.ReadAsArray()\n",
    "        try:\n",
    "            NoData = raster.GetNoDataValue()\n",
    "            arr = np.ma.masked_where((arr>1e20) |(arr==NoData),arr )\n",
    "        except:\n",
    "            print('Could not find a no-data value...')\n",
    "            arr = np.ma.masked_where(arr>1e20,arr)\n",
    "        \n",
    "        lst_arrs.append(arr)\n",
    "\n",
    "    ds = None\n",
    "    if n_bands < 4:\n",
    "        nrows = 1; ncols = n_bands\n",
    "    else:\n",
    "        raise Exception('Number of bands currently unsupported')\n",
    "        \n",
    "    \n",
    "    ## initializing a figure\n",
    "    fig, axes = plt.subplots(figsize=(12,9), ncols=ncols, nrows=nrows, sharex='col', sharey='row')\n",
    "    axes = axes if isinstance(axes, np.ndarray) else np.array(axes)\n",
    "    axe  = axes.ravel() \n",
    "    cmap = plt.cm.Greys_r\n",
    "    cmap.set_under('black')\n",
    "    \n",
    "    ## definging the plotting options for differnt layer types\n",
    "    # Amplitude:\n",
    "    if lay_type.endswith('amplitude'): \n",
    "        # will fix the maximum amplitude bound\n",
    "        vmin=None\n",
    "        vmax = 2000 \n",
    "    # Coherence:\n",
    "    elif lay_type.endswith('coherence'): \n",
    "        # has fixed range between 0-1\n",
    "        vmin=0\n",
    "        vmax = 1\n",
    "    # Incidence angle:\n",
    "    elif lay_type.endswith('incidenceAngle'): \n",
    "        vmin=None\n",
    "        vmax=None\n",
    "    # water\n",
    "    elif lay_type.startswith('water'):\n",
    "        # no bounds needed will be a 0/1 mask\n",
    "        vmin=None\n",
    "        vmax=None\n",
    "    # deformation or unwrapped phase\n",
    "    elif lay_type.startswith('defo'): \n",
    "        # let the data drive the bounds\n",
    "        vmin=None\n",
    "        vmax=None\n",
    "        # change colormap to a warm type\n",
    "        cmap=plt.cm.coolwarm\n",
    "    elif lay_type.startswith('terr') or lay_type.startswith('topo'): \n",
    "        # let the data drive the bounds\n",
    "        vmin=None\n",
    "        vmax=None\n",
    "        # change colormap to a warm type\n",
    "        cmap=plt.cm.terrain\n",
    "    elif lay_type == 'ENU':\n",
    "        vmin=None\n",
    "        vmax=None\n",
    "        title = ['East', 'North', 'Up']\n",
    "        fig.subplots_adjust(wspace=0.5)\n",
    "\n",
    "    else:\n",
    "        # let the data drive the bounds\n",
    "        vmin=None\n",
    "        vmax=None\n",
    "        # change colormap to a warm type\n",
    "        cmap=plt.cm.coolwarm\n",
    "        \n",
    "    # plotting the data    \n",
    "    for i, ax in enumerate(axe):\n",
    "        im   = ax.imshow(lst_arrs[i], cmap=cmap, vmin=vmin, vmax=vmax, extent=extent)\n",
    "        divider = make_axes_locatable(ax)\n",
    "        cax     = divider.append_axes('right', size='5%', pad=0.25)\n",
    "        if lay_type == 'ENU':\n",
    "            fig.colorbar(im, cax=cax, format=FuncFormatter(lambda x, y: '{:.3f}'.format(x)))\n",
    "        else:\n",
    "            fig.colorbar(im, cax=cax)\n",
    "\n",
    "        ax.set_title(title[i], fontsize=15)\n",
    "        ax.grid(False)\n",
    "\n",
    "    axe[0].set_ylabel('latitude', labelpad=15, fontsize=15)\n",
    "    axe[int(np.floor(n_bands/2))].set_xlabel('longitude', labelpad=15, fontsize=15)"
   ]
  },
  {
   "cell_type": "markdown",
   "metadata": {},
   "source": [
    "## Prep B: Download the data"
   ]
  },
  {
   "cell_type": "markdown",
   "metadata": {},
   "source": [
    "### Tutorial dataset "
   ]
  },
  {
   "cell_type": "markdown",
   "metadata": {},
   "source": [
    "For this tutorial our study area will be San Francisco. ARIA provides unwrapped interferograms as GUNW products. We will use Sentinel-1 interferograms generated on track 42, spanning the start of the Sentinel-1 mission phase in late 2014 up until 20160101. \n",
    "\n",
    "ARIA provides unwrapped interferograms as GUNW products. As the spatial extent of a product is roughly the size of a single Sentinel-1 SLC frame (250km x 250km), it is likely that a given interferogram over this study area is composed of multiple adjacent GUNW frames or products. "
   ]
  },
  {
   "cell_type": "markdown",
   "metadata": {},
   "source": [
    "### ARIA GUNW products"
   ]
  },
  {
   "cell_type": "markdown",
   "metadata": {},
   "source": [
    "The GUNW product is an InSAR surface displacement product as derived from Sentinel-1 SAR data and packaged as netCDF4 files. GUNW products contain both data and meta-data layers such as the interferometric amplitude, filtered unwrapped phase, filtered coherence, connected components, perpendicular and parallel baselines, incidence, azimuth and look angles. A detailed overview of the ARIA GUNW product with respect to processing, formatting, sampling, and data layers can be found on the [ARIA website](https://aria.jpl.nasa.gov/node/97)."
   ]
  },
  {
   "cell_type": "markdown",
   "metadata": {},
   "source": [
    "### Download options"
   ]
  },
  {
   "cell_type": "markdown",
   "metadata": {},
   "source": [
    "GUNW products are hosted at the ASF DAAC and can be downloaded from the [ARIA-products page](https://aria-products.jpl.nasa.gov) and under beta products from the [ASF DAAC vertex page](https://search.asf.alaska.edu/#/). If you know the GUNW filename of the product, you can also build a download link by appending the GUNW filename to **https://<i></i>grfn.asf.alaska.edu<i></i>/door/download/** . \n",
    "\n",
    "Alternatively, you can use the **`ariaDownload.py`** program provided within the ARIA-tools package to download data using a command-line interface. This program wraps around the ASF DAAC API and allows for search sub setting of GUNW products based on track number, geometry (ascending or descending), as well as, spatial and temporal bounding boxes criteria. For a full description of **`ariaDownload.py`** program, see the [ariaDownload Tutorial](https://github.com/aria-tools/ARIA-tools-docs/blob/master/JupyterDocs/ariaDownload/ariaDownload_tutorial.ipynb).\n",
    "\n",
    "<div class=\"alert alert-warning\">\n",
    "<b>Potential download failure:</b> \n",
    "GUNW products are hosted at the NASA ASF DAAC. Downloading them requires a NASA Earthdata URS user login and requires users to add “ARIA Product Search” to their URS approved applications\n",
    "</div>\n",
    "\n",
    "Below we will use the **`ariaDownload.py`** to download the all the GUNW products on track 42 (**`-t`** option) over San Francisco area (**`--bbox`** SNWE option) for the interferograms between 2014 (**`--s`** options) and *20160101* (**`--e`** option) into a *products* folder (**`-w`** option).\n",
    "\n",
    "\n",
    "<div class=\"alert alert-danger\">\n",
    "<b>Download</b>: \n",
    "    \n",
    "- <b>Can take up to 20 min</b>, so this is a good moment to take a cofee-break!\n",
    "- The ***jupyter notebook* does not allow for interactive entering of your user-name and password, use the *jupyter terminal* instead** with the same command for interactive use.\n",
    "</div>"
   ]
  },
  {
   "cell_type": "code",
   "execution_count": 2,
   "metadata": {},
   "outputs": [
    {
     "name": "stdout",
     "output_type": "stream",
     "text": [
      "https://api.daac.asf.alaska.edu/services/search/param?asfplatform=Sentinel-1%20Interferogram%20(BETA)&processingLevel=GUNW_STD&output=JSON&relativeOrbit=42&bbox=-122.6,37.25,-121.75,38.1\n",
      " > attempting to download https://urs.earthdata.nasa.gov/profile\n",
      " > Re-using previous cookie jar.\n",
      " > 'Temporary' Redirect download @ Remote archive:\n",
      " > https://dlz0dhr6g6ukw.cloudfront.net/S1-GUNW-D-R-042-tops-20151214_20151003-140745-38457N_36481N-PP-5d6d-v2_0_2.nc?userid=bbuzz&Expires=1594780488&Signature=HSF4epCafx15mBQ3wLxiTOKJmQcxDgEuBfs6nOKgXJ3XTHFFxllkuCQRajzTcCMqs1bqvp-x8z8QxY3PztjxXQyuPqd5D5uvPt0k~QI0Q~xBQ9H8cDi08cy5I31hXPgrmddAgM0GDvGbnErPfXRQpcv8Fs7HnovGEgQRebudmBA_&Key-Pair-Id=APKAINVNJF4BDB5SS5QQ\n",
      "(1/42) Downloading https://grfn.asf.alaska.edu/door/download/S1-GUNW-D-R-042-tops-20151214_20151003-140745-38457N_36481N-PP-5d6d-v2_0_2.nc\n",
      " > Downloaded 68160135 of 68160135 bytes (100.00%)\n",
      "Downloaded 68160135b in 7.87secs, Average Rate: 8.26MB/sec\n",
      " > 'Temporary' Redirect download @ Remote archive:\n",
      " > https://dlz0dhr6g6ukw.cloudfront.net/S1-GUNW-D-R-042-tops-20151214_20151027-140745-38457N_36481N-PP-eeff-v2_0_0.nc?userid=bbuzz&Expires=1594780494&Signature=NVFi3MhTxGOWz18qMOaWkEBpp2OGbNiCPxhwqVOC41ejjvJR56STTwQudB8NyRF-yDKS6xXBcKFXBvSkzDMLVvCfUPhFin~yFhrVwvnlPdsv0hLg34-8nlcDSBqakQs6Fqap55NhIQbRpoZsKZDexiNYbynrA-gXkxOXnGIDiJ0_&Key-Pair-Id=APKAINVNJF4BDB5SS5QQ\n",
      "(2/42) Downloading https://grfn.asf.alaska.edu/door/download/S1-GUNW-D-R-042-tops-20151214_20151027-140745-38457N_36481N-PP-eeff-v2_0_0.nc\n",
      " > Downloaded 66103027 of 66103027 bytes (100.00%)\n",
      "Downloaded 66103027b in 19.20secs, Average Rate: 3.28MB/sec\n",
      " > 'Temporary' Redirect download @ Remote archive:\n",
      " > https://dlz0dhr6g6ukw.cloudfront.net/S1-GUNW-D-R-042-tops-20151214_20151120-140745-38457N_36481N-PP-a9c7-v2_0_0.nc?userid=bbuzz&Expires=1594780513&Signature=apEo3U4gTssCumMAm7XWF0tENnwqCVllVUyQd713~F-ehLIezqsw0OgVucaWKhcV-exfQi82wqrjec-fHfGVduNEUv4-iK69LH4x3aKoIoCVLzM~MApWIVFvUZZP0u-b1EPgz6bucZXwlwL22F03md907LU7jF67C0plDvobtWU_&Key-Pair-Id=APKAINVNJF4BDB5SS5QQ\n",
      "(3/42) Downloading https://grfn.asf.alaska.edu/door/download/S1-GUNW-D-R-042-tops-20151214_20151120-140745-38457N_36481N-PP-a9c7-v2_0_0.nc\n",
      " > Downloaded 64008599 of 64008599 bytes (100.00%)\n",
      "Downloaded 64008599b in 4.39secs, Average Rate: 13.91MB/sec\n",
      " > 'Temporary' Redirect download @ Remote archive:\n",
      " > https://dlz0dhr6g6ukw.cloudfront.net/S1-GUNW-D-R-042-tops-20151120_20150909-140745-38456N_36481N-PP-2e29-v2_0_2.nc?userid=bbuzz&Expires=1594780518&Signature=ywAedYwADWAL5Q8orefYHcwr2Uy9MUKESOUN2MjimG4uHDUImT1aUo53P3NP1l3yG4RrsIhuY6FkK3bD3AuqKI8GiTFuUJ7e4CBTc7lf5D0O9Sx9xD7pGKLzHPKZiiur1XFOiA~0hEv-EAwDwHUjMqNGHHf997R6bHfpGkNFTBc_&Key-Pair-Id=APKAINVNJF4BDB5SS5QQ\n",
      "(4/42) Downloading https://grfn.asf.alaska.edu/door/download/S1-GUNW-D-R-042-tops-20151120_20150909-140745-38456N_36481N-PP-2e29-v2_0_2.nc\n",
      " > Downloaded 67027115 of 67027115 bytes (100.00%)f 67027115 bytes (59.91%)\n",
      "Downloaded 67027115b in 5.37secs, Average Rate: 11.90MB/sec\n",
      " > 'Temporary' Redirect download @ Remote archive:\n",
      " > https://dlz0dhr6g6ukw.cloudfront.net/S1-GUNW-D-R-042-tops-20151120_20151003-140745-38456N_36481N-PP-ee51-v2_0_0.nc?userid=bbuzz&Expires=1594780523&Signature=QdAqqfqbqNiXMM3w2RwYun4nO0l9TtTFRB6MgAR~WeeoIJFr-M5YgAtX1qzAOMApAs94OaKaQpAxI-nQh3Z~9fI88rYRt04-dFzFudSGNIEF4qGc0MbAS1TLUj8Lj83i-Q9LzfmWQZ8at6g3aFzKiOd31h-P6WcLP3gf79cWnGo_&Key-Pair-Id=APKAINVNJF4BDB5SS5QQ\n",
      "(5/42) Downloading https://grfn.asf.alaska.edu/door/download/S1-GUNW-D-R-042-tops-20151120_20151003-140745-38456N_36481N-PP-ee51-v2_0_0.nc\n",
      " > Downloaded 66385048 of 66385048 bytes (100.00%)\n",
      "Downloaded 66385048b in 4.89secs, Average Rate: 12.94MB/sec\n",
      " > 'Temporary' Redirect download @ Remote archive:\n",
      " > https://dlz0dhr6g6ukw.cloudfront.net/S1-GUNW-D-R-042-tops-20151120_20151027-140745-38456N_36481N-PP-50e2-v2_0_0.nc?userid=bbuzz&Expires=1594780528&Signature=Gfc9ZwDvmepq2UrI8AlBSj3M-nkgO6P8lYb92iDG62GpDX63wvHhKo-9atLHAtfp~CPIb92FCQ6~SN~N-8ey8BOLSxXSvCdeV3j1k-WFghq8HLZ5-Gq4zaWPkcaSvP-Fgc4DMgkZJCwsOlxH9BvX0IXL80X2~eO8mDnO4-6JHEQ_&Key-Pair-Id=APKAINVNJF4BDB5SS5QQ\n",
      "(6/42) Downloading https://grfn.asf.alaska.edu/door/download/S1-GUNW-D-R-042-tops-20151120_20151027-140745-38456N_36481N-PP-50e2-v2_0_0.nc\n",
      "^C Downloaded 19128320 of 66398241 bytes (28.81%)\n",
      "\n",
      " > There was an error reading data. \n",
      "\n"
     ]
    }
   ],
   "source": [
    "!ariaDownload.py -t 42 -e 20160101  --bbox \"37.25 38.1 -122.6 -121.75\""
   ]
  },
  {
   "cell_type": "markdown",
   "metadata": {},
   "source": [
    "We can now have a look at the downloaded products:"
   ]
  },
  {
   "cell_type": "code",
   "execution_count": 3,
   "metadata": {},
   "outputs": [
    {
     "name": "stdout",
     "output_type": "stream",
     "text": [
      "ASFDataDload.py\r\n",
      "S1-GUNW-D-R-042-tops-20151120_20150909-140745-38456N_36481N-PP-2e29-v2_0_2.nc\r\n",
      "S1-GUNW-D-R-042-tops-20151120_20151003-140745-38456N_36481N-PP-ee51-v2_0_0.nc\r\n",
      "S1-GUNW-D-R-042-tops-20151120_20151027-140745-38456N_36481N-PP-50e2-v2_0_0.nc\r\n",
      "S1-GUNW-D-R-042-tops-20151214_20151003-140745-38457N_36481N-PP-5d6d-v2_0_2.nc\r\n",
      "S1-GUNW-D-R-042-tops-20151214_20151027-140745-38457N_36481N-PP-eeff-v2_0_0.nc\r\n",
      "S1-GUNW-D-R-042-tops-20151214_20151120-140745-38457N_36481N-PP-a9c7-v2_0_0.nc\r\n",
      "\u001b[1m\u001b[34m__pycache__\u001b[m\u001b[m\r\n"
     ]
    }
   ],
   "source": [
    "!ls products"
   ]
  },
  {
   "cell_type": "markdown",
   "metadata": {},
   "source": [
    "The product filename has two fields, **XXYYYN/S-XXYYYN/S**, that are respectively associated with the western edge of south and north most corner of the geocoded interferogram (see [aria-website](https://aria.jpl.nasa.gov/node/97) for a complete overview of the filename convention). The latitude bounds are specified as 5-digit number with 3 significant digits."
   ]
  },
  {
   "cell_type": "markdown",
   "metadata": {
    "heading_collapsed": true
   },
   "source": [
    "## Overview of the ariaPlot.py program"
   ]
  },
  {
   "cell_type": "markdown",
   "metadata": {
    "hidden": true
   },
   "source": [
    "The **`ariaPlot.py`** program allows for easy generation of qualitative and spatiotemporal coverage plots of products over a user-defined area of interest. Running **`ariaPlot.py`** with the **`-h`** option, will show the parameters options. \n",
    "\n",
    "Let us explore these options:"
   ]
  },
  {
   "cell_type": "code",
   "execution_count": 4,
   "metadata": {
    "hidden": true
   },
   "outputs": [
    {
     "name": "stdout",
     "output_type": "stream",
     "text": [
      "usage: ariaPlot.py [-h] -f IMGFILE [-w WORKDIR] [-b BBOX] [-m MASK]\n",
      "                   [-at AMP_THRESH] [-nt NUM_THREADS] [-of OUTPUTFORMAT]\n",
      "                   [-croptounion] [-plottracks] [-plotbperp] [-plotbperpcoh]\n",
      "                   [-plotcoh] [-makeavgoh] [-plotall] [-mo MINIMUMOVERLAP]\n",
      "                   [-verbose]\n",
      "\n",
      "Function to generate various quality control and baseline figures of the\n",
      "spatial-temporal network of products.\n",
      "\n",
      "optional arguments:\n",
      "  -h, --help            show this help message and exit\n",
      "  -f IMGFILE, --file IMGFILE\n",
      "                        ARIA file\n",
      "  -w WORKDIR, --workdir WORKDIR\n",
      "                        Specify directory to deposit all outputs. Default is\n",
      "                        local directory where script is launched.\n",
      "  -b BBOX, --bbox BBOX  Provide either valid shapefile or Lat/Lon Bounding\n",
      "                        SNWE. -- Example : '19 20 -99.5 -98.5'\n",
      "  -m MASK, --mask MASK  Path to mask file or 'Download'. File needs to be GDAL\n",
      "                        compatabile, contain spatial reference information,\n",
      "                        and have invalid/valid data represented by 0/1,\n",
      "                        respectively. If 'Download', will use GSHHS water\n",
      "                        mask. If 'NLCD', will mask classes 11, 12, 90, 95;\n",
      "                        see: https://www.mrlc.gov/national-land-cover-\n",
      "                        database-nlcd-201://www.mrlc.gov/national-land-cover-\n",
      "                        database-nlcd-2016\n",
      "  -at AMP_THRESH, --amp_thresh AMP_THRESH\n",
      "                        Amplitude threshold below which to mask. Specify\n",
      "                        \"None\" to not use amplitude mask. By default \"None\".\n",
      "  -nt NUM_THREADS, --num_threads NUM_THREADS\n",
      "                        Specify number of threads for multiprocessing\n",
      "                        operation in gdal. By default \"2\". Can also specify\n",
      "                        \"All\" to use all available threads.\n",
      "  -of OUTPUTFORMAT, --outputFormat OUTPUTFORMAT\n",
      "                        GDAL compatible output format (e.g., \"ENVI\", \"GTiff\").\n",
      "                        By default files are generated with ENVI format.\n",
      "  -croptounion, --croptounion\n",
      "                        If turned on, IFGs cropped to bounds based off of\n",
      "                        union and bbox (if specified). Program defaults to\n",
      "                        crop all IFGs to bounds based off of common\n",
      "                        intersection and bbox (if specified).\n",
      "  -plottracks, --plottracks\n",
      "                        Make plot of track latitude extents vs bounding\n",
      "                        bbox/common track extent.\n",
      "  -plotbperp, --plotbperp\n",
      "                        Make a baseline plot, and a histogram of perpendicular\n",
      "                        baseline.\n",
      "  -plotbperpcoh, --plotbperpcoh\n",
      "                        Make a baseline plot that is color-coded based on\n",
      "                        average IFG coherence.\n",
      "  -plotcoh, --plotcoh   Make an average IFG coherence plot in time, and\n",
      "                        histogram of IFG average coherence.\n",
      "  -makeavgoh, --makeavgoh\n",
      "                        Generate a 2D raster of average IFG coherence.\n",
      "  -plotall, --plotall   Generate all above plots.\n",
      "  -mo MINIMUMOVERLAP, --minimumOverlap MINIMUMOVERLAP\n",
      "                        Minimum km² area of overlap of scenes wrt specified\n",
      "                        bounding box.Default 0.0081 = 0.0081km²=area of single\n",
      "                        pixel at standard 90m resolution\n",
      "  -verbose, --verbose   Toggle verbose mode on.\n"
     ]
    }
   ],
   "source": [
    "!ariaPlot.py -h"
   ]
  },
  {
   "cell_type": "markdown",
   "metadata": {
    "heading_collapsed": true,
    "hidden": true
   },
   "source": [
    "### 1. Product files to be used (-f option)"
   ]
  },
  {
   "cell_type": "markdown",
   "metadata": {
    "hidden": true
   },
   "source": [
    "At minimum, users need to specify the GUNW files they want to extract information from. This is controlled using the **`-f`** option. Multiple products can be specified by providing them as a comma separated string (e.g., **`-f`**` 'products/S1-GUNW-D-R-042-tops-20150605_20150512-140722-39616N_37642N-PP-e396-v2_0_0.nc,products/S1-GUNW-D-R-042-tops-20150629_20150512-140723-39615N_37641N-PP-0e95-v2_0_0.nc'`), or using a wildcard (e.g., **`-f`**` 'products/S1*.nc'`)."
   ]
  },
  {
   "cell_type": "markdown",
   "metadata": {
    "heading_collapsed": true,
    "hidden": true
   },
   "source": [
    "### 2. Cropping and spatial subsetting (-b and -croptounion options)"
   ]
  },
  {
   "cell_type": "markdown",
   "metadata": {
    "hidden": true
   },
   "source": [
    "The **`ariaPlot.py`** program will automatically handle cropping and stitching of GUNW products when needed. By default, the program will crop all interferograms to bounds determined by the common intersection (of all interferograms) and the user-defined bounding box option. All layers are cropped and/or stitched using GDAL (see the methods section for details on the implemented approach for each layer). Below we discuss which options are available for specifying an area-of-interest."
   ]
  },
  {
   "cell_type": "markdown",
   "metadata": {
    "heading_collapsed": true,
    "hidden": true
   },
   "source": [
    "#### Interferogram intersection versus union (-croptounion option)"
   ]
  },
  {
   "cell_type": "markdown",
   "metadata": {
    "hidden": true
   },
   "source": [
    "GUNW products are grouped in clusters that belong to the same interferometric pair. By default, the spatial **intersection** of the interferometic pairs is used to define the region of interest. This can be overriden to be the union of all interferograms (regardless of alignment) by passing the **`--croptounion`** argument. A schematic example is shown in **Fig 1** for both scenario's.\n",
    "\n",
    "<div class=\"alert alert-warning\">\n",
    "<b>Warning:</b> Users in general should avoid mixing products of adjacent satellite tracks (i.e., products made on the same contiguous pass are ok). Note that along the equator, the track number (ascending data on the ascending note) gets incremented while the data itself is still continuous.\n",
    "</div>\n",
    "\n",
    "<img src=\"support_docs/spatial_config_new.png\" alt=\"spatial_configuration\" width=\"700\">\n",
    "<blockquote> <center><b> Fig. 1 </b> Schematic of the spatiotemporal configuration for three interferograms. The left panel shows the intersection of the interferograms, which is the default behavior. The right panel shows the union of the interferograms, achieved by passing <b><code>--croptounion</code></b> . The blue dashed line demonstrates the behavior if the user had specified a bounding box (<b><code>-b</code></b>). Note that interferograms which do not cover the bounding box completely with the <b><code>--croptounion</code></b> or the <b><code>-b</code></b> option will be patched with no-data values.</center></blockquote>"
   ]
  },
  {
   "cell_type": "markdown",
   "metadata": {
    "heading_collapsed": true,
    "hidden": true
   },
   "source": [
    "#### Bounding Box (-b option)"
   ]
  },
  {
   "cell_type": "markdown",
   "metadata": {
    "hidden": true
   },
   "source": [
    "The user can specify a rectangular bounding box (South-North-West-East coordinates) as **`-b`**` 'S N W E'` or can provide a more complex area of interest using a shapefile or geoJSON as **`-b`**` path_to_file.shp`. A schematic example is shown in **Fig 2** for both scenarios.\n",
    "\n",
    "<img src=\"./support_docs/crop.png\" alt=\"cropping\" width=\"700\">\n",
    "<blockquote><center><b> Fig. 2 </b> Schematic examples of the <b><code>-b</code></b> option available for cropping. The blue dashed line shows the user-specified area of interest. The left panel demonstrates the result when specifying SNWE coordinates, while the right panel shows the result when specifying a more complex polygon for the area of interest using a shapefile. </center></blockquote>"
   ]
  },
  {
   "cell_type": "markdown",
   "metadata": {
    "heading_collapsed": true,
    "hidden": true
   },
   "source": [
    "### 3. Workdirectory (-w option)"
   ]
  },
  {
   "cell_type": "markdown",
   "metadata": {
    "hidden": true
   },
   "source": [
    "The output of the **`ariaPlot.py`** program is saved within the working directory (**`-w`**), which by default is the current directory. Within the work directory the outputs of **`ariaPlot.py`** (figures and average coherence raster) are stored within the *figures* subdirectory."
   ]
  },
  {
   "cell_type": "markdown",
   "metadata": {
    "heading_collapsed": true,
    "hidden": true
   },
   "source": [
    "### 4.  Output format (-o option)"
   ]
  },
  {
   "cell_type": "markdown",
   "metadata": {
    "hidden": true
   },
   "source": [
    "The **`ariaPlot.py`** program leverages GDAL for file reading and writing of outputs. Although most of the outputs are figures, users can specify any GDAL compatible format (e.g., ENVI, ISCE, GTiff; see GDAL for more information on supported formats) for saving the output from the **`--makeavgoh`** option."
   ]
  },
  {
   "cell_type": "markdown",
   "metadata": {
    "heading_collapsed": true
   },
   "source": [
    "## Qualitative Plots"
   ]
  },
  {
   "cell_type": "markdown",
   "metadata": {
    "hidden": true
   },
   "source": [
    "Users can analyze the interferogram quality over their study area using the interferogram baseline and average coherence information. **`ariaPlot.py`** allows users to visualize this information directly from the GUNW products. Three main options are available that can assist users for a qualitative assessment. The **`--plotbperpcoh`** option generates a perpendicular baseline plot over time, color-coded with average coherence. An alternative representation is provided by the **`--plotcoh`** option, which shows just the average interferogram coherence over time. Lastly, the **`--makeavgoh`** option can be leveraged for making a 2D product of average coherence in time. \n",
    "\n",
    "\n",
    "All these can be made at the same time using:"
   ]
  },
  {
   "cell_type": "code",
   "execution_count": 5,
   "metadata": {
    "hidden": true
   },
   "outputs": [
    {
     "name": "stdout",
     "output_type": "stream",
     "text": [
      "***Plotting Function:***\r\n",
      "Traceback (most recent call last):\r\n",
      "  File \"/Users/bb/Miniconda3/envs/ARIA/bin/ariaPlot.py\", line 16, in <module>\r\n",
      "    main(inps)\r\n",
      "  File \"/Users/bb/Miniconda3/envs/ARIA/lib/python3.7/site-packages/ARIAtools/productPlot.py\", line 538, in main\r\n",
      "    standardproduct_info = ARIA_standardproduct(inps.imgfile, bbox=inps.bbox, workdir=inps.workdir, verbose=inps.verbose)\r\n",
      "  File \"/Users/bb/Miniconda3/envs/ARIA/lib/python3.7/site-packages/ARIAtools/ARIAProduct.py\", line 82, in __init__\r\n",
      "    fmt=gdal.Open([s for s in self.files if 'https://' not in s][0]).GetDriver().GetDescription()\r\n",
      "  File \"/Users/bb/Miniconda3/envs/ARIA/lib/python3.7/site-packages/osgeo/gdal.py\", line 3308, in Open\r\n",
      "    return _gdal.Open(*args)\r\n",
      "RuntimeError: `/Users/bb/Software_InSAR/ARIA-tools-docs_git/JupyterDocs/ariaPlot/products/S1-GUNW-D-R-042-tops-20151120_20151027-140745-38456N_36481N-PP-50e2-v2_0_0.nc' not recognized as a supported file format.\r\n"
     ]
    }
   ],
   "source": [
    "!ariaPlot.py -f \"products/*.nc\"   --plotcoh --plotbperpcoh --makeavgoh"
   ]
  },
  {
   "cell_type": "markdown",
   "metadata": {
    "hidden": true
   },
   "source": [
    "The output are saved within the *figures* folder of the working directory."
   ]
  },
  {
   "cell_type": "code",
   "execution_count": 6,
   "metadata": {
    "hidden": true
   },
   "outputs": [
    {
     "name": "stdout",
     "output_type": "stream",
     "text": [
      "ls: figures: No such file or directory\r\n"
     ]
    }
   ],
   "source": [
    "!ls figures"
   ]
  },
  {
   "cell_type": "markdown",
   "metadata": {
    "heading_collapsed": true,
    "hidden": true
   },
   "source": [
    "### 1. Perpendicular baseline color-coded with average coherence (--plotbperpcoh)"
   ]
  },
  {
   "cell_type": "markdown",
   "metadata": {
    "hidden": true
   },
   "source": [
    "Here we visualize the perpendicular baseline figure (*bperp_plot.eps*) generated above. Black markers correspond to individual acquisitions, while lines correspond to interferograms with their color representing the average coherence. Interferograms with lower average coherence are more decorrelated and prone to unwrapping errors. Generally a seasonal pattern can be observed for the nearest neighbor interferograms.\n",
    "\n",
    "<img src=\"figures/bperp_coh_plot.eps\" alt=\"bperp_coherence\" width=\"700\">\n",
    "\n",
    "To generate this figure alone, run:\n",
    "```\n",
    "!ariaPlot.py -f \"products/*.nc\"  -plotbperpcoh\n",
    "```"
   ]
  },
  {
   "cell_type": "markdown",
   "metadata": {
    "heading_collapsed": true,
    "hidden": true
   },
   "source": [
    "###  2. Average interferogram coherence with time (--plotcoh)"
   ]
  },
  {
   "cell_type": "markdown",
   "metadata": {
    "hidden": true
   },
   "source": [
    "Here we visualize the average coherence for each interferogram with time (*avgcoherence_plot.eps*), as also calculated above. Black markers correspond to individual acquisitions, while lines correspond to interferograms with their color representing the average coherence. Interferograms with lower average coherence are more decorrelated and prone to unwrapping errors. Generally a seasonal pattern can be observed for the nearest neighbor interferograms.\n",
    "\n",
    "<img src=\"figures/avgcoherence_plot.eps\" alt=\"average_coherence\" width=\"800\">\n",
    "\n",
    "To generate this figure alone, run:\n",
    "```\n",
    "!ariaPlot.py -f \"products/*.nc\"  -plotcoh\n",
    "```"
   ]
  },
  {
   "cell_type": "markdown",
   "metadata": {
    "heading_collapsed": true,
    "hidden": true
   },
   "source": [
    "###  3. Average interferogram coherence raster (--makeavgoh)"
   ]
  },
  {
   "cell_type": "markdown",
   "metadata": {
    "hidden": true
   },
   "source": [
    "Here we visualize the average coherence raster of all interferograms, as calculated above and stored within the *figures* folder with the filename *avgcoherence*. This raster allows users to get an idea on which regions in their study area have low coherence (e.g. water bodies and vegetated settings). Regions with lower average coherence are more decorrelated and prone to unwrapping errors. Urban regions generally maintain a high coherence over time.\n",
    "\n",
    "To generate this raster alone, run:\n",
    "```\n",
    "!ariaPlot.py -f \"products/*.nc\"  -makeavgoh\n",
    "```"
   ]
  },
  {
   "cell_type": "code",
   "execution_count": 7,
   "metadata": {
    "hidden": true
   },
   "outputs": [
    {
     "ename": "AttributeError",
     "evalue": "'NoneType' object has no attribute 'GetGeoTransform'",
     "output_type": "error",
     "traceback": [
      "\u001b[0;31m---------------------------------------------------------------------------\u001b[0m",
      "\u001b[0;31mAttributeError\u001b[0m                            Traceback (most recent call last)",
      "\u001b[0;32m<ipython-input-7-dcea5d9f9dc1>\u001b[0m in \u001b[0;36m<module>\u001b[0;34m\u001b[0m\n\u001b[0;32m----> 1\u001b[0;31m \u001b[0mplot_layer\u001b[0m\u001b[0;34m(\u001b[0m\u001b[0;34m'figures/avgcoherence.vrt'\u001b[0m\u001b[0;34m,\u001b[0m\u001b[0;34m'coherence'\u001b[0m\u001b[0;34m)\u001b[0m\u001b[0;34m\u001b[0m\u001b[0;34m\u001b[0m\u001b[0m\n\u001b[0m",
      "\u001b[0;32m<ipython-input-1-1e4c24567888>\u001b[0m in \u001b[0;36mplot_layer\u001b[0;34m(path_layer, lay_type, cmap, **kwargs)\u001b[0m\n\u001b[1;32m     19\u001b[0m     \u001b[0;31m## get the lon lat bounds\u001b[0m\u001b[0;34m\u001b[0m\u001b[0;34m\u001b[0m\u001b[0;34m\u001b[0m\u001b[0m\n\u001b[1;32m     20\u001b[0m     \u001b[0mds\u001b[0m       \u001b[0;34m=\u001b[0m \u001b[0mgdal\u001b[0m\u001b[0;34m.\u001b[0m\u001b[0mOpen\u001b[0m\u001b[0;34m(\u001b[0m\u001b[0mpath_layer\u001b[0m\u001b[0;34m,\u001b[0m \u001b[0mgdal\u001b[0m\u001b[0;34m.\u001b[0m\u001b[0mGA_ReadOnly\u001b[0m\u001b[0;34m)\u001b[0m\u001b[0;34m\u001b[0m\u001b[0;34m\u001b[0m\u001b[0m\n\u001b[0;32m---> 21\u001b[0;31m     \u001b[0mtrans\u001b[0m    \u001b[0;34m=\u001b[0m \u001b[0mds\u001b[0m\u001b[0;34m.\u001b[0m\u001b[0mGetGeoTransform\u001b[0m\u001b[0;34m(\u001b[0m\u001b[0;34m)\u001b[0m\u001b[0;34m\u001b[0m\u001b[0;34m\u001b[0m\u001b[0m\n\u001b[0m\u001b[1;32m     22\u001b[0m     \u001b[0mextent\u001b[0m   \u001b[0;34m=\u001b[0m \u001b[0;34m[\u001b[0m\u001b[0mtrans\u001b[0m\u001b[0;34m[\u001b[0m\u001b[0;36m0\u001b[0m\u001b[0;34m]\u001b[0m\u001b[0;34m,\u001b[0m \u001b[0mtrans\u001b[0m\u001b[0;34m[\u001b[0m\u001b[0;36m0\u001b[0m\u001b[0;34m]\u001b[0m \u001b[0;34m+\u001b[0m \u001b[0mds\u001b[0m\u001b[0;34m.\u001b[0m\u001b[0mRasterXSize\u001b[0m \u001b[0;34m*\u001b[0m \u001b[0mtrans\u001b[0m\u001b[0;34m[\u001b[0m\u001b[0;36m1\u001b[0m\u001b[0;34m]\u001b[0m\u001b[0;34m,\u001b[0m \u001b[0mtrans\u001b[0m\u001b[0;34m[\u001b[0m\u001b[0;36m3\u001b[0m\u001b[0;34m]\u001b[0m \u001b[0;34m+\u001b[0m \u001b[0mds\u001b[0m\u001b[0;34m.\u001b[0m\u001b[0mRasterYSize\u001b[0m\u001b[0;34m*\u001b[0m\u001b[0mtrans\u001b[0m\u001b[0;34m[\u001b[0m\u001b[0;36m5\u001b[0m\u001b[0;34m]\u001b[0m\u001b[0;34m,\u001b[0m \u001b[0mtrans\u001b[0m\u001b[0;34m[\u001b[0m\u001b[0;36m3\u001b[0m\u001b[0;34m]\u001b[0m\u001b[0;34m]\u001b[0m\u001b[0;34m\u001b[0m\u001b[0;34m\u001b[0m\u001b[0m\n\u001b[1;32m     23\u001b[0m \u001b[0;34m\u001b[0m\u001b[0m\n",
      "\u001b[0;31mAttributeError\u001b[0m: 'NoneType' object has no attribute 'GetGeoTransform'"
     ]
    }
   ],
   "source": [
    "plot_layer('figures/avgcoherence.vrt','coherence')"
   ]
  },
  {
   "cell_type": "markdown",
   "metadata": {},
   "source": [
    "## Spatial coverage plots"
   ]
  },
  {
   "cell_type": "markdown",
   "metadata": {},
   "source": [
    "Users can analyze the spatial extent of interferograms over their study area by using the **` --plottracks`** option in **`ariaPlot.py`**. The spatial bounding box information is loaded on the fly from GUNW products."
   ]
  },
  {
   "cell_type": "code",
   "execution_count": null,
   "metadata": {},
   "outputs": [],
   "source": [
    "!ariaPlot.py -f 'products/*.nc' -plottracks"
   ]
  },
  {
   "cell_type": "markdown",
   "metadata": {},
   "source": [
    "###  1. Latitude extent of interferograms (--plottracks)"
   ]
  },
  {
   "cell_type": "markdown",
   "metadata": {},
   "source": [
    "Below we visualize the latitude extent as extracted above. Each vertical line shows the latitude extent of an interferogram, while the horizontal lines show the common intersection area between all interferograms as well as the final bounding box that is used in the processing. By default, the bounding box is set to the common intersection of all interferograms. Users can modify this default bounding box using the **`--bbox`** option as well as the **`--croptoptounion`**.\n",
    "\n",
    "<img src=\"figures/lat_extents.eps\" alt=\"Latitude_extents\" width=\"1000\">\n"
   ]
  }
 ],
 "metadata": {
  "kernelspec": {
   "display_name": "Python 3",
   "language": "python",
   "name": "python3"
  },
  "language_info": {
   "codemirror_mode": {
    "name": "ipython",
    "version": 3
   },
   "file_extension": ".py",
   "mimetype": "text/x-python",
   "name": "python",
   "nbconvert_exporter": "python",
   "pygments_lexer": "ipython3",
   "version": "3.7.6"
  },
  "latex_envs": {
   "LaTeX_envs_menu_present": true,
   "autoclose": false,
   "autocomplete": false,
   "bibliofile": "biblio.bib",
   "cite_by": "apalike",
   "current_citInitial": 1,
   "eqLabelWithNumbers": true,
   "eqNumInitial": 1,
   "hotkeys": {
    "equation": "Ctrl-E",
    "itemize": "Ctrl-I"
   },
   "labels_anchors": false,
   "latex_user_defs": false,
   "report_style_numbering": false,
   "user_envs_cfg": false
  }
 },
 "nbformat": 4,
 "nbformat_minor": 2
}
